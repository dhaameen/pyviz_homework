{
 "cells": [
  {
   "cell_type": "markdown",
   "metadata": {},
   "source": [
    "# Toronto Dwellings Analysis\n",
    "\n",
    "In this assignment, you will perform fundamental analysis for the Toronto dwellings market to allow potential real estate investors to choose rental investment properties."
   ]
  },
  {
   "cell_type": "code",
   "execution_count": 703,
   "metadata": {},
   "outputs": [],
   "source": [
    "# imports\n",
    "import panel as pn\n",
    "pn.extension('plotly')\n",
    "import plotly.express as px\n",
    "import pandas as pd\n",
    "import hvplot.pandas\n",
    "import matplotlib.pyplot as plt\n",
    "import os\n",
    "from pathlib import Path\n",
    "from dotenv import load_dotenv"
   ]
  },
  {
   "cell_type": "code",
   "execution_count": 734,
   "metadata": {},
   "outputs": [],
   "source": [
    "# Read the Mapbox API key\n",
    "load_dotenv()\n",
    "map_box_api = os.getenv(\"mapbox\")\n",
    "\n",
    "# Set the Mapbox API\n",
    "px.set_mapbox_access_token(map_box_api)"
   ]
  },
  {
   "cell_type": "markdown",
   "metadata": {},
   "source": [
    "## Load Data"
   ]
  },
  {
   "cell_type": "code",
   "execution_count": 705,
   "metadata": {},
   "outputs": [
    {
     "data": {
      "text/html": [
       "<div>\n",
       "<style scoped>\n",
       "    .dataframe tbody tr th:only-of-type {\n",
       "        vertical-align: middle;\n",
       "    }\n",
       "\n",
       "    .dataframe tbody tr th {\n",
       "        vertical-align: top;\n",
       "    }\n",
       "\n",
       "    .dataframe thead th {\n",
       "        text-align: right;\n",
       "    }\n",
       "</style>\n",
       "<table border=\"1\" class=\"dataframe\">\n",
       "  <thead>\n",
       "    <tr style=\"text-align: right;\">\n",
       "      <th></th>\n",
       "      <th>neighbourhood</th>\n",
       "      <th>single_detached_house</th>\n",
       "      <th>apartment_five_storeys_plus</th>\n",
       "      <th>movable_dwelling</th>\n",
       "      <th>semi_detached_house</th>\n",
       "      <th>row_house</th>\n",
       "      <th>duplex</th>\n",
       "      <th>apartment_five_storeys_less</th>\n",
       "      <th>other_house</th>\n",
       "      <th>average_house_value</th>\n",
       "      <th>shelter_costs_owned</th>\n",
       "      <th>shelter_costs_rented</th>\n",
       "    </tr>\n",
       "    <tr>\n",
       "      <th>year</th>\n",
       "      <th></th>\n",
       "      <th></th>\n",
       "      <th></th>\n",
       "      <th></th>\n",
       "      <th></th>\n",
       "      <th></th>\n",
       "      <th></th>\n",
       "      <th></th>\n",
       "      <th></th>\n",
       "      <th></th>\n",
       "      <th></th>\n",
       "      <th></th>\n",
       "    </tr>\n",
       "  </thead>\n",
       "  <tbody>\n",
       "    <tr>\n",
       "      <th>2001</th>\n",
       "      <td>Agincourt North</td>\n",
       "      <td>3715</td>\n",
       "      <td>1480</td>\n",
       "      <td>0</td>\n",
       "      <td>1055</td>\n",
       "      <td>1295</td>\n",
       "      <td>195</td>\n",
       "      <td>185</td>\n",
       "      <td>5</td>\n",
       "      <td>200388</td>\n",
       "      <td>810</td>\n",
       "      <td>870</td>\n",
       "    </tr>\n",
       "    <tr>\n",
       "      <th>2001</th>\n",
       "      <td>Agincourt South-Malvern West</td>\n",
       "      <td>3250</td>\n",
       "      <td>1835</td>\n",
       "      <td>0</td>\n",
       "      <td>545</td>\n",
       "      <td>455</td>\n",
       "      <td>105</td>\n",
       "      <td>425</td>\n",
       "      <td>0</td>\n",
       "      <td>203047</td>\n",
       "      <td>806</td>\n",
       "      <td>892</td>\n",
       "    </tr>\n",
       "    <tr>\n",
       "      <th>2001</th>\n",
       "      <td>Alderwood</td>\n",
       "      <td>3175</td>\n",
       "      <td>315</td>\n",
       "      <td>0</td>\n",
       "      <td>470</td>\n",
       "      <td>50</td>\n",
       "      <td>185</td>\n",
       "      <td>370</td>\n",
       "      <td>0</td>\n",
       "      <td>259998</td>\n",
       "      <td>817</td>\n",
       "      <td>924</td>\n",
       "    </tr>\n",
       "    <tr>\n",
       "      <th>2001</th>\n",
       "      <td>Annex</td>\n",
       "      <td>1060</td>\n",
       "      <td>6090</td>\n",
       "      <td>5</td>\n",
       "      <td>1980</td>\n",
       "      <td>605</td>\n",
       "      <td>275</td>\n",
       "      <td>3710</td>\n",
       "      <td>165</td>\n",
       "      <td>453850</td>\n",
       "      <td>1027</td>\n",
       "      <td>1378</td>\n",
       "    </tr>\n",
       "    <tr>\n",
       "      <th>2001</th>\n",
       "      <td>Banbury-Don Mills</td>\n",
       "      <td>3615</td>\n",
       "      <td>4465</td>\n",
       "      <td>0</td>\n",
       "      <td>240</td>\n",
       "      <td>380</td>\n",
       "      <td>15</td>\n",
       "      <td>1360</td>\n",
       "      <td>0</td>\n",
       "      <td>371864</td>\n",
       "      <td>1007</td>\n",
       "      <td>1163</td>\n",
       "    </tr>\n",
       "  </tbody>\n",
       "</table>\n",
       "</div>"
      ],
      "text/plain": [
       "                     neighbourhood  single_detached_house  \\\n",
       "year                                                        \n",
       "2001               Agincourt North                   3715   \n",
       "2001  Agincourt South-Malvern West                   3250   \n",
       "2001                     Alderwood                   3175   \n",
       "2001                         Annex                   1060   \n",
       "2001             Banbury-Don Mills                   3615   \n",
       "\n",
       "      apartment_five_storeys_plus  movable_dwelling  semi_detached_house  \\\n",
       "year                                                                       \n",
       "2001                         1480                 0                 1055   \n",
       "2001                         1835                 0                  545   \n",
       "2001                          315                 0                  470   \n",
       "2001                         6090                 5                 1980   \n",
       "2001                         4465                 0                  240   \n",
       "\n",
       "      row_house  duplex  apartment_five_storeys_less  other_house  \\\n",
       "year                                                                \n",
       "2001       1295     195                          185            5   \n",
       "2001        455     105                          425            0   \n",
       "2001         50     185                          370            0   \n",
       "2001        605     275                         3710          165   \n",
       "2001        380      15                         1360            0   \n",
       "\n",
       "      average_house_value  shelter_costs_owned  shelter_costs_rented  \n",
       "year                                                                  \n",
       "2001               200388                  810                   870  \n",
       "2001               203047                  806                   892  \n",
       "2001               259998                  817                   924  \n",
       "2001               453850                 1027                  1378  \n",
       "2001               371864                 1007                  1163  "
      ]
     },
     "execution_count": 705,
     "metadata": {},
     "output_type": "execute_result"
    }
   ],
   "source": [
    "# Read the census data into a Pandas DataFrame\n",
    "file_path = Path(\"Data/toronto_neighbourhoods_census_data.csv\")\n",
    "to_data = pd.read_csv(file_path, index_col=\"year\")\n",
    "to_data.head()"
   ]
  },
  {
   "cell_type": "markdown",
   "metadata": {},
   "source": [
    "- - - "
   ]
  },
  {
   "cell_type": "markdown",
   "metadata": {},
   "source": [
    "## Dwelling Types Per Year\n",
    "\n",
    "In this section, you will calculate the number of dwelling types per year. Visualize the results using bar charts and the Pandas plot function. \n",
    "\n",
    "**Hint:** Use the Pandas `groupby` function.\n",
    "\n",
    "**Optional challenge:** Plot each bar chart in a different color."
   ]
  },
  {
   "cell_type": "code",
   "execution_count": 706,
   "metadata": {},
   "outputs": [
    {
     "data": {
      "text/html": [
       "<div>\n",
       "<style scoped>\n",
       "    .dataframe tbody tr th:only-of-type {\n",
       "        vertical-align: middle;\n",
       "    }\n",
       "\n",
       "    .dataframe tbody tr th {\n",
       "        vertical-align: top;\n",
       "    }\n",
       "\n",
       "    .dataframe thead th {\n",
       "        text-align: right;\n",
       "    }\n",
       "</style>\n",
       "<table border=\"1\" class=\"dataframe\">\n",
       "  <thead>\n",
       "    <tr style=\"text-align: right;\">\n",
       "      <th></th>\n",
       "      <th>single_detached_house</th>\n",
       "      <th>apartment_five_storeys_plus</th>\n",
       "      <th>movable_dwelling</th>\n",
       "      <th>semi_detached_house</th>\n",
       "      <th>row_house</th>\n",
       "      <th>duplex</th>\n",
       "      <th>apartment_five_storeys_less</th>\n",
       "      <th>other_house</th>\n",
       "      <th>average_house_value</th>\n",
       "      <th>shelter_costs_owned</th>\n",
       "      <th>shelter_costs_rented</th>\n",
       "    </tr>\n",
       "    <tr>\n",
       "      <th>year</th>\n",
       "      <th></th>\n",
       "      <th></th>\n",
       "      <th></th>\n",
       "      <th></th>\n",
       "      <th></th>\n",
       "      <th></th>\n",
       "      <th></th>\n",
       "      <th></th>\n",
       "      <th></th>\n",
       "      <th></th>\n",
       "      <th></th>\n",
       "    </tr>\n",
       "  </thead>\n",
       "  <tbody>\n",
       "    <tr>\n",
       "      <th>2001</th>\n",
       "      <td>300930</td>\n",
       "      <td>355015</td>\n",
       "      <td>75</td>\n",
       "      <td>90995</td>\n",
       "      <td>52355</td>\n",
       "      <td>23785</td>\n",
       "      <td>116900</td>\n",
       "      <td>3040</td>\n",
       "      <td>40583604</td>\n",
       "      <td>118563</td>\n",
       "      <td>152031</td>\n",
       "    </tr>\n",
       "    <tr>\n",
       "      <th>2006</th>\n",
       "      <td>266860</td>\n",
       "      <td>379400</td>\n",
       "      <td>165</td>\n",
       "      <td>69430</td>\n",
       "      <td>54690</td>\n",
       "      <td>44095</td>\n",
       "      <td>162850</td>\n",
       "      <td>1335</td>\n",
       "      <td>59368353</td>\n",
       "      <td>184352</td>\n",
       "      <td>129558</td>\n",
       "    </tr>\n",
       "    <tr>\n",
       "      <th>2011</th>\n",
       "      <td>274940</td>\n",
       "      <td>429220</td>\n",
       "      <td>100</td>\n",
       "      <td>72480</td>\n",
       "      <td>60355</td>\n",
       "      <td>44750</td>\n",
       "      <td>163895</td>\n",
       "      <td>2165</td>\n",
       "      <td>74259461</td>\n",
       "      <td>202750</td>\n",
       "      <td>142771</td>\n",
       "    </tr>\n",
       "    <tr>\n",
       "      <th>2016</th>\n",
       "      <td>269680</td>\n",
       "      <td>493270</td>\n",
       "      <td>95</td>\n",
       "      <td>71200</td>\n",
       "      <td>61565</td>\n",
       "      <td>48585</td>\n",
       "      <td>165575</td>\n",
       "      <td>2845</td>\n",
       "      <td>92969566</td>\n",
       "      <td>246584</td>\n",
       "      <td>175885</td>\n",
       "    </tr>\n",
       "  </tbody>\n",
       "</table>\n",
       "</div>"
      ],
      "text/plain": [
       "      single_detached_house  apartment_five_storeys_plus  movable_dwelling  \\\n",
       "year                                                                         \n",
       "2001                 300930                       355015                75   \n",
       "2006                 266860                       379400               165   \n",
       "2011                 274940                       429220               100   \n",
       "2016                 269680                       493270                95   \n",
       "\n",
       "      semi_detached_house  row_house  duplex  apartment_five_storeys_less  \\\n",
       "year                                                                        \n",
       "2001                90995      52355   23785                       116900   \n",
       "2006                69430      54690   44095                       162850   \n",
       "2011                72480      60355   44750                       163895   \n",
       "2016                71200      61565   48585                       165575   \n",
       "\n",
       "      other_house  average_house_value  shelter_costs_owned  \\\n",
       "year                                                          \n",
       "2001         3040             40583604               118563   \n",
       "2006         1335             59368353               184352   \n",
       "2011         2165             74259461               202750   \n",
       "2016         2845             92969566               246584   \n",
       "\n",
       "      shelter_costs_rented  \n",
       "year                        \n",
       "2001                152031  \n",
       "2006                129558  \n",
       "2011                142771  \n",
       "2016                175885  "
      ]
     },
     "execution_count": 706,
     "metadata": {},
     "output_type": "execute_result"
    }
   ],
   "source": [
    "# Calculate the sum number of dwelling types units per year (hint: use groupby)\n",
    "dwelling_info = to_data.groupby('year').sum()\n",
    "dwelling_info.head()"
   ]
  },
  {
   "cell_type": "code",
   "execution_count": 707,
   "metadata": {},
   "outputs": [
    {
     "data": {
      "text/html": [
       "<div>\n",
       "<style scoped>\n",
       "    .dataframe tbody tr th:only-of-type {\n",
       "        vertical-align: middle;\n",
       "    }\n",
       "\n",
       "    .dataframe tbody tr th {\n",
       "        vertical-align: top;\n",
       "    }\n",
       "\n",
       "    .dataframe thead th {\n",
       "        text-align: right;\n",
       "    }\n",
       "</style>\n",
       "<table border=\"1\" class=\"dataframe\">\n",
       "  <thead>\n",
       "    <tr style=\"text-align: right;\">\n",
       "      <th></th>\n",
       "      <th>single_detached_house</th>\n",
       "      <th>apartment_five_storeys_plus</th>\n",
       "      <th>movable_dwelling</th>\n",
       "      <th>semi_detached_house</th>\n",
       "      <th>row_house</th>\n",
       "      <th>duplex</th>\n",
       "      <th>apartment_five_storeys_less</th>\n",
       "      <th>other_house</th>\n",
       "    </tr>\n",
       "    <tr>\n",
       "      <th>year</th>\n",
       "      <th></th>\n",
       "      <th></th>\n",
       "      <th></th>\n",
       "      <th></th>\n",
       "      <th></th>\n",
       "      <th></th>\n",
       "      <th></th>\n",
       "      <th></th>\n",
       "    </tr>\n",
       "  </thead>\n",
       "  <tbody>\n",
       "    <tr>\n",
       "      <th>2001</th>\n",
       "      <td>300930</td>\n",
       "      <td>355015</td>\n",
       "      <td>75</td>\n",
       "      <td>90995</td>\n",
       "      <td>52355</td>\n",
       "      <td>23785</td>\n",
       "      <td>116900</td>\n",
       "      <td>3040</td>\n",
       "    </tr>\n",
       "    <tr>\n",
       "      <th>2006</th>\n",
       "      <td>266860</td>\n",
       "      <td>379400</td>\n",
       "      <td>165</td>\n",
       "      <td>69430</td>\n",
       "      <td>54690</td>\n",
       "      <td>44095</td>\n",
       "      <td>162850</td>\n",
       "      <td>1335</td>\n",
       "    </tr>\n",
       "    <tr>\n",
       "      <th>2011</th>\n",
       "      <td>274940</td>\n",
       "      <td>429220</td>\n",
       "      <td>100</td>\n",
       "      <td>72480</td>\n",
       "      <td>60355</td>\n",
       "      <td>44750</td>\n",
       "      <td>163895</td>\n",
       "      <td>2165</td>\n",
       "    </tr>\n",
       "    <tr>\n",
       "      <th>2016</th>\n",
       "      <td>269680</td>\n",
       "      <td>493270</td>\n",
       "      <td>95</td>\n",
       "      <td>71200</td>\n",
       "      <td>61565</td>\n",
       "      <td>48585</td>\n",
       "      <td>165575</td>\n",
       "      <td>2845</td>\n",
       "    </tr>\n",
       "  </tbody>\n",
       "</table>\n",
       "</div>"
      ],
      "text/plain": [
       "      single_detached_house  apartment_five_storeys_plus  movable_dwelling  \\\n",
       "year                                                                         \n",
       "2001                 300930                       355015                75   \n",
       "2006                 266860                       379400               165   \n",
       "2011                 274940                       429220               100   \n",
       "2016                 269680                       493270                95   \n",
       "\n",
       "      semi_detached_house  row_house  duplex  apartment_five_storeys_less  \\\n",
       "year                                                                        \n",
       "2001                90995      52355   23785                       116900   \n",
       "2006                69430      54690   44095                       162850   \n",
       "2011                72480      60355   44750                       163895   \n",
       "2016                71200      61565   48585                       165575   \n",
       "\n",
       "      other_house  \n",
       "year               \n",
       "2001         3040  \n",
       "2006         1335  \n",
       "2011         2165  \n",
       "2016         2845  "
      ]
     },
     "execution_count": 707,
     "metadata": {},
     "output_type": "execute_result"
    }
   ],
   "source": [
    "# Save the dataframe as a csv file\n",
    "dwelling_info.to_csv('toronto_dwelling_info_by_year.csv')\n",
    "\n",
    "#set data\n",
    "dwelling_types = dwelling_info.drop(dwelling_info.columns[8:11], axis = 1)\n",
    "dwelling_types"
   ]
  },
  {
   "cell_type": "code",
   "execution_count": 709,
   "metadata": {},
   "outputs": [
    {
     "data": {},
     "metadata": {},
     "output_type": "display_data"
    },
    {
     "data": {},
     "metadata": {},
     "output_type": "display_data"
    },
    {
     "data": {
      "application/vnd.holoviews_exec.v0+json": "",
      "text/html": [
       "<div id='34778'>\n",
       "\n",
       "\n",
       "\n",
       "\n",
       "\n",
       "  <div class=\"bk-root\" id=\"60959e06-7660-43ea-ba8e-fe9b6a981c32\" data-root-id=\"34778\"></div>\n",
       "</div>\n",
       "<script type=\"application/javascript\">(function(root) {\n",
       "  function embed_document(root) {\n",
       "    var docs_json = {\"3c6cc7db-4c39-47b1-89e4-054234166c46\":{\"defs\":[{\"extends\":null,\"module\":null,\"name\":\"ReactiveHTML1\",\"overrides\":[],\"properties\":[]},{\"extends\":null,\"module\":null,\"name\":\"FlexBox1\",\"overrides\":[],\"properties\":[{\"default\":\"flex-start\",\"kind\":null,\"name\":\"align_content\"},{\"default\":\"flex-start\",\"kind\":null,\"name\":\"align_items\"},{\"default\":\"row\",\"kind\":null,\"name\":\"flex_direction\"},{\"default\":\"wrap\",\"kind\":null,\"name\":\"flex_wrap\"},{\"default\":\"flex-start\",\"kind\":null,\"name\":\"justify_content\"}]},{\"extends\":null,\"module\":null,\"name\":\"TemplateActions1\",\"overrides\":[],\"properties\":[{\"default\":0,\"kind\":null,\"name\":\"open_modal\"},{\"default\":0,\"kind\":null,\"name\":\"close_modal\"}]},{\"extends\":null,\"module\":null,\"name\":\"MaterialTemplateActions1\",\"overrides\":[],\"properties\":[{\"default\":0,\"kind\":null,\"name\":\"open_modal\"},{\"default\":0,\"kind\":null,\"name\":\"close_modal\"}]}],\"roots\":{\"references\":[{\"attributes\":{\"tools\":[{\"id\":\"34983\"},{\"id\":\"35000\"},{\"id\":\"35001\"},{\"id\":\"35002\"},{\"id\":\"35003\"},{\"id\":\"35004\"}]},\"id\":\"35006\",\"type\":\"Toolbar\"},{\"attributes\":{},\"id\":\"34803\",\"type\":\"ResetTool\"},{\"attributes\":{\"tools\":[{\"id\":\"34916\"},{\"id\":\"34933\"},{\"id\":\"34934\"},{\"id\":\"34935\"},{\"id\":\"34936\"},{\"id\":\"34937\"}]},\"id\":\"34939\",\"type\":\"Toolbar\"},{\"attributes\":{\"bottom_units\":\"screen\",\"coordinates\":null,\"fill_alpha\":0.5,\"fill_color\":\"lightgrey\",\"group\":null,\"left_units\":\"screen\",\"level\":\"overlay\",\"line_alpha\":1.0,\"line_color\":\"black\",\"line_dash\":[4,4],\"line_width\":2,\"right_units\":\"screen\",\"syncable\":false,\"top_units\":\"screen\"},\"id\":\"34938\",\"type\":\"BoxAnnotation\"},{\"attributes\":{\"tools\":[{\"id\":\"34782\"},{\"id\":\"34799\"},{\"id\":\"34800\"},{\"id\":\"34801\"},{\"id\":\"34802\"},{\"id\":\"34803\"}]},\"id\":\"34805\",\"type\":\"Toolbar\"},{\"attributes\":{\"below\":[{\"id\":\"34926\"}],\"center\":[{\"id\":\"34928\"},{\"id\":\"34932\"}],\"height\":300,\"left\":[{\"id\":\"34929\"}],\"margin\":[5,5,5,5],\"min_border_bottom\":10,\"min_border_left\":10,\"min_border_right\":10,\"min_border_top\":10,\"renderers\":[{\"id\":\"34952\"}],\"sizing_mode\":\"fixed\",\"title\":{\"id\":\"34918\"},\"toolbar\":{\"id\":\"34939\"},\"width\":700,\"x_range\":{\"id\":\"34780\"},\"x_scale\":{\"id\":\"34922\"},\"y_range\":{\"id\":\"34915\"},\"y_scale\":{\"id\":\"34924\"}},\"id\":\"34917\",\"subtype\":\"Figure\",\"type\":\"Plot\"},{\"attributes\":{\"bottom_units\":\"screen\",\"coordinates\":null,\"fill_alpha\":0.5,\"fill_color\":\"lightgrey\",\"group\":null,\"left_units\":\"screen\",\"level\":\"overlay\",\"line_alpha\":1.0,\"line_color\":\"black\",\"line_dash\":[4,4],\"line_width\":2,\"right_units\":\"screen\",\"syncable\":false,\"top_units\":\"screen\"},\"id\":\"34804\",\"type\":\"BoxAnnotation\"},{\"attributes\":{},\"id\":\"34947\",\"type\":\"Selection\"},{\"attributes\":{\"children\":[{\"id\":\"34779\"},{\"id\":\"34783\"},{\"id\":\"34850\"},{\"id\":\"34917\"},{\"id\":\"34984\"}],\"margin\":[0,0,0,0],\"name\":\"Column69514\"},\"id\":\"34778\",\"type\":\"Column\"},{\"attributes\":{},\"id\":\"35027\",\"type\":\"AllLabels\"},{\"attributes\":{},\"id\":\"34960\",\"type\":\"AllLabels\"},{\"attributes\":{\"below\":[{\"id\":\"34859\"}],\"center\":[{\"id\":\"34861\"},{\"id\":\"34865\"}],\"height\":300,\"left\":[{\"id\":\"34862\"}],\"margin\":[5,5,5,5],\"min_border_bottom\":10,\"min_border_left\":10,\"min_border_right\":10,\"min_border_top\":10,\"renderers\":[{\"id\":\"34885\"}],\"sizing_mode\":\"fixed\",\"title\":{\"id\":\"34851\"},\"toolbar\":{\"id\":\"34872\"},\"width\":700,\"x_range\":{\"id\":\"34780\"},\"x_scale\":{\"id\":\"34855\"},\"y_range\":{\"id\":\"34848\"},\"y_scale\":{\"id\":\"34857\"}},\"id\":\"34850\",\"subtype\":\"Figure\",\"type\":\"Plot\"},{\"attributes\":{\"bottom\":{\"value\":0},\"fill_alpha\":{\"value\":1.0},\"fill_color\":{\"value\":\"orange\"},\"hatch_alpha\":{\"value\":1.0},\"hatch_color\":{\"value\":\"orange\"},\"hatch_scale\":{\"value\":12.0},\"hatch_weight\":{\"value\":1.0},\"line_alpha\":{\"value\":1.0},\"line_cap\":{\"value\":\"butt\"},\"line_color\":{\"value\":\"black\"},\"line_dash\":{\"value\":[]},\"line_dash_offset\":{\"value\":0},\"line_join\":{\"value\":\"bevel\"},\"line_width\":{\"value\":1},\"top\":{\"field\":\"A_2011\"},\"width\":{\"value\":0.8},\"x\":{\"field\":\"index\"}},\"id\":\"34954\",\"type\":\"VBar\"},{\"attributes\":{\"client_comm_id\":\"370f4ff568bd476c94ac7ae76902d5fb\",\"comm_id\":\"0d6786bacd604099ac03ee5532ffc480\",\"plot_id\":\"34778\"},\"id\":\"35168\",\"type\":\"panel.models.comm_manager.CommManager\"},{\"attributes\":{\"bottom\":{\"value\":0},\"fill_alpha\":{\"value\":1.0},\"fill_color\":{\"value\":\"blue\"},\"hatch_alpha\":{\"value\":1.0},\"hatch_color\":{\"value\":\"blue\"},\"hatch_scale\":{\"value\":12.0},\"hatch_weight\":{\"value\":1.0},\"line_alpha\":{\"value\":1.0},\"line_cap\":{\"value\":\"butt\"},\"line_color\":{\"value\":\"black\"},\"line_dash\":{\"value\":[]},\"line_dash_offset\":{\"value\":0},\"line_join\":{\"value\":\"bevel\"},\"line_width\":{\"value\":1},\"top\":{\"field\":\"A_2001\"},\"width\":{\"value\":0.8},\"x\":{\"field\":\"index\"}},\"id\":\"34820\",\"type\":\"VBar\"},{\"attributes\":{},\"id\":\"34825\",\"type\":\"BasicTickFormatter\"},{\"attributes\":{},\"id\":\"34989\",\"type\":\"CategoricalScale\"},{\"attributes\":{},\"id\":\"34826\",\"type\":\"AllLabels\"},{\"attributes\":{},\"id\":\"34922\",\"type\":\"CategoricalScale\"},{\"attributes\":{},\"id\":\"34959\",\"type\":\"BasicTickFormatter\"},{\"attributes\":{},\"id\":\"34855\",\"type\":\"CategoricalScale\"},{\"attributes\":{\"fill_alpha\":{\"value\":0.1},\"fill_color\":{\"value\":\"red\"},\"hatch_alpha\":{\"value\":0.1},\"hatch_color\":{\"value\":\"red\"},\"line_alpha\":{\"value\":0.1},\"top\":{\"field\":\"A_2006\"},\"width\":{\"value\":0.8},\"x\":{\"field\":\"index\"}},\"id\":\"34883\",\"type\":\"VBar\"},{\"attributes\":{},\"id\":\"34890\",\"type\":\"AllLabels\"},{\"attributes\":{\"fill_alpha\":{\"value\":0.1},\"fill_color\":{\"value\":\"orange\"},\"hatch_alpha\":{\"value\":0.1},\"hatch_color\":{\"value\":\"orange\"},\"line_alpha\":{\"value\":0.1},\"top\":{\"field\":\"A_2011\"},\"width\":{\"value\":0.8},\"x\":{\"field\":\"index\"}},\"id\":\"34950\",\"type\":\"VBar\"},{\"attributes\":{\"coordinates\":null,\"data_source\":{\"id\":\"34946\"},\"glyph\":{\"id\":\"34949\"},\"group\":null,\"hover_glyph\":null,\"muted_glyph\":{\"id\":\"34951\"},\"nonselection_glyph\":{\"id\":\"34950\"},\"selection_glyph\":{\"id\":\"34954\"},\"view\":{\"id\":\"34953\"}},\"id\":\"34952\",\"type\":\"GlyphRenderer\"},{\"attributes\":{\"coordinates\":null,\"data_source\":{\"id\":\"34879\"},\"glyph\":{\"id\":\"34882\"},\"group\":null,\"hover_glyph\":null,\"muted_glyph\":{\"id\":\"34884\"},\"nonselection_glyph\":{\"id\":\"34883\"},\"selection_glyph\":{\"id\":\"34887\"},\"view\":{\"id\":\"34886\"}},\"id\":\"34885\",\"type\":\"GlyphRenderer\"},{\"attributes\":{},\"id\":\"34957\",\"type\":\"AllLabels\"},{\"attributes\":{\"axis_label\":\"Dwelling Type\",\"coordinates\":null,\"formatter\":{\"id\":\"34956\"},\"group\":null,\"major_label_orientation\":1.5707963267948966,\"major_label_policy\":{\"id\":\"34957\"},\"ticker\":{\"id\":\"34927\"}},\"id\":\"34926\",\"type\":\"CategoricalAxis\"},{\"attributes\":{\"axis_label\":\"Dwelling Type\",\"coordinates\":null,\"formatter\":{\"id\":\"34889\"},\"group\":null,\"major_label_orientation\":1.5707963267948966,\"major_label_policy\":{\"id\":\"34890\"},\"ticker\":{\"id\":\"34860\"}},\"id\":\"34859\",\"type\":\"CategoricalAxis\"},{\"attributes\":{\"axis\":{\"id\":\"34926\"},\"coordinates\":null,\"grid_line_color\":null,\"group\":null,\"ticker\":null},\"id\":\"34928\",\"type\":\"Grid\"},{\"attributes\":{},\"id\":\"34822\",\"type\":\"CategoricalTickFormatter\"},{\"attributes\":{\"coordinates\":null,\"group\":null,\"text\":\"Dwelling Types in 2011\",\"text_color\":\"black\",\"text_font_size\":\"12pt\"},\"id\":\"34918\",\"type\":\"Title\"},{\"attributes\":{\"axis\":{\"id\":\"34859\"},\"coordinates\":null,\"grid_line_color\":null,\"group\":null,\"ticker\":null},\"id\":\"34861\",\"type\":\"Grid\"},{\"attributes\":{},\"id\":\"35023\",\"type\":\"CategoricalTickFormatter\"},{\"attributes\":{\"coordinates\":null,\"group\":null,\"text\":\"Dwelling Types in 2006\",\"text_color\":\"black\",\"text_font_size\":\"12pt\"},\"id\":\"34851\",\"type\":\"Title\"},{\"attributes\":{},\"id\":\"34788\",\"type\":\"CategoricalScale\"},{\"attributes\":{},\"id\":\"34924\",\"type\":\"LinearScale\"},{\"attributes\":{},\"id\":\"34930\",\"type\":\"BasicTicker\"},{\"attributes\":{},\"id\":\"34857\",\"type\":\"LinearScale\"},{\"attributes\":{},\"id\":\"34927\",\"type\":\"CategoricalTicker\"},{\"attributes\":{},\"id\":\"34863\",\"type\":\"BasicTicker\"},{\"attributes\":{\"axis_label\":\"Amount\",\"coordinates\":null,\"formatter\":{\"id\":\"34959\"},\"group\":null,\"major_label_policy\":{\"id\":\"34960\"},\"ticker\":{\"id\":\"34930\"}},\"id\":\"34929\",\"type\":\"LinearAxis\"},{\"attributes\":{},\"id\":\"34860\",\"type\":\"CategoricalTicker\"},{\"attributes\":{},\"id\":\"35035\",\"type\":\"UnionRenderers\"},{\"attributes\":{\"axis_label\":\"Amount\",\"coordinates\":null,\"formatter\":{\"id\":\"34892\"},\"group\":null,\"major_label_policy\":{\"id\":\"34893\"},\"ticker\":{\"id\":\"34863\"}},\"id\":\"34862\",\"type\":\"LinearAxis\"},{\"attributes\":{\"axis\":{\"id\":\"34929\"},\"coordinates\":null,\"dimension\":1,\"grid_line_color\":null,\"group\":null,\"ticker\":null},\"id\":\"34932\",\"type\":\"Grid\"},{\"attributes\":{\"source\":{\"id\":\"34946\"}},\"id\":\"34953\",\"type\":\"CDSView\"},{\"attributes\":{\"axis\":{\"id\":\"34862\"},\"coordinates\":null,\"dimension\":1,\"grid_line_color\":null,\"group\":null,\"ticker\":null},\"id\":\"34865\",\"type\":\"Grid\"},{\"attributes\":{\"source\":{\"id\":\"34879\"}},\"id\":\"34886\",\"type\":\"CDSView\"},{\"attributes\":{},\"id\":\"34956\",\"type\":\"CategoricalTickFormatter\"},{\"attributes\":{\"callback\":null,\"renderers\":[{\"id\":\"34952\"}],\"tags\":[\"hv_created\"],\"tooltips\":[[\"index\",\"@{index}\"],[\"2011\",\"@{A_2011}\"]]},\"id\":\"34916\",\"type\":\"HoverTool\"},{\"attributes\":{\"fill_alpha\":{\"value\":0.2},\"fill_color\":{\"value\":\"orange\"},\"hatch_alpha\":{\"value\":0.2},\"hatch_color\":{\"value\":\"orange\"},\"line_alpha\":{\"value\":0.2},\"top\":{\"field\":\"A_2011\"},\"width\":{\"value\":0.8},\"x\":{\"field\":\"index\"}},\"id\":\"34951\",\"type\":\"VBar\"},{\"attributes\":{},\"id\":\"34968\",\"type\":\"UnionRenderers\"},{\"attributes\":{\"fill_alpha\":{\"value\":0.2},\"fill_color\":{\"value\":\"red\"},\"hatch_alpha\":{\"value\":0.2},\"hatch_color\":{\"value\":\"red\"},\"line_alpha\":{\"value\":0.2},\"top\":{\"field\":\"A_2006\"},\"width\":{\"value\":0.8},\"x\":{\"field\":\"index\"}},\"id\":\"34884\",\"type\":\"VBar\"},{\"attributes\":{},\"id\":\"34933\",\"type\":\"SaveTool\"},{\"attributes\":{\"data\":{\"A_2011\":[274940,429220,100,72480,60355,44750,163895,2165],\"index\":[\"single_detached_house\",\"apartment_five_storeys_plus\",\"movable_dwelling\",\"semi_detached_house\",\"row_house\",\"duplex\",\"apartment_five_storeys_less\",\"other_house\"]},\"selected\":{\"id\":\"34947\"},\"selection_policy\":{\"id\":\"34968\"}},\"id\":\"34946\",\"type\":\"ColumnDataSource\"},{\"attributes\":{},\"id\":\"34934\",\"type\":\"PanTool\"},{\"attributes\":{\"end\":472132.0,\"reset_end\":472132.0,\"reset_start\":0.0,\"tags\":[[[\"2011\",\"2011\",null]]]},\"id\":\"34915\",\"type\":\"Range1d\"},{\"attributes\":{},\"id\":\"34866\",\"type\":\"SaveTool\"},{\"attributes\":{},\"id\":\"34937\",\"type\":\"ResetTool\"},{\"attributes\":{},\"id\":\"34867\",\"type\":\"PanTool\"},{\"attributes\":{},\"id\":\"34935\",\"type\":\"WheelZoomTool\"},{\"attributes\":{},\"id\":\"34868\",\"type\":\"WheelZoomTool\"},{\"attributes\":{\"overlay\":{\"id\":\"34938\"}},\"id\":\"34936\",\"type\":\"BoxZoomTool\"},{\"attributes\":{},\"id\":\"34834\",\"type\":\"UnionRenderers\"},{\"attributes\":{\"overlay\":{\"id\":\"34871\"}},\"id\":\"34869\",\"type\":\"BoxZoomTool\"},{\"attributes\":{\"fill_color\":{\"value\":\"orange\"},\"hatch_color\":{\"value\":\"orange\"},\"top\":{\"field\":\"A_2011\"},\"width\":{\"value\":0.8},\"x\":{\"field\":\"index\"}},\"id\":\"34949\",\"type\":\"VBar\"},{\"attributes\":{\"css_classes\":[\"markdown\"],\"margin\":[5,5,5,5],\"name\":\"Markdown69492\",\"style\":{\"color\":\"white\",\"font-family\":\"serif\"},\"text\":\"&lt;h1&gt;Toronto Dwelling Type Charts Per Year&lt;/h1&gt;\"},\"id\":\"34779\",\"type\":\"panel.models.markup.HTML\"},{\"attributes\":{\"below\":[{\"id\":\"34993\"}],\"center\":[{\"id\":\"34995\"},{\"id\":\"34999\"}],\"height\":300,\"left\":[{\"id\":\"34996\"}],\"margin\":[5,5,5,5],\"min_border_bottom\":10,\"min_border_left\":10,\"min_border_right\":10,\"min_border_top\":10,\"renderers\":[{\"id\":\"35019\"}],\"sizing_mode\":\"fixed\",\"title\":{\"id\":\"34985\"},\"toolbar\":{\"id\":\"35006\"},\"width\":700,\"x_range\":{\"id\":\"34780\"},\"x_scale\":{\"id\":\"34989\"},\"y_range\":{\"id\":\"34982\"},\"y_scale\":{\"id\":\"34991\"}},\"id\":\"34984\",\"subtype\":\"Figure\",\"type\":\"Plot\"},{\"attributes\":{\"fill_color\":{\"value\":\"red\"},\"hatch_color\":{\"value\":\"red\"},\"top\":{\"field\":\"A_2006\"},\"width\":{\"value\":0.8},\"x\":{\"field\":\"index\"}},\"id\":\"34882\",\"type\":\"VBar\"},{\"attributes\":{\"end\":390509.0,\"reset_end\":390509.0,\"reset_start\":0.0,\"tags\":[[[\"2001\",\"2001\",null]]]},\"id\":\"34781\",\"type\":\"Range1d\"},{\"attributes\":{},\"id\":\"34870\",\"type\":\"ResetTool\"},{\"attributes\":{\"tools\":[{\"id\":\"34849\"},{\"id\":\"34866\"},{\"id\":\"34867\"},{\"id\":\"34868\"},{\"id\":\"34869\"},{\"id\":\"34870\"}]},\"id\":\"34872\",\"type\":\"Toolbar\"},{\"attributes\":{\"data\":{\"A_2016\":[269680,493270,95,71200,61565,48585,165575,2845],\"index\":[\"single_detached_house\",\"apartment_five_storeys_plus\",\"movable_dwelling\",\"semi_detached_house\",\"row_house\",\"duplex\",\"apartment_five_storeys_less\",\"other_house\"]},\"selected\":{\"id\":\"35014\"},\"selection_policy\":{\"id\":\"35035\"}},\"id\":\"35013\",\"type\":\"ColumnDataSource\"},{\"attributes\":{\"callback\":null,\"renderers\":[{\"id\":\"34885\"}],\"tags\":[\"hv_created\"],\"tooltips\":[[\"index\",\"@{index}\"],[\"2006\",\"@{A_2006}\"]]},\"id\":\"34849\",\"type\":\"HoverTool\"},{\"attributes\":{\"bottom_units\":\"screen\",\"coordinates\":null,\"fill_alpha\":0.5,\"fill_color\":\"lightgrey\",\"group\":null,\"left_units\":\"screen\",\"level\":\"overlay\",\"line_alpha\":1.0,\"line_color\":\"black\",\"line_dash\":[4,4],\"line_width\":2,\"right_units\":\"screen\",\"syncable\":false,\"top_units\":\"screen\"},\"id\":\"34871\",\"type\":\"BoxAnnotation\"},{\"attributes\":{},\"id\":\"35014\",\"type\":\"Selection\"},{\"attributes\":{},\"id\":\"34813\",\"type\":\"Selection\"},{\"attributes\":{},\"id\":\"34893\",\"type\":\"AllLabels\"},{\"attributes\":{\"bottom\":{\"value\":0},\"fill_alpha\":{\"value\":1.0},\"fill_color\":{\"value\":\"red\"},\"hatch_alpha\":{\"value\":1.0},\"hatch_color\":{\"value\":\"red\"},\"hatch_scale\":{\"value\":12.0},\"hatch_weight\":{\"value\":1.0},\"line_alpha\":{\"value\":1.0},\"line_cap\":{\"value\":\"butt\"},\"line_color\":{\"value\":\"black\"},\"line_dash\":{\"value\":[]},\"line_dash_offset\":{\"value\":0},\"line_join\":{\"value\":\"bevel\"},\"line_width\":{\"value\":1},\"top\":{\"field\":\"A_2006\"},\"width\":{\"value\":0.8},\"x\":{\"field\":\"index\"}},\"id\":\"34887\",\"type\":\"VBar\"},{\"attributes\":{\"coordinates\":null,\"group\":null,\"text\":\"Dwelling Types in 2001\",\"text_color\":\"black\",\"text_font_size\":\"12pt\"},\"id\":\"34784\",\"type\":\"Title\"},{\"attributes\":{\"coordinates\":null,\"data_source\":{\"id\":\"35013\"},\"glyph\":{\"id\":\"35016\"},\"group\":null,\"hover_glyph\":null,\"muted_glyph\":{\"id\":\"35018\"},\"nonselection_glyph\":{\"id\":\"35017\"},\"selection_glyph\":{\"id\":\"35021\"},\"view\":{\"id\":\"35020\"}},\"id\":\"35019\",\"type\":\"GlyphRenderer\"},{\"attributes\":{\"source\":{\"id\":\"34812\"}},\"id\":\"34819\",\"type\":\"CDSView\"},{\"attributes\":{},\"id\":\"34892\",\"type\":\"BasicTickFormatter\"},{\"attributes\":{\"axis_label\":\"Dwelling Type\",\"coordinates\":null,\"formatter\":{\"id\":\"35023\"},\"group\":null,\"major_label_orientation\":1.5707963267948966,\"major_label_policy\":{\"id\":\"35024\"},\"ticker\":{\"id\":\"34994\"}},\"id\":\"34993\",\"type\":\"CategoricalAxis\"},{\"attributes\":{\"callback\":null,\"renderers\":[{\"id\":\"34818\"}],\"tags\":[\"hv_created\"],\"tooltips\":[[\"index\",\"@{index}\"],[\"2001\",\"@{A_2001}\"]]},\"id\":\"34782\",\"type\":\"HoverTool\"},{\"attributes\":{\"axis\":{\"id\":\"34993\"},\"coordinates\":null,\"grid_line_color\":null,\"group\":null,\"ticker\":null},\"id\":\"34995\",\"type\":\"Grid\"},{\"attributes\":{\"coordinates\":null,\"group\":null,\"text\":\"Dwelling Types in 2016\",\"text_color\":\"black\",\"text_font_size\":\"12pt\"},\"id\":\"34985\",\"type\":\"Title\"},{\"attributes\":{\"coordinates\":null,\"data_source\":{\"id\":\"34812\"},\"glyph\":{\"id\":\"34815\"},\"group\":null,\"hover_glyph\":null,\"muted_glyph\":{\"id\":\"34817\"},\"nonselection_glyph\":{\"id\":\"34816\"},\"selection_glyph\":{\"id\":\"34820\"},\"view\":{\"id\":\"34819\"}},\"id\":\"34818\",\"type\":\"GlyphRenderer\"},{\"attributes\":{},\"id\":\"34823\",\"type\":\"AllLabels\"},{\"attributes\":{},\"id\":\"34991\",\"type\":\"LinearScale\"},{\"attributes\":{\"below\":[{\"id\":\"34792\"}],\"center\":[{\"id\":\"34794\"},{\"id\":\"34798\"}],\"height\":300,\"left\":[{\"id\":\"34795\"}],\"margin\":[5,5,5,5],\"min_border_bottom\":10,\"min_border_left\":10,\"min_border_right\":10,\"min_border_top\":10,\"renderers\":[{\"id\":\"34818\"}],\"sizing_mode\":\"fixed\",\"title\":{\"id\":\"34784\"},\"toolbar\":{\"id\":\"34805\"},\"width\":700,\"x_range\":{\"id\":\"34780\"},\"x_scale\":{\"id\":\"34788\"},\"y_range\":{\"id\":\"34781\"},\"y_scale\":{\"id\":\"34790\"}},\"id\":\"34783\",\"subtype\":\"Figure\",\"type\":\"Plot\"},{\"attributes\":{},\"id\":\"34997\",\"type\":\"BasicTicker\"},{\"attributes\":{\"axis_label\":\"Dwelling Type\",\"coordinates\":null,\"formatter\":{\"id\":\"34822\"},\"group\":null,\"major_label_orientation\":1.5707963267948966,\"major_label_policy\":{\"id\":\"34823\"},\"ticker\":{\"id\":\"34793\"}},\"id\":\"34792\",\"type\":\"CategoricalAxis\"},{\"attributes\":{},\"id\":\"34994\",\"type\":\"CategoricalTicker\"},{\"attributes\":{\"callback\":null,\"renderers\":[{\"id\":\"35019\"}],\"tags\":[\"hv_created\"],\"tooltips\":[[\"index\",\"@{index}\"],[\"2016\",\"@{A_2016}\"]]},\"id\":\"34983\",\"type\":\"HoverTool\"},{\"attributes\":{\"axis_label\":\"Amount\",\"coordinates\":null,\"formatter\":{\"id\":\"35026\"},\"group\":null,\"major_label_policy\":{\"id\":\"35027\"},\"ticker\":{\"id\":\"34997\"}},\"id\":\"34996\",\"type\":\"LinearAxis\"},{\"attributes\":{\"axis\":{\"id\":\"34792\"},\"coordinates\":null,\"grid_line_color\":null,\"group\":null,\"ticker\":null},\"id\":\"34794\",\"type\":\"Grid\"},{\"attributes\":{},\"id\":\"34889\",\"type\":\"CategoricalTickFormatter\"},{\"attributes\":{\"axis\":{\"id\":\"34996\"},\"coordinates\":null,\"dimension\":1,\"grid_line_color\":null,\"group\":null,\"ticker\":null},\"id\":\"34999\",\"type\":\"Grid\"},{\"attributes\":{\"end\":417323.5,\"reset_end\":417323.5,\"reset_start\":0.0,\"tags\":[[[\"2006\",\"2006\",null]]]},\"id\":\"34848\",\"type\":\"Range1d\"},{\"attributes\":{},\"id\":\"34790\",\"type\":\"LinearScale\"},{\"attributes\":{},\"id\":\"34796\",\"type\":\"BasicTicker\"},{\"attributes\":{},\"id\":\"34801\",\"type\":\"WheelZoomTool\"},{\"attributes\":{},\"id\":\"34793\",\"type\":\"CategoricalTicker\"},{\"attributes\":{},\"id\":\"34880\",\"type\":\"Selection\"},{\"attributes\":{\"fill_color\":{\"value\":\"green\"},\"hatch_color\":{\"value\":\"green\"},\"top\":{\"field\":\"A_2016\"},\"width\":{\"value\":0.8},\"x\":{\"field\":\"index\"}},\"id\":\"35016\",\"type\":\"VBar\"},{\"attributes\":{\"axis_label\":\"Amount\",\"coordinates\":null,\"formatter\":{\"id\":\"34825\"},\"group\":null,\"major_label_policy\":{\"id\":\"34826\"},\"ticker\":{\"id\":\"34796\"}},\"id\":\"34795\",\"type\":\"LinearAxis\"},{\"attributes\":{\"data\":{\"A_2006\":[266860,379400,165,69430,54690,44095,162850,1335],\"index\":[\"single_detached_house\",\"apartment_five_storeys_plus\",\"movable_dwelling\",\"semi_detached_house\",\"row_house\",\"duplex\",\"apartment_five_storeys_less\",\"other_house\"]},\"selected\":{\"id\":\"34880\"},\"selection_policy\":{\"id\":\"34901\"}},\"id\":\"34879\",\"type\":\"ColumnDataSource\"},{\"attributes\":{\"fill_alpha\":{\"value\":0.2},\"fill_color\":{\"value\":\"green\"},\"hatch_alpha\":{\"value\":0.2},\"hatch_color\":{\"value\":\"green\"},\"line_alpha\":{\"value\":0.2},\"top\":{\"field\":\"A_2016\"},\"width\":{\"value\":0.8},\"x\":{\"field\":\"index\"}},\"id\":\"35018\",\"type\":\"VBar\"},{\"attributes\":{\"axis\":{\"id\":\"34795\"},\"coordinates\":null,\"dimension\":1,\"grid_line_color\":null,\"group\":null,\"ticker\":null},\"id\":\"34798\",\"type\":\"Grid\"},{\"attributes\":{\"data\":{\"A_2001\":[300930,355015,75,90995,52355,23785,116900,3040],\"index\":[\"single_detached_house\",\"apartment_five_storeys_plus\",\"movable_dwelling\",\"semi_detached_house\",\"row_house\",\"duplex\",\"apartment_five_storeys_less\",\"other_house\"]},\"selected\":{\"id\":\"34813\"},\"selection_policy\":{\"id\":\"34834\"}},\"id\":\"34812\",\"type\":\"ColumnDataSource\"},{\"attributes\":{\"fill_alpha\":{\"value\":0.1},\"fill_color\":{\"value\":\"green\"},\"hatch_alpha\":{\"value\":0.1},\"hatch_color\":{\"value\":\"green\"},\"line_alpha\":{\"value\":0.1},\"top\":{\"field\":\"A_2016\"},\"width\":{\"value\":0.8},\"x\":{\"field\":\"index\"}},\"id\":\"35017\",\"type\":\"VBar\"},{\"attributes\":{\"fill_alpha\":{\"value\":0.1},\"fill_color\":{\"value\":\"blue\"},\"hatch_alpha\":{\"value\":0.1},\"hatch_color\":{\"value\":\"blue\"},\"line_alpha\":{\"value\":0.1},\"top\":{\"field\":\"A_2001\"},\"width\":{\"value\":0.8},\"x\":{\"field\":\"index\"}},\"id\":\"34816\",\"type\":\"VBar\"},{\"attributes\":{},\"id\":\"35000\",\"type\":\"SaveTool\"},{\"attributes\":{},\"id\":\"35001\",\"type\":\"PanTool\"},{\"attributes\":{\"end\":542587.5,\"reset_end\":542587.5,\"reset_start\":0.0,\"tags\":[[[\"2016\",\"2016\",null]]]},\"id\":\"34982\",\"type\":\"Range1d\"},{\"attributes\":{},\"id\":\"35004\",\"type\":\"ResetTool\"},{\"attributes\":{},\"id\":\"35002\",\"type\":\"WheelZoomTool\"},{\"attributes\":{\"fill_color\":{\"value\":\"blue\"},\"hatch_color\":{\"value\":\"blue\"},\"top\":{\"field\":\"A_2001\"},\"width\":{\"value\":0.8},\"x\":{\"field\":\"index\"}},\"id\":\"34815\",\"type\":\"VBar\"},{\"attributes\":{},\"id\":\"34901\",\"type\":\"UnionRenderers\"},{\"attributes\":{\"overlay\":{\"id\":\"35005\"}},\"id\":\"35003\",\"type\":\"BoxZoomTool\"},{\"attributes\":{\"fill_alpha\":{\"value\":0.2},\"fill_color\":{\"value\":\"blue\"},\"hatch_alpha\":{\"value\":0.2},\"hatch_color\":{\"value\":\"blue\"},\"line_alpha\":{\"value\":0.2},\"top\":{\"field\":\"A_2001\"},\"width\":{\"value\":0.8},\"x\":{\"field\":\"index\"}},\"id\":\"34817\",\"type\":\"VBar\"},{\"attributes\":{\"factors\":[\"single_detached_house\",\"apartment_five_storeys_plus\",\"movable_dwelling\",\"semi_detached_house\",\"row_house\",\"duplex\",\"apartment_five_storeys_less\",\"other_house\"],\"tags\":[[[\"index\",\"index\",null]]]},\"id\":\"34780\",\"type\":\"FactorRange\"},{\"attributes\":{\"source\":{\"id\":\"35013\"}},\"id\":\"35020\",\"type\":\"CDSView\"},{\"attributes\":{},\"id\":\"34799\",\"type\":\"SaveTool\"},{\"attributes\":{\"bottom\":{\"value\":0},\"fill_alpha\":{\"value\":1.0},\"fill_color\":{\"value\":\"green\"},\"hatch_alpha\":{\"value\":1.0},\"hatch_color\":{\"value\":\"green\"},\"hatch_scale\":{\"value\":12.0},\"hatch_weight\":{\"value\":1.0},\"line_alpha\":{\"value\":1.0},\"line_cap\":{\"value\":\"butt\"},\"line_color\":{\"value\":\"black\"},\"line_dash\":{\"value\":[]},\"line_dash_offset\":{\"value\":0},\"line_join\":{\"value\":\"bevel\"},\"line_width\":{\"value\":1},\"top\":{\"field\":\"A_2016\"},\"width\":{\"value\":0.8},\"x\":{\"field\":\"index\"}},\"id\":\"35021\",\"type\":\"VBar\"},{\"attributes\":{},\"id\":\"34800\",\"type\":\"PanTool\"},{\"attributes\":{\"bottom_units\":\"screen\",\"coordinates\":null,\"fill_alpha\":0.5,\"fill_color\":\"lightgrey\",\"group\":null,\"left_units\":\"screen\",\"level\":\"overlay\",\"line_alpha\":1.0,\"line_color\":\"black\",\"line_dash\":[4,4],\"line_width\":2,\"right_units\":\"screen\",\"syncable\":false,\"top_units\":\"screen\"},\"id\":\"35005\",\"type\":\"BoxAnnotation\"},{\"attributes\":{},\"id\":\"35026\",\"type\":\"BasicTickFormatter\"},{\"attributes\":{\"overlay\":{\"id\":\"34804\"}},\"id\":\"34802\",\"type\":\"BoxZoomTool\"},{\"attributes\":{},\"id\":\"35024\",\"type\":\"AllLabels\"}],\"root_ids\":[\"34778\",\"35168\"]},\"title\":\"Bokeh Application\",\"version\":\"2.4.1\"}};\n",
       "    var render_items = [{\"docid\":\"3c6cc7db-4c39-47b1-89e4-054234166c46\",\"root_ids\":[\"34778\"],\"roots\":{\"34778\":\"60959e06-7660-43ea-ba8e-fe9b6a981c32\"}}];\n",
       "    root.Bokeh.embed.embed_items_notebook(docs_json, render_items);\n",
       "  }\n",
       "  if (root.Bokeh !== undefined && root.Bokeh.Panel !== undefined && ( root['Plotly'] !== undefined)) {\n",
       "    embed_document(root);\n",
       "  } else {\n",
       "    var attempts = 0;\n",
       "    var timer = setInterval(function(root) {\n",
       "      if (root.Bokeh !== undefined && root.Bokeh.Panel !== undefined && (root['Plotly'] !== undefined)) {\n",
       "        clearInterval(timer);\n",
       "        embed_document(root);\n",
       "      } else if (document.readyState == \"complete\") {\n",
       "        attempts++;\n",
       "        if (attempts > 200) {\n",
       "          clearInterval(timer);\n",
       "          console.log(\"Bokeh: ERROR: Unable to run BokehJS code because BokehJS library is missing\");\n",
       "        }\n",
       "      }\n",
       "    }, 25, root)\n",
       "  }\n",
       "})(window);</script>"
      ],
      "text/plain": [
       "Column\n",
       "    [0] Markdown(str, style={'color': 'white', ...})\n",
       "    [1] HoloViews(Bars)\n",
       "    [2] HoloViews(Bars)\n",
       "    [3] HoloViews(Bars)\n",
       "    [4] HoloViews(Bars)"
      ]
     },
     "execution_count": 709,
     "metadata": {
      "application/vnd.holoviews_exec.v0+json": {
       "id": "34778"
      }
     },
     "output_type": "execute_result"
    }
   ],
   "source": [
    "# Create a bar chart per year to show the number of dwelling types\n",
    "# Bar chart for 2001\n",
    "dt_2001_bar = dwelling_types.iloc[0].hvplot.bar(title = 'Dwelling Types in 2001', xlabel = 'Dwelling Type', ylabel = 'Amount', color = 'blue', rot = 90)\n",
    "# Bar chart for 2006\n",
    "dt_2006_bar = dwelling_types.iloc[1].hvplot.bar(title = 'Dwelling Types in 2006', xlabel = 'Dwelling Type', ylabel = 'Amount', color='red', rot = 90)\n",
    "# Bar chart for 2011\n",
    "dt_2011_bar = dwelling_types.iloc[2].hvplot.bar(title = 'Dwelling Types in 2011', xlabel = 'Dwelling Type', ylabel = 'Amount', color='orange', rot = 90)\n",
    "\n",
    "# Bar chart for 2016\n",
    "dt_2016_bar = dwelling_types.iloc[3].hvplot.bar(title = 'Dwelling Types in 2016', xlabel = 'Dwelling Type', ylabel = 'Amount', color='green', rot = 90)\n",
    "\n",
    "bars_as_columns = pn.Column(\n",
    "    pn.pane.Markdown('#Toronto Dwelling Type Charts Per Year',style={'color':'white', 'font-family': \"serif\"}), \n",
    "    dt_2001_bar, \n",
    "    dt_2006_bar,\n",
    "    dt_2011_bar,\n",
    "    dt_2016_bar,\n",
    ")\n",
    "bars_as_columns"
   ]
  },
  {
   "cell_type": "markdown",
   "metadata": {},
   "source": [
    "- - - "
   ]
  },
  {
   "cell_type": "markdown",
   "metadata": {},
   "source": [
    "## Average Monthly Shelter Costs in Toronto Per Year\n",
    "\n",
    "In this section, you will calculate the average monthly shelter costs for owned and rented dwellings and the average house value for each year. Plot the results as a line chart.\n",
    "\n",
    "**Optional challenge:** Plot each line chart in a different color."
   ]
  },
  {
   "cell_type": "code",
   "execution_count": 710,
   "metadata": {},
   "outputs": [
    {
     "data": {
      "text/html": [
       "<div>\n",
       "<style scoped>\n",
       "    .dataframe tbody tr th:only-of-type {\n",
       "        vertical-align: middle;\n",
       "    }\n",
       "\n",
       "    .dataframe tbody tr th {\n",
       "        vertical-align: top;\n",
       "    }\n",
       "\n",
       "    .dataframe thead th {\n",
       "        text-align: right;\n",
       "    }\n",
       "</style>\n",
       "<table border=\"1\" class=\"dataframe\">\n",
       "  <thead>\n",
       "    <tr style=\"text-align: right;\">\n",
       "      <th></th>\n",
       "      <th>shelter_costs_owned</th>\n",
       "      <th>shelter_costs_rented</th>\n",
       "    </tr>\n",
       "    <tr>\n",
       "      <th>year</th>\n",
       "      <th></th>\n",
       "      <th></th>\n",
       "    </tr>\n",
       "  </thead>\n",
       "  <tbody>\n",
       "    <tr>\n",
       "      <th>2001</th>\n",
       "      <td>846.878571</td>\n",
       "      <td>1085.935714</td>\n",
       "    </tr>\n",
       "    <tr>\n",
       "      <th>2006</th>\n",
       "      <td>1316.800000</td>\n",
       "      <td>925.414286</td>\n",
       "    </tr>\n",
       "    <tr>\n",
       "      <th>2011</th>\n",
       "      <td>1448.214286</td>\n",
       "      <td>1019.792857</td>\n",
       "    </tr>\n",
       "    <tr>\n",
       "      <th>2016</th>\n",
       "      <td>1761.314286</td>\n",
       "      <td>1256.321429</td>\n",
       "    </tr>\n",
       "  </tbody>\n",
       "</table>\n",
       "</div>"
      ],
      "text/plain": [
       "      shelter_costs_owned  shelter_costs_rented\n",
       "year                                           \n",
       "2001           846.878571           1085.935714\n",
       "2006          1316.800000            925.414286\n",
       "2011          1448.214286           1019.792857\n",
       "2016          1761.314286           1256.321429"
      ]
     },
     "execution_count": 710,
     "metadata": {},
     "output_type": "execute_result"
    }
   ],
   "source": [
    "# Calculate the average monthly shelter costs for owned and rented dwellings\n",
    "shelter_costs = to_data.groupby('year').mean()\n",
    "shelter_costs = shelter_costs.drop(shelter_costs.columns[0:9], axis =1)\n",
    "shelter_costs"
   ]
  },
  {
   "cell_type": "code",
   "execution_count": 712,
   "metadata": {},
   "outputs": [
    {
     "data": {},
     "metadata": {},
     "output_type": "display_data"
    },
    {
     "data": {
      "application/vnd.holoviews_exec.v0+json": "",
      "text/html": [
       "<div id='35369'>\n",
       "\n",
       "\n",
       "\n",
       "\n",
       "\n",
       "  <div class=\"bk-root\" id=\"0a54866a-51ad-4a85-b8a1-e1d99042fdd1\" data-root-id=\"35369\"></div>\n",
       "</div>\n",
       "<script type=\"application/javascript\">(function(root) {\n",
       "  function embed_document(root) {\n",
       "    var docs_json = {\"3732901f-548b-45d6-a278-7ff8a6691419\":{\"defs\":[{\"extends\":null,\"module\":null,\"name\":\"ReactiveHTML1\",\"overrides\":[],\"properties\":[]},{\"extends\":null,\"module\":null,\"name\":\"FlexBox1\",\"overrides\":[],\"properties\":[{\"default\":\"flex-start\",\"kind\":null,\"name\":\"align_content\"},{\"default\":\"flex-start\",\"kind\":null,\"name\":\"align_items\"},{\"default\":\"row\",\"kind\":null,\"name\":\"flex_direction\"},{\"default\":\"wrap\",\"kind\":null,\"name\":\"flex_wrap\"},{\"default\":\"flex-start\",\"kind\":null,\"name\":\"justify_content\"}]},{\"extends\":null,\"module\":null,\"name\":\"TemplateActions1\",\"overrides\":[],\"properties\":[{\"default\":0,\"kind\":null,\"name\":\"open_modal\"},{\"default\":0,\"kind\":null,\"name\":\"close_modal\"}]},{\"extends\":null,\"module\":null,\"name\":\"MaterialTemplateActions1\",\"overrides\":[],\"properties\":[{\"default\":0,\"kind\":null,\"name\":\"open_modal\"},{\"default\":0,\"kind\":null,\"name\":\"close_modal\"}]}],\"roots\":{\"references\":[{\"attributes\":{\"below\":[{\"id\":\"35430\"}],\"center\":[{\"id\":\"35433\"},{\"id\":\"35437\"}],\"height\":300,\"left\":[{\"id\":\"35434\"}],\"margin\":null,\"min_border_bottom\":10,\"min_border_left\":10,\"min_border_right\":10,\"min_border_top\":10,\"renderers\":[{\"id\":\"35457\"}],\"sizing_mode\":\"fixed\",\"title\":{\"id\":\"35422\"},\"toolbar\":{\"id\":\"35444\"},\"toolbar_location\":null,\"width\":700,\"x_range\":{\"id\":\"35371\"},\"x_scale\":{\"id\":\"35426\"},\"y_range\":{\"id\":\"35419\"},\"y_scale\":{\"id\":\"35428\"}},\"id\":\"35421\",\"subtype\":\"Figure\",\"type\":\"Plot\"},{\"attributes\":{\"axis\":{\"id\":\"35383\"},\"coordinates\":null,\"grid_line_color\":null,\"group\":null,\"ticker\":null},\"id\":\"35386\",\"type\":\"Grid\"},{\"attributes\":{},\"id\":\"35384\",\"type\":\"BasicTicker\"},{\"attributes\":{\"line_color\":\"blue\",\"line_width\":2,\"x\":{\"field\":\"year\"},\"y\":{\"field\":\"shelter_costs_owned\"}},\"id\":\"35407\",\"type\":\"Line\"},{\"attributes\":{},\"id\":\"35388\",\"type\":\"BasicTicker\"},{\"attributes\":{\"line_alpha\":0.1,\"line_color\":\"orange\",\"line_width\":2,\"x\":{\"field\":\"year\"},\"y\":{\"field\":\"shelter_costs_rented\"}},\"id\":\"35455\",\"type\":\"Line\"},{\"attributes\":{\"coordinates\":null,\"group\":null,\"text\":\"Average Monthly Shelter Costs for Owned Dwelling in Toronto\",\"text_color\":\"black\",\"text_font_size\":\"12pt\"},\"id\":\"35375\",\"type\":\"Title\"},{\"attributes\":{\"line_color\":\"orange\",\"line_width\":2,\"x\":{\"field\":\"year\"},\"y\":{\"field\":\"shelter_costs_rented\"}},\"id\":\"35454\",\"type\":\"Line\"},{\"attributes\":{\"source\":{\"id\":\"35451\"}},\"id\":\"35458\",\"type\":\"CDSView\"},{\"attributes\":{\"coordinates\":null,\"group\":null,\"text\":\"Average Monthly Shelter Costs for Rented Dwelling in Toronto\",\"text_color\":\"black\",\"text_font_size\":\"12pt\"},\"id\":\"35422\",\"type\":\"Title\"},{\"attributes\":{\"end\":2016.0,\"reset_end\":2016.0,\"reset_start\":2001.0,\"start\":2001.0,\"tags\":[[[\"year\",\"year\",null]]]},\"id\":\"35371\",\"type\":\"Range1d\"},{\"attributes\":{},\"id\":\"35381\",\"type\":\"LinearScale\"},{\"attributes\":{\"line_alpha\":0.1,\"line_color\":\"blue\",\"line_width\":2,\"x\":{\"field\":\"year\"},\"y\":{\"field\":\"shelter_costs_owned\"}},\"id\":\"35408\",\"type\":\"Line\"},{\"attributes\":{\"line_alpha\":0.2,\"line_color\":\"orange\",\"line_width\":2,\"x\":{\"field\":\"year\"},\"y\":{\"field\":\"shelter_costs_rented\"}},\"id\":\"35456\",\"type\":\"Line\"},{\"attributes\":{\"axis_label\":\"Average Monthly Shelter Costs\",\"coordinates\":null,\"formatter\":{\"id\":\"35417\"},\"group\":null,\"major_label_policy\":{\"id\":\"35418\"},\"ticker\":{\"id\":\"35388\"}},\"id\":\"35387\",\"type\":\"LinearAxis\"},{\"attributes\":{\"children\":[[{\"id\":\"35374\"},0,0],[{\"id\":\"35421\"},0,1]]},\"id\":\"35488\",\"type\":\"GridBox\"},{\"attributes\":{\"axis_label\":\"Year\",\"coordinates\":null,\"formatter\":{\"id\":\"35414\"},\"group\":null,\"major_label_policy\":{\"id\":\"35415\"},\"ticker\":{\"id\":\"35384\"}},\"id\":\"35383\",\"type\":\"LinearAxis\"},{\"attributes\":{\"axis_label\":\"Year\",\"coordinates\":null,\"formatter\":{\"id\":\"35461\"},\"group\":null,\"major_label_policy\":{\"id\":\"35462\"},\"ticker\":{\"id\":\"35431\"}},\"id\":\"35430\",\"type\":\"LinearAxis\"},{\"attributes\":{},\"id\":\"35435\",\"type\":\"BasicTicker\"},{\"attributes\":{},\"id\":\"35426\",\"type\":\"LinearScale\"},{\"attributes\":{\"callback\":null,\"renderers\":[{\"id\":\"35457\"}],\"tags\":[\"hv_created\"],\"tooltips\":[[\"year\",\"@{year}\"],[\"shelter_costs_rented\",\"@{shelter_costs_rented}\"]]},\"id\":\"35420\",\"type\":\"HoverTool\"},{\"attributes\":{\"axis\":{\"id\":\"35387\"},\"coordinates\":null,\"dimension\":1,\"grid_line_color\":null,\"group\":null,\"ticker\":null},\"id\":\"35390\",\"type\":\"Grid\"},{\"attributes\":{\"axis\":{\"id\":\"35430\"},\"coordinates\":null,\"grid_line_color\":null,\"group\":null,\"ticker\":null},\"id\":\"35433\",\"type\":\"Grid\"},{\"attributes\":{},\"id\":\"35473\",\"type\":\"UnionRenderers\"},{\"attributes\":{},\"id\":\"35428\",\"type\":\"LinearScale\"},{\"attributes\":{},\"id\":\"35461\",\"type\":\"BasicTickFormatter\"},{\"attributes\":{\"axis_label\":\"Average Monthly Shelter Costs\",\"coordinates\":null,\"formatter\":{\"id\":\"35464\"},\"group\":null,\"major_label_policy\":{\"id\":\"35465\"},\"ticker\":{\"id\":\"35435\"}},\"id\":\"35434\",\"type\":\"LinearAxis\"},{\"attributes\":{},\"id\":\"35431\",\"type\":\"BasicTicker\"},{\"attributes\":{\"coordinates\":null,\"data_source\":{\"id\":\"35404\"},\"glyph\":{\"id\":\"35407\"},\"group\":null,\"hover_glyph\":null,\"muted_glyph\":{\"id\":\"35409\"},\"nonselection_glyph\":{\"id\":\"35408\"},\"selection_glyph\":{\"id\":\"35412\"},\"view\":{\"id\":\"35411\"}},\"id\":\"35410\",\"type\":\"GlyphRenderer\"},{\"attributes\":{\"margin\":[5,5,5,5],\"name\":\"HSpacer69948\",\"sizing_mode\":\"stretch_width\"},\"id\":\"35370\",\"type\":\"Spacer\"},{\"attributes\":{\"source\":{\"id\":\"35404\"}},\"id\":\"35411\",\"type\":\"CDSView\"},{\"attributes\":{},\"id\":\"35452\",\"type\":\"Selection\"},{\"attributes\":{\"tools\":[{\"id\":\"35373\"},{\"id\":\"35391\"},{\"id\":\"35392\"},{\"id\":\"35393\"},{\"id\":\"35394\"},{\"id\":\"35395\"}]},\"id\":\"35397\",\"type\":\"Toolbar\"},{\"attributes\":{\"axis\":{\"id\":\"35434\"},\"coordinates\":null,\"dimension\":1,\"grid_line_color\":null,\"group\":null,\"ticker\":null},\"id\":\"35437\",\"type\":\"Grid\"},{\"attributes\":{\"toolbars\":[{\"id\":\"35397\"},{\"id\":\"35444\"}],\"tools\":[{\"id\":\"35373\"},{\"id\":\"35391\"},{\"id\":\"35392\"},{\"id\":\"35393\"},{\"id\":\"35394\"},{\"id\":\"35395\"},{\"id\":\"35420\"},{\"id\":\"35438\"},{\"id\":\"35439\"},{\"id\":\"35440\"},{\"id\":\"35441\"},{\"id\":\"35442\"}]},\"id\":\"35489\",\"type\":\"ProxyToolbar\"},{\"attributes\":{\"bottom_units\":\"screen\",\"coordinates\":null,\"fill_alpha\":0.5,\"fill_color\":\"lightgrey\",\"group\":null,\"left_units\":\"screen\",\"level\":\"overlay\",\"line_alpha\":1.0,\"line_color\":\"black\",\"line_dash\":[4,4],\"line_width\":2,\"right_units\":\"screen\",\"syncable\":false,\"top_units\":\"screen\"},\"id\":\"35396\",\"type\":\"BoxAnnotation\"},{\"attributes\":{},\"id\":\"35391\",\"type\":\"SaveTool\"},{\"attributes\":{},\"id\":\"35392\",\"type\":\"PanTool\"},{\"attributes\":{},\"id\":\"35395\",\"type\":\"ResetTool\"},{\"attributes\":{\"overlay\":{\"id\":\"35396\"}},\"id\":\"35394\",\"type\":\"BoxZoomTool\"},{\"attributes\":{\"data\":{\"shelter_costs_owned\":{\"__ndarray__\":\"UAd1UAd3ikAzMzMzM5OUQG7btm3boJZA1EEd1EGFm0A=\",\"dtype\":\"float64\",\"order\":\"little\",\"shape\":[4]},\"year\":[2001,2006,2011,2016]},\"selected\":{\"id\":\"35405\"},\"selection_policy\":{\"id\":\"35473\"}},\"id\":\"35404\",\"type\":\"ColumnDataSource\"},{\"attributes\":{},\"id\":\"35417\",\"type\":\"BasicTickFormatter\"},{\"attributes\":{\"coordinates\":null,\"data_source\":{\"id\":\"35451\"},\"glyph\":{\"id\":\"35454\"},\"group\":null,\"hover_glyph\":null,\"muted_glyph\":{\"id\":\"35456\"},\"nonselection_glyph\":{\"id\":\"35455\"},\"selection_glyph\":{\"id\":\"35459\"},\"view\":{\"id\":\"35458\"}},\"id\":\"35457\",\"type\":\"GlyphRenderer\"},{\"attributes\":{\"margin\":[5,5,5,5],\"name\":\"HSpacer69949\",\"sizing_mode\":\"stretch_width\"},\"id\":\"35672\",\"type\":\"Spacer\"},{\"attributes\":{\"tools\":[{\"id\":\"35420\"},{\"id\":\"35438\"},{\"id\":\"35439\"},{\"id\":\"35440\"},{\"id\":\"35441\"},{\"id\":\"35442\"}]},\"id\":\"35444\",\"type\":\"Toolbar\"},{\"attributes\":{\"bottom_units\":\"screen\",\"coordinates\":null,\"fill_alpha\":0.5,\"fill_color\":\"lightgrey\",\"group\":null,\"left_units\":\"screen\",\"level\":\"overlay\",\"line_alpha\":1.0,\"line_color\":\"black\",\"line_dash\":[4,4],\"line_width\":2,\"right_units\":\"screen\",\"syncable\":false,\"top_units\":\"screen\"},\"id\":\"35443\",\"type\":\"BoxAnnotation\"},{\"attributes\":{},\"id\":\"35438\",\"type\":\"SaveTool\"},{\"attributes\":{},\"id\":\"35439\",\"type\":\"PanTool\"},{\"attributes\":{},\"id\":\"35484\",\"type\":\"UnionRenderers\"},{\"attributes\":{},\"id\":\"35442\",\"type\":\"ResetTool\"},{\"attributes\":{},\"id\":\"35440\",\"type\":\"WheelZoomTool\"},{\"attributes\":{\"overlay\":{\"id\":\"35443\"}},\"id\":\"35441\",\"type\":\"BoxZoomTool\"},{\"attributes\":{\"end\":1289.412142857143,\"reset_end\":1289.412142857143,\"reset_start\":892.3235714285714,\"start\":892.3235714285714,\"tags\":[[[\"shelter_costs_rented\",\"shelter_costs_rented\",null]]]},\"id\":\"35419\",\"type\":\"Range1d\"},{\"attributes\":{\"line_color\":\"blue\",\"line_width\":2,\"x\":{\"field\":\"year\"},\"y\":{\"field\":\"shelter_costs_owned\"}},\"id\":\"35412\",\"type\":\"Line\"},{\"attributes\":{},\"id\":\"35393\",\"type\":\"WheelZoomTool\"},{\"attributes\":{},\"id\":\"35462\",\"type\":\"AllLabels\"},{\"attributes\":{\"toolbar\":{\"id\":\"35489\"},\"toolbar_location\":\"above\"},\"id\":\"35490\",\"type\":\"ToolbarBox\"},{\"attributes\":{},\"id\":\"35418\",\"type\":\"AllLabels\"},{\"attributes\":{\"children\":[{\"id\":\"35490\"},{\"id\":\"35488\"}]},\"id\":\"35491\",\"type\":\"Column\"},{\"attributes\":{},\"id\":\"35405\",\"type\":\"Selection\"},{\"attributes\":{},\"id\":\"35464\",\"type\":\"BasicTickFormatter\"},{\"attributes\":{\"line_alpha\":0.2,\"line_color\":\"blue\",\"line_width\":2,\"x\":{\"field\":\"year\"},\"y\":{\"field\":\"shelter_costs_owned\"}},\"id\":\"35409\",\"type\":\"Line\"},{\"attributes\":{\"line_color\":\"orange\",\"line_width\":2,\"x\":{\"field\":\"year\"},\"y\":{\"field\":\"shelter_costs_rented\"}},\"id\":\"35459\",\"type\":\"Line\"},{\"attributes\":{\"callback\":null,\"renderers\":[{\"id\":\"35410\"}],\"tags\":[\"hv_created\"],\"tooltips\":[[\"year\",\"@{year}\"],[\"shelter_costs_owned\",\"@{shelter_costs_owned}\"]]},\"id\":\"35373\",\"type\":\"HoverTool\"},{\"attributes\":{},\"id\":\"35415\",\"type\":\"AllLabels\"},{\"attributes\":{\"below\":[{\"id\":\"35383\"}],\"center\":[{\"id\":\"35386\"},{\"id\":\"35390\"}],\"height\":300,\"left\":[{\"id\":\"35387\"}],\"margin\":null,\"min_border_bottom\":10,\"min_border_left\":10,\"min_border_right\":10,\"min_border_top\":10,\"renderers\":[{\"id\":\"35410\"}],\"sizing_mode\":\"fixed\",\"title\":{\"id\":\"35375\"},\"toolbar\":{\"id\":\"35397\"},\"toolbar_location\":null,\"width\":700,\"x_range\":{\"id\":\"35371\"},\"x_scale\":{\"id\":\"35379\"},\"y_range\":{\"id\":\"35372\"},\"y_scale\":{\"id\":\"35381\"}},\"id\":\"35374\",\"subtype\":\"Figure\",\"type\":\"Plot\"},{\"attributes\":{\"end\":1852.7578571428571,\"reset_end\":1852.7578571428571,\"reset_start\":755.435,\"start\":755.435,\"tags\":[[[\"shelter_costs_owned\",\"shelter_costs_owned\",null]]]},\"id\":\"35372\",\"type\":\"Range1d\"},{\"attributes\":{},\"id\":\"35465\",\"type\":\"AllLabels\"},{\"attributes\":{},\"id\":\"35379\",\"type\":\"LinearScale\"},{\"attributes\":{},\"id\":\"35414\",\"type\":\"BasicTickFormatter\"},{\"attributes\":{\"data\":{\"shelter_costs_rented\":{\"__ndarray__\":\"LL7iK773kEB1UAd1UOuMQMVXfMVX3o9AJUmSJEmhk0A=\",\"dtype\":\"float64\",\"order\":\"little\",\"shape\":[4]},\"year\":[2001,2006,2011,2016]},\"selected\":{\"id\":\"35452\"},\"selection_policy\":{\"id\":\"35484\"}},\"id\":\"35451\",\"type\":\"ColumnDataSource\"},{\"attributes\":{\"children\":[{\"id\":\"35370\"},{\"id\":\"35491\"},{\"id\":\"35672\"}],\"margin\":[0,0,0,0],\"name\":\"Row69944\",\"tags\":[\"embedded\"]},\"id\":\"35369\",\"type\":\"Row\"}],\"root_ids\":[\"35369\"]},\"title\":\"Bokeh Application\",\"version\":\"2.4.1\"}};\n",
       "    var render_items = [{\"docid\":\"3732901f-548b-45d6-a278-7ff8a6691419\",\"root_ids\":[\"35369\"],\"roots\":{\"35369\":\"0a54866a-51ad-4a85-b8a1-e1d99042fdd1\"}}];\n",
       "    root.Bokeh.embed.embed_items_notebook(docs_json, render_items);\n",
       "  }\n",
       "  if (root.Bokeh !== undefined && root.Bokeh.Panel !== undefined && ( root['Plotly'] !== undefined)) {\n",
       "    embed_document(root);\n",
       "  } else {\n",
       "    var attempts = 0;\n",
       "    var timer = setInterval(function(root) {\n",
       "      if (root.Bokeh !== undefined && root.Bokeh.Panel !== undefined && (root['Plotly'] !== undefined)) {\n",
       "        clearInterval(timer);\n",
       "        embed_document(root);\n",
       "      } else if (document.readyState == \"complete\") {\n",
       "        attempts++;\n",
       "        if (attempts > 200) {\n",
       "          clearInterval(timer);\n",
       "          console.log(\"Bokeh: ERROR: Unable to run BokehJS code because BokehJS library is missing\");\n",
       "        }\n",
       "      }\n",
       "    }, 25, root)\n",
       "  }\n",
       "})(window);</script>"
      ],
      "text/plain": [
       ":Layout\n",
       "   .Curve.I  :Curve   [year]   (shelter_costs_owned)\n",
       "   .Curve.II :Curve   [year]   (shelter_costs_rented)"
      ]
     },
     "execution_count": 712,
     "metadata": {
      "application/vnd.holoviews_exec.v0+json": {
       "id": "35369"
      }
     },
     "output_type": "execute_result"
    }
   ],
   "source": [
    "# Create two line charts, one to plot the monthly shelter costs for owned dwelleing and other for rented dwellings per year\n",
    "\n",
    "# Line chart for owned dwellings\n",
    "owned_costs = shelter_costs.hvplot.line(\n",
    "    x = 'year', \n",
    "    y = 'shelter_costs_owned', \n",
    "    xlabel=\"Year\", \n",
    "    ylabel=\"Average Monthly Shelter Costs\", \n",
    "    title = \"Average Monthly Shelter Costs for Owned Dwelling in Toronto\",\n",
    "    color = 'blue')\n",
    "\n",
    "# Line chart for rented dwellings\n",
    "rented_costs = shelter_costs.hvplot.line(\n",
    "    x = 'year', \n",
    "    y = 'shelter_costs_rented', \n",
    "    xlabel=\"Year\", \n",
    "    ylabel=\"Average Monthly Shelter Costs\", \n",
    "    title = \"Average Monthly Shelter Costs for Rented Dwelling in Toronto\",\n",
    "    color = 'orange')\n",
    "\n",
    "owned_costs + rented_costs"
   ]
  },
  {
   "cell_type": "markdown",
   "metadata": {},
   "source": [
    "## Average House Value per Year\n",
    "\n",
    "In this section, you want to determine the average house value per year. An investor may want to understand better the sales price of the rental property over time. For example, a customer will want to know if they should expect an increase or decrease in the property value over time so they can determine how long to hold the rental property. You will visualize the `average_house_value` per year as a bar chart."
   ]
  },
  {
   "cell_type": "code",
   "execution_count": 713,
   "metadata": {},
   "outputs": [
    {
     "data": {
      "text/plain": [
       "year\n",
       "2001    289882.885714\n",
       "2006    424059.664286\n",
       "2011    530424.721429\n",
       "2016    664068.328571\n",
       "Name: average_house_value, dtype: float64"
      ]
     },
     "execution_count": 713,
     "metadata": {},
     "output_type": "execute_result"
    }
   ],
   "source": [
    "# Calculate the average house value per year\n",
    "av_house_val = to_data.groupby('year').mean()\n",
    "av_house_val = av_house_val['average_house_value']\n",
    "av_house_val"
   ]
  },
  {
   "cell_type": "code",
   "execution_count": 714,
   "metadata": {},
   "outputs": [
    {
     "data": {},
     "metadata": {},
     "output_type": "display_data"
    },
    {
     "data": {
      "application/vnd.holoviews_exec.v0+json": "",
      "text/html": [
       "<div id='35774'>\n",
       "\n",
       "\n",
       "\n",
       "\n",
       "\n",
       "  <div class=\"bk-root\" id=\"ee325e08-b755-45da-b7ce-0b8ca8ebeb06\" data-root-id=\"35774\"></div>\n",
       "</div>\n",
       "<script type=\"application/javascript\">(function(root) {\n",
       "  function embed_document(root) {\n",
       "    var docs_json = {\"88669464-11de-4ea9-ae52-973d3df714ce\":{\"defs\":[{\"extends\":null,\"module\":null,\"name\":\"ReactiveHTML1\",\"overrides\":[],\"properties\":[]},{\"extends\":null,\"module\":null,\"name\":\"FlexBox1\",\"overrides\":[],\"properties\":[{\"default\":\"flex-start\",\"kind\":null,\"name\":\"align_content\"},{\"default\":\"flex-start\",\"kind\":null,\"name\":\"align_items\"},{\"default\":\"row\",\"kind\":null,\"name\":\"flex_direction\"},{\"default\":\"wrap\",\"kind\":null,\"name\":\"flex_wrap\"},{\"default\":\"flex-start\",\"kind\":null,\"name\":\"justify_content\"}]},{\"extends\":null,\"module\":null,\"name\":\"TemplateActions1\",\"overrides\":[],\"properties\":[{\"default\":0,\"kind\":null,\"name\":\"open_modal\"},{\"default\":0,\"kind\":null,\"name\":\"close_modal\"}]},{\"extends\":null,\"module\":null,\"name\":\"MaterialTemplateActions1\",\"overrides\":[],\"properties\":[{\"default\":0,\"kind\":null,\"name\":\"open_modal\"},{\"default\":0,\"kind\":null,\"name\":\"close_modal\"}]}],\"roots\":{\"references\":[{\"attributes\":{\"axis\":{\"id\":\"35792\"},\"coordinates\":null,\"dimension\":1,\"grid_line_color\":null,\"group\":null,\"ticker\":null},\"id\":\"35795\",\"type\":\"Grid\"},{\"attributes\":{\"coordinates\":null,\"data_source\":{\"id\":\"35809\"},\"glyph\":{\"id\":\"35812\"},\"group\":null,\"hover_glyph\":null,\"muted_glyph\":{\"id\":\"35814\"},\"nonselection_glyph\":{\"id\":\"35813\"},\"selection_glyph\":{\"id\":\"35817\"},\"view\":{\"id\":\"35816\"}},\"id\":\"35815\",\"type\":\"GlyphRenderer\"},{\"attributes\":{\"below\":[{\"id\":\"35788\"}],\"center\":[{\"id\":\"35791\"},{\"id\":\"35795\"}],\"height\":300,\"left\":[{\"id\":\"35792\"}],\"margin\":[5,5,5,5],\"min_border_bottom\":10,\"min_border_left\":10,\"min_border_right\":10,\"min_border_top\":10,\"renderers\":[{\"id\":\"35815\"}],\"sizing_mode\":\"fixed\",\"title\":{\"id\":\"35780\"},\"toolbar\":{\"id\":\"35802\"},\"width\":700,\"x_range\":{\"id\":\"35776\"},\"x_scale\":{\"id\":\"35784\"},\"y_range\":{\"id\":\"35777\"},\"y_scale\":{\"id\":\"35786\"}},\"id\":\"35779\",\"subtype\":\"Figure\",\"type\":\"Plot\"},{\"attributes\":{\"coordinates\":null,\"group\":null,\"text\":\"Average House Value in Toronto\",\"text_color\":\"black\",\"text_font_size\":\"12pt\"},\"id\":\"35780\",\"type\":\"Title\"},{\"attributes\":{\"line_color\":\"#30a2da\",\"line_width\":2,\"x\":{\"field\":\"year\"},\"y\":{\"field\":\"average_house_value\"}},\"id\":\"35817\",\"type\":\"Line\"},{\"attributes\":{\"format\":\"%.0f\"},\"id\":\"35818\",\"type\":\"PrintfTickFormatter\"},{\"attributes\":{\"line_alpha\":0.2,\"line_color\":\"#30a2da\",\"line_width\":2,\"x\":{\"field\":\"year\"},\"y\":{\"field\":\"average_house_value\"}},\"id\":\"35814\",\"type\":\"Line\"},{\"attributes\":{},\"id\":\"35824\",\"type\":\"AllLabels\"},{\"attributes\":{\"tools\":[{\"id\":\"35778\"},{\"id\":\"35796\"},{\"id\":\"35797\"},{\"id\":\"35798\"},{\"id\":\"35799\"},{\"id\":\"35800\"}]},\"id\":\"35802\",\"type\":\"Toolbar\"},{\"attributes\":{\"bottom_units\":\"screen\",\"coordinates\":null,\"fill_alpha\":0.5,\"fill_color\":\"lightgrey\",\"group\":null,\"left_units\":\"screen\",\"level\":\"overlay\",\"line_alpha\":1.0,\"line_color\":\"black\",\"line_dash\":[4,4],\"line_width\":2,\"right_units\":\"screen\",\"syncable\":false,\"top_units\":\"screen\"},\"id\":\"35801\",\"type\":\"BoxAnnotation\"},{\"attributes\":{\"line_alpha\":0.1,\"line_color\":\"#30a2da\",\"line_width\":2,\"x\":{\"field\":\"year\"},\"y\":{\"field\":\"average_house_value\"}},\"id\":\"35813\",\"type\":\"Line\"},{\"attributes\":{},\"id\":\"35796\",\"type\":\"SaveTool\"},{\"attributes\":{},\"id\":\"35797\",\"type\":\"PanTool\"},{\"attributes\":{},\"id\":\"35800\",\"type\":\"ResetTool\"},{\"attributes\":{},\"id\":\"35821\",\"type\":\"AllLabels\"},{\"attributes\":{\"line_color\":\"#30a2da\",\"line_width\":2,\"x\":{\"field\":\"year\"},\"y\":{\"field\":\"average_house_value\"}},\"id\":\"35812\",\"type\":\"Line\"},{\"attributes\":{},\"id\":\"35798\",\"type\":\"WheelZoomTool\"},{\"attributes\":{\"overlay\":{\"id\":\"35801\"}},\"id\":\"35799\",\"type\":\"BoxZoomTool\"},{\"attributes\":{\"source\":{\"id\":\"35809\"}},\"id\":\"35816\",\"type\":\"CDSView\"},{\"attributes\":{\"children\":[{\"id\":\"35775\"},{\"id\":\"35779\"},{\"id\":\"35845\"}],\"margin\":[0,0,0,0],\"name\":\"Row70299\",\"tags\":[\"embedded\"]},\"id\":\"35774\",\"type\":\"Row\"},{\"attributes\":{},\"id\":\"35810\",\"type\":\"Selection\"},{\"attributes\":{},\"id\":\"35789\",\"type\":\"BasicTicker\"},{\"attributes\":{},\"id\":\"35833\",\"type\":\"UnionRenderers\"},{\"attributes\":{},\"id\":\"35784\",\"type\":\"LinearScale\"},{\"attributes\":{},\"id\":\"35793\",\"type\":\"BasicTicker\"},{\"attributes\":{\"axis\":{\"id\":\"35788\"},\"coordinates\":null,\"grid_line_color\":null,\"group\":null,\"ticker\":null},\"id\":\"35791\",\"type\":\"Grid\"},{\"attributes\":{},\"id\":\"35786\",\"type\":\"LinearScale\"},{\"attributes\":{\"margin\":[5,5,5,5],\"name\":\"HSpacer70304\",\"sizing_mode\":\"stretch_width\"},\"id\":\"35845\",\"type\":\"Spacer\"},{\"attributes\":{\"axis_label\":\"Avg House Value\",\"coordinates\":null,\"formatter\":{\"id\":\"35818\"},\"group\":null,\"major_label_policy\":{\"id\":\"35824\"},\"ticker\":{\"id\":\"35793\"}},\"id\":\"35792\",\"type\":\"LinearAxis\"},{\"attributes\":{\"margin\":[5,5,5,5],\"name\":\"HSpacer70303\",\"sizing_mode\":\"stretch_width\"},\"id\":\"35775\",\"type\":\"Spacer\"},{\"attributes\":{\"end\":701486.8728571428,\"reset_end\":701486.8728571428,\"reset_start\":252464.34142857144,\"start\":252464.34142857144,\"tags\":[[[\"average_house_value\",\"average_house_value\",null]]]},\"id\":\"35777\",\"type\":\"Range1d\"},{\"attributes\":{\"axis_label\":\"Year\",\"coordinates\":null,\"formatter\":{\"id\":\"35820\"},\"group\":null,\"major_label_policy\":{\"id\":\"35821\"},\"ticker\":{\"id\":\"35789\"}},\"id\":\"35788\",\"type\":\"LinearAxis\"},{\"attributes\":{\"data\":{\"average_house_value\":{\"__ndarray__\":\"i6/4imuxEUGogzqo7uEZQfEVX3HxLyBBqIM6qAhEJEE=\",\"dtype\":\"float64\",\"order\":\"little\",\"shape\":[4]},\"year\":[2001,2006,2011,2016]},\"selected\":{\"id\":\"35810\"},\"selection_policy\":{\"id\":\"35833\"}},\"id\":\"35809\",\"type\":\"ColumnDataSource\"},{\"attributes\":{\"end\":2016.0,\"reset_end\":2016.0,\"reset_start\":2001.0,\"start\":2001.0,\"tags\":[[[\"year\",\"year\",null]]]},\"id\":\"35776\",\"type\":\"Range1d\"},{\"attributes\":{\"callback\":null,\"renderers\":[{\"id\":\"35815\"}],\"tags\":[\"hv_created\"],\"tooltips\":[[\"year\",\"@{year}\"],[\"average_house_value\",\"@{average_house_value}\"]]},\"id\":\"35778\",\"type\":\"HoverTool\"},{\"attributes\":{},\"id\":\"35820\",\"type\":\"BasicTickFormatter\"}],\"root_ids\":[\"35774\"]},\"title\":\"Bokeh Application\",\"version\":\"2.4.1\"}};\n",
       "    var render_items = [{\"docid\":\"88669464-11de-4ea9-ae52-973d3df714ce\",\"root_ids\":[\"35774\"],\"roots\":{\"35774\":\"ee325e08-b755-45da-b7ce-0b8ca8ebeb06\"}}];\n",
       "    root.Bokeh.embed.embed_items_notebook(docs_json, render_items);\n",
       "  }\n",
       "  if (root.Bokeh !== undefined && root.Bokeh.Panel !== undefined && ( root['Plotly'] !== undefined)) {\n",
       "    embed_document(root);\n",
       "  } else {\n",
       "    var attempts = 0;\n",
       "    var timer = setInterval(function(root) {\n",
       "      if (root.Bokeh !== undefined && root.Bokeh.Panel !== undefined && (root['Plotly'] !== undefined)) {\n",
       "        clearInterval(timer);\n",
       "        embed_document(root);\n",
       "      } else if (document.readyState == \"complete\") {\n",
       "        attempts++;\n",
       "        if (attempts > 200) {\n",
       "          clearInterval(timer);\n",
       "          console.log(\"Bokeh: ERROR: Unable to run BokehJS code because BokehJS library is missing\");\n",
       "        }\n",
       "      }\n",
       "    }, 25, root)\n",
       "  }\n",
       "})(window);</script>"
      ],
      "text/plain": [
       ":Curve   [year]   (average_house_value)"
      ]
     },
     "execution_count": 714,
     "metadata": {
      "application/vnd.holoviews_exec.v0+json": {
       "id": "35774"
      }
     },
     "output_type": "execute_result"
    }
   ],
   "source": [
    "# Plot the average house value per year as a line chart\n",
    "av_house_val.hvplot.line(x = 'year', xlabel = 'Year', ylabel = 'Avg House Value', title = 'Average House Value in Toronto', yformatter = \"%.0f\")"
   ]
  },
  {
   "cell_type": "markdown",
   "metadata": {},
   "source": [
    "- - - "
   ]
  },
  {
   "cell_type": "markdown",
   "metadata": {},
   "source": [
    "## Average House Value by Neighbourhood\n",
    "\n",
    "In this section, you will use `hvplot` to create an interactive visualization of the average house value with a dropdown selector for the neighbourhood.\n",
    "\n",
    "**Hint:** It will be easier to create a new DataFrame from grouping the data and calculating the mean house values for each year and neighbourhood."
   ]
  },
  {
   "cell_type": "code",
   "execution_count": 715,
   "metadata": {},
   "outputs": [
    {
     "data": {
      "text/html": [
       "<div>\n",
       "<style scoped>\n",
       "    .dataframe tbody tr th:only-of-type {\n",
       "        vertical-align: middle;\n",
       "    }\n",
       "\n",
       "    .dataframe tbody tr th {\n",
       "        vertical-align: top;\n",
       "    }\n",
       "\n",
       "    .dataframe thead th {\n",
       "        text-align: right;\n",
       "    }\n",
       "</style>\n",
       "<table border=\"1\" class=\"dataframe\">\n",
       "  <thead>\n",
       "    <tr style=\"text-align: right;\">\n",
       "      <th></th>\n",
       "      <th>year</th>\n",
       "      <th>neighbourhood</th>\n",
       "      <th>average_house_value</th>\n",
       "    </tr>\n",
       "  </thead>\n",
       "  <tbody>\n",
       "    <tr>\n",
       "      <th>0</th>\n",
       "      <td>2001</td>\n",
       "      <td>Agincourt North</td>\n",
       "      <td>200388.0</td>\n",
       "    </tr>\n",
       "    <tr>\n",
       "      <th>1</th>\n",
       "      <td>2001</td>\n",
       "      <td>Agincourt South-Malvern West</td>\n",
       "      <td>203047.0</td>\n",
       "    </tr>\n",
       "    <tr>\n",
       "      <th>2</th>\n",
       "      <td>2001</td>\n",
       "      <td>Alderwood</td>\n",
       "      <td>259998.0</td>\n",
       "    </tr>\n",
       "    <tr>\n",
       "      <th>3</th>\n",
       "      <td>2001</td>\n",
       "      <td>Annex</td>\n",
       "      <td>453850.0</td>\n",
       "    </tr>\n",
       "    <tr>\n",
       "      <th>4</th>\n",
       "      <td>2001</td>\n",
       "      <td>Banbury-Don Mills</td>\n",
       "      <td>371864.0</td>\n",
       "    </tr>\n",
       "    <tr>\n",
       "      <th>...</th>\n",
       "      <td>...</td>\n",
       "      <td>...</td>\n",
       "      <td>...</td>\n",
       "    </tr>\n",
       "    <tr>\n",
       "      <th>555</th>\n",
       "      <td>2016</td>\n",
       "      <td>Wychwood</td>\n",
       "      <td>787760.0</td>\n",
       "    </tr>\n",
       "    <tr>\n",
       "      <th>556</th>\n",
       "      <td>2016</td>\n",
       "      <td>Yonge-Eglinton</td>\n",
       "      <td>1127052.0</td>\n",
       "    </tr>\n",
       "    <tr>\n",
       "      <th>557</th>\n",
       "      <td>2016</td>\n",
       "      <td>Yonge-St.Clair</td>\n",
       "      <td>1131888.0</td>\n",
       "    </tr>\n",
       "    <tr>\n",
       "      <th>558</th>\n",
       "      <td>2016</td>\n",
       "      <td>York University Heights</td>\n",
       "      <td>425769.0</td>\n",
       "    </tr>\n",
       "    <tr>\n",
       "      <th>559</th>\n",
       "      <td>2016</td>\n",
       "      <td>Yorkdale-Glen Park</td>\n",
       "      <td>599698.0</td>\n",
       "    </tr>\n",
       "  </tbody>\n",
       "</table>\n",
       "<p>560 rows × 3 columns</p>\n",
       "</div>"
      ],
      "text/plain": [
       "     year                 neighbourhood  average_house_value\n",
       "0    2001               Agincourt North             200388.0\n",
       "1    2001  Agincourt South-Malvern West             203047.0\n",
       "2    2001                     Alderwood             259998.0\n",
       "3    2001                         Annex             453850.0\n",
       "4    2001             Banbury-Don Mills             371864.0\n",
       "..    ...                           ...                  ...\n",
       "555  2016                      Wychwood             787760.0\n",
       "556  2016                Yonge-Eglinton            1127052.0\n",
       "557  2016                Yonge-St.Clair            1131888.0\n",
       "558  2016       York University Heights             425769.0\n",
       "559  2016            Yorkdale-Glen Park             599698.0\n",
       "\n",
       "[560 rows x 3 columns]"
      ]
     },
     "execution_count": 715,
     "metadata": {},
     "output_type": "execute_result"
    }
   ],
   "source": [
    "# Create a new DataFrame with the mean house values by neighbourhood per year\n",
    "av_neighbourhood_val = to_data.groupby(['year','neighbourhood']).mean().reset_index()\n",
    "av_neighbourhood_val = av_neighbourhood_val[['year','neighbourhood','average_house_value']]\n",
    "av_neighbourhood_val"
   ]
  },
  {
   "cell_type": "code",
   "execution_count": 716,
   "metadata": {},
   "outputs": [
    {
     "data": {},
     "metadata": {},
     "output_type": "display_data"
    },
    {
     "data": {
      "application/vnd.holoviews_exec.v0+json": "",
      "text/html": [
       "<div id='35892'>\n",
       "\n",
       "\n",
       "\n",
       "\n",
       "\n",
       "  <div class=\"bk-root\" id=\"9c633564-07ed-4d9a-8b6d-68578ab498b4\" data-root-id=\"35892\"></div>\n",
       "</div>\n",
       "<script type=\"application/javascript\">(function(root) {\n",
       "  function embed_document(root) {\n",
       "    var docs_json = {\"bf54861d-ed7c-46e4-933e-af746eac4aeb\":{\"defs\":[{\"extends\":null,\"module\":null,\"name\":\"ReactiveHTML1\",\"overrides\":[],\"properties\":[]},{\"extends\":null,\"module\":null,\"name\":\"FlexBox1\",\"overrides\":[],\"properties\":[{\"default\":\"flex-start\",\"kind\":null,\"name\":\"align_content\"},{\"default\":\"flex-start\",\"kind\":null,\"name\":\"align_items\"},{\"default\":\"row\",\"kind\":null,\"name\":\"flex_direction\"},{\"default\":\"wrap\",\"kind\":null,\"name\":\"flex_wrap\"},{\"default\":\"flex-start\",\"kind\":null,\"name\":\"justify_content\"}]},{\"extends\":null,\"module\":null,\"name\":\"TemplateActions1\",\"overrides\":[],\"properties\":[{\"default\":0,\"kind\":null,\"name\":\"open_modal\"},{\"default\":0,\"kind\":null,\"name\":\"close_modal\"}]},{\"extends\":null,\"module\":null,\"name\":\"MaterialTemplateActions1\",\"overrides\":[],\"properties\":[{\"default\":0,\"kind\":null,\"name\":\"open_modal\"},{\"default\":0,\"kind\":null,\"name\":\"close_modal\"}]}],\"roots\":{\"references\":[{\"attributes\":{},\"id\":\"35918\",\"type\":\"ResetTool\"},{\"attributes\":{\"axis\":{\"id\":\"35906\"},\"coordinates\":null,\"grid_line_color\":null,\"group\":null,\"ticker\":null},\"id\":\"35909\",\"type\":\"Grid\"},{\"attributes\":{\"overlay\":{\"id\":\"35919\"}},\"id\":\"35917\",\"type\":\"BoxZoomTool\"},{\"attributes\":{\"line_alpha\":0.2,\"line_color\":\"#30a2da\",\"line_width\":2,\"x\":{\"field\":\"year\"},\"y\":{\"field\":\"average_house_value\"}},\"id\":\"35932\",\"type\":\"Line\"},{\"attributes\":{\"children\":[{\"id\":\"35971\"},{\"id\":\"35972\"},{\"id\":\"35974\"}],\"margin\":[0,0,0,0],\"name\":\"Column70433\"},\"id\":\"35970\",\"type\":\"Column\"},{\"attributes\":{},\"id\":\"35902\",\"type\":\"LinearScale\"},{\"attributes\":{},\"id\":\"35916\",\"type\":\"WheelZoomTool\"},{\"attributes\":{\"margin\":[20,20,20,20],\"min_width\":250,\"options\":[\"Agincourt North\",\"Agincourt South-Malvern West\",\"Alderwood\",\"Annex\",\"Banbury-Don Mills\",\"Bathurst Manor\",\"Bay Street Corridor\",\"Bayview Village\",\"Bayview Woods-Steeles\",\"Bedford Park-Nortown\",\"Beechborough-Greenbrook\",\"Bendale\",\"Birchcliffe-Cliffside\",\"Black Creek\",\"Blake-Jones\",\"Briar Hill-Belgravia\",\"Bridle Path-Sunnybrook-York Mills\",\"Broadview North\",\"Brookhaven-Amesbury\",\"Cabbagetown-South St.James Town\",\"Caledonia-Fairbank\",\"Casa Loma\",\"Centennial Scarborough\",\"Church-Yonge Corridor\",\"Clairlea-Birchmount\",\"Clanton Park\",\"Cliffcrest\",\"Corso Italia-Davenport\",\"Danforth\",\"Danforth-East York\",\"Don Valley Village\",\"Dorset Park\",\"Dovercourt-Wallace Emerson-Juncti\",\"Downsview-Roding-CFB\",\"Dufferin Grove\",\"East End-Danforth\",\"Edenbridge-Humber Valley\",\"Eglinton East\",\"Elms-Old Rexdale\",\"Englemount-Lawrence\",\"Eringate-Centennial-West Deane\",\"Etobicoke West Mall\",\"Flemingdon Park\",\"Forest Hill North\",\"Forest Hill South\",\"Glenfield-Jane Heights\",\"Greenwood-Coxwell\",\"Guildwood\",\"Henry Farm\",\"High Park North\",\"High Park-Swansea\",\"Highland Creek\",\"Hillcrest Village\",\"Humber Heights-Westmount\",\"Humber Summit\",\"Humbermede\",\"Humewood-Cedarvale\",\"Ionview\",\"Islington-City Centre West\",\"Junction Area\",\"Keelesdale-Eglinton West\",\"Kennedy Park\",\"Kensington-Chinatown\",\"Kingsview Village-The Westway\",\"Kingsway South\",\"L'Amoreaux\",\"Lambton Baby Point\",\"Lansing-Westgate\",\"Lawrence Park North\",\"Lawrence Park South\",\"Leaside-Bennington\",\"Little Portugal\",\"Long Branch\",\"Malvern\",\"Maple Leaf\",\"Markland Wood\",\"Milliken\",\"Mimico\",\"Morningside\",\"Moss Park\",\"Mount Dennis\",\"Mount Olive-Silverstone-Jamestown\",\"Mount Pleasant East\",\"Mount Pleasant West\",\"New Toronto\",\"Newtonbrook East\",\"Newtonbrook West\",\"Niagara\",\"North Riverdale\",\"North St.James Town\",\"O'Connor-Parkview\",\"Oakridge\",\"Oakwood Village\",\"Old East York\",\"Palmerston-Little Italy\",\"Parkwoods-Donalda\",\"Pelmo Park-Humberlea\",\"Playter Estates-Danforth\",\"Pleasant View\",\"Princess-Rosethorn\",\"Regent Park\",\"Rexdale-Kipling\",\"Rockcliffe-Smythe\",\"Roncesvalles\",\"Rosedale-Moore Park\",\"Rouge\",\"Runnymede-Bloor West Village\",\"Rustic\",\"Scarborough Village\",\"South Parkdale\",\"South Riverdale\",\"St.Andrew-Windfields\",\"Steeles\",\"Stonegate-Queensway\",\"Tam O'Shanter-Sullivan\",\"Taylor-Massey\",\"The Beaches\",\"Thistletown-Beaumond Heights\",\"Thorncliffe Park\",\"Trinity-Bellwoods\",\"University\",\"Victoria Village\",\"Waterfront Communities-The Island\",\"West Hill\",\"West Humber-Clairville\",\"Westminster-Branson\",\"Weston\",\"Weston-Pellam Park\",\"Wexford/Maryvale\",\"Willowdale East\",\"Willowdale West\",\"Willowridge-Martingrove-Richview\",\"Woburn\",\"Woodbine Corridor\",\"Woodbine-Lumsden\",\"Wychwood\",\"Yonge-Eglinton\",\"Yonge-St.Clair\",\"York University Heights\",\"Yorkdale-Glen Park\"],\"title\":\"neighbourhood\",\"value\":\"Agincourt North\",\"width\":250},\"id\":\"35973\",\"type\":\"Select\"},{\"attributes\":{},\"id\":\"35938\",\"type\":\"BasicTickFormatter\"},{\"attributes\":{},\"id\":\"35914\",\"type\":\"SaveTool\"},{\"attributes\":{},\"id\":\"35911\",\"type\":\"BasicTicker\"},{\"attributes\":{},\"id\":\"35907\",\"type\":\"BasicTicker\"},{\"attributes\":{\"coordinates\":null,\"group\":null,\"text\":\"Average House Value Per Neighbourhood\",\"text_color\":\"black\",\"text_font_size\":\"12pt\"},\"id\":\"35898\",\"type\":\"Title\"},{\"attributes\":{\"below\":[{\"id\":\"35906\"}],\"center\":[{\"id\":\"35909\"},{\"id\":\"35913\"}],\"height\":300,\"left\":[{\"id\":\"35910\"}],\"margin\":[5,5,5,5],\"min_border_bottom\":10,\"min_border_left\":10,\"min_border_right\":10,\"min_border_top\":10,\"renderers\":[{\"id\":\"35933\"}],\"sizing_mode\":\"fixed\",\"title\":{\"id\":\"35898\"},\"toolbar\":{\"id\":\"35920\"},\"width\":700,\"x_range\":{\"id\":\"35894\"},\"x_scale\":{\"id\":\"35902\"},\"y_range\":{\"id\":\"35895\"},\"y_scale\":{\"id\":\"35904\"}},\"id\":\"35897\",\"subtype\":\"Figure\",\"type\":\"Plot\"},{\"attributes\":{\"line_color\":\"#30a2da\",\"line_width\":2,\"x\":{\"field\":\"year\"},\"y\":{\"field\":\"average_house_value\"}},\"id\":\"35935\",\"type\":\"Line\"},{\"attributes\":{},\"id\":\"35928\",\"type\":\"Selection\"},{\"attributes\":{\"line_color\":\"#30a2da\",\"line_width\":2,\"x\":{\"field\":\"year\"},\"y\":{\"field\":\"average_house_value\"}},\"id\":\"35930\",\"type\":\"Line\"},{\"attributes\":{},\"id\":\"35904\",\"type\":\"LinearScale\"},{\"attributes\":{\"margin\":[5,5,5,5],\"name\":\"VSpacer70431\",\"sizing_mode\":\"stretch_height\"},\"id\":\"35971\",\"type\":\"Spacer\"},{\"attributes\":{\"client_comm_id\":\"ff1b40b9cb9545a3865297ec1ef92c7d\",\"comm_id\":\"6d3289f2d2c0431e9522678e5cf49da5\",\"plot_id\":\"35892\"},\"id\":\"36002\",\"type\":\"panel.models.comm_manager.CommManager\"},{\"attributes\":{\"end\":2016.0,\"reset_end\":2016.0,\"reset_start\":2001.0,\"start\":2001.0,\"tags\":[[[\"year\",\"year\",null]]]},\"id\":\"35894\",\"type\":\"Range1d\"},{\"attributes\":{\"axis_label\":\"average_house_value\",\"coordinates\":null,\"formatter\":{\"id\":\"35936\"},\"group\":null,\"major_label_policy\":{\"id\":\"35942\"},\"ticker\":{\"id\":\"35911\"}},\"id\":\"35910\",\"type\":\"LinearAxis\"},{\"attributes\":{\"axis_label\":\"year\",\"coordinates\":null,\"formatter\":{\"id\":\"35938\"},\"group\":null,\"major_label_orientation\":1.5707963267948966,\"major_label_policy\":{\"id\":\"35939\"},\"ticker\":{\"id\":\"35907\"}},\"id\":\"35906\",\"type\":\"LinearAxis\"},{\"attributes\":{\"data\":{\"average_house_value\":{\"__ndarray__\":\"AAAAACB2CEEAAAAAUOQRQQAAAAAsYRZBAAAAAKwEHEE=\",\"dtype\":\"float64\",\"order\":\"little\",\"shape\":[4]},\"year\":[2001,2006,2011,2016]},\"selected\":{\"id\":\"35928\"},\"selection_policy\":{\"id\":\"35957\"}},\"id\":\"35927\",\"type\":\"ColumnDataSource\"},{\"attributes\":{},\"id\":\"35957\",\"type\":\"UnionRenderers\"},{\"attributes\":{\"margin\":[5,5,5,5],\"name\":\"HSpacer70435\",\"sizing_mode\":\"stretch_width\"},\"id\":\"35969\",\"type\":\"Spacer\"},{\"attributes\":{\"end\":484917.3,\"reset_end\":484917.3,\"reset_start\":174521.7,\"start\":174521.7,\"tags\":[[[\"average_house_value\",\"average_house_value\",null]]]},\"id\":\"35895\",\"type\":\"Range1d\"},{\"attributes\":{\"axis\":{\"id\":\"35910\"},\"coordinates\":null,\"dimension\":1,\"grid_line_color\":null,\"group\":null,\"ticker\":null},\"id\":\"35913\",\"type\":\"Grid\"},{\"attributes\":{\"callback\":null,\"renderers\":[{\"id\":\"35933\"}],\"tags\":[\"hv_created\"],\"tooltips\":[[\"year\",\"@{year}\"],[\"average_house_value\",\"@{average_house_value}\"]]},\"id\":\"35896\",\"type\":\"HoverTool\"},{\"attributes\":{},\"id\":\"35942\",\"type\":\"AllLabels\"},{\"attributes\":{\"line_alpha\":0.1,\"line_color\":\"#30a2da\",\"line_width\":2,\"x\":{\"field\":\"year\"},\"y\":{\"field\":\"average_house_value\"}},\"id\":\"35931\",\"type\":\"Line\"},{\"attributes\":{\"children\":[{\"id\":\"35973\"}],\"css_classes\":[\"panel-widget-box\"],\"margin\":[5,5,5,5],\"name\":\"WidgetBox70426\"},\"id\":\"35972\",\"type\":\"Column\"},{\"attributes\":{\"format\":\"%.0f\"},\"id\":\"35936\",\"type\":\"PrintfTickFormatter\"},{\"attributes\":{},\"id\":\"35939\",\"type\":\"AllLabels\"},{\"attributes\":{\"children\":[{\"id\":\"35893\"},{\"id\":\"35897\"},{\"id\":\"35969\"},{\"id\":\"35970\"}],\"margin\":[0,0,0,0],\"name\":\"Row70425\"},\"id\":\"35892\",\"type\":\"Row\"},{\"attributes\":{\"coordinates\":null,\"data_source\":{\"id\":\"35927\"},\"glyph\":{\"id\":\"35930\"},\"group\":null,\"hover_glyph\":null,\"muted_glyph\":{\"id\":\"35932\"},\"nonselection_glyph\":{\"id\":\"35931\"},\"selection_glyph\":{\"id\":\"35935\"},\"view\":{\"id\":\"35934\"}},\"id\":\"35933\",\"type\":\"GlyphRenderer\"},{\"attributes\":{\"tools\":[{\"id\":\"35896\"},{\"id\":\"35914\"},{\"id\":\"35915\"},{\"id\":\"35916\"},{\"id\":\"35917\"},{\"id\":\"35918\"}]},\"id\":\"35920\",\"type\":\"Toolbar\"},{\"attributes\":{\"margin\":[5,5,5,5],\"name\":\"VSpacer70432\",\"sizing_mode\":\"stretch_height\"},\"id\":\"35974\",\"type\":\"Spacer\"},{\"attributes\":{\"source\":{\"id\":\"35927\"}},\"id\":\"35934\",\"type\":\"CDSView\"},{\"attributes\":{\"bottom_units\":\"screen\",\"coordinates\":null,\"fill_alpha\":0.5,\"fill_color\":\"lightgrey\",\"group\":null,\"left_units\":\"screen\",\"level\":\"overlay\",\"line_alpha\":1.0,\"line_color\":\"black\",\"line_dash\":[4,4],\"line_width\":2,\"right_units\":\"screen\",\"syncable\":false,\"top_units\":\"screen\"},\"id\":\"35919\",\"type\":\"BoxAnnotation\"},{\"attributes\":{\"margin\":[5,5,5,5],\"name\":\"HSpacer70434\",\"sizing_mode\":\"stretch_width\"},\"id\":\"35893\",\"type\":\"Spacer\"},{\"attributes\":{},\"id\":\"35915\",\"type\":\"PanTool\"}],\"root_ids\":[\"35892\",\"36002\"]},\"title\":\"Bokeh Application\",\"version\":\"2.4.1\"}};\n",
       "    var render_items = [{\"docid\":\"bf54861d-ed7c-46e4-933e-af746eac4aeb\",\"root_ids\":[\"35892\"],\"roots\":{\"35892\":\"9c633564-07ed-4d9a-8b6d-68578ab498b4\"}}];\n",
       "    root.Bokeh.embed.embed_items_notebook(docs_json, render_items);\n",
       "  }\n",
       "  if (root.Bokeh !== undefined && root.Bokeh.Panel !== undefined && ( root['Plotly'] !== undefined)) {\n",
       "    embed_document(root);\n",
       "  } else {\n",
       "    var attempts = 0;\n",
       "    var timer = setInterval(function(root) {\n",
       "      if (root.Bokeh !== undefined && root.Bokeh.Panel !== undefined && (root['Plotly'] !== undefined)) {\n",
       "        clearInterval(timer);\n",
       "        embed_document(root);\n",
       "      } else if (document.readyState == \"complete\") {\n",
       "        attempts++;\n",
       "        if (attempts > 200) {\n",
       "          clearInterval(timer);\n",
       "          console.log(\"Bokeh: ERROR: Unable to run BokehJS code because BokehJS library is missing\");\n",
       "        }\n",
       "      }\n",
       "    }, 25, root)\n",
       "  }\n",
       "})(window);</script>"
      ],
      "text/plain": [
       ":DynamicMap   [neighbourhood]\n",
       "   :Curve   [year]   (average_house_value)"
      ]
     },
     "execution_count": 716,
     "metadata": {
      "application/vnd.holoviews_exec.v0+json": {
       "id": "35892"
      }
     },
     "output_type": "execute_result"
    }
   ],
   "source": [
    "# Use hvplot to create an interactive line chart of the average house value per neighbourhood\n",
    "# The plot should have a dropdown selector for the neighbourhood\n",
    "av_neighbourhood_plot = av_neighbourhood_val.hvplot.line(\n",
    "    x = 'year', \n",
    "    y = 'average_house_value',\n",
    "    title= 'Average House Value Per Neighbourhood', \n",
    "    rot = 90, \n",
    "    yformatter = \"%.0f\",\n",
    "    groupby = 'neighbourhood'\n",
    ")\n",
    "av_neighbourhood_plot"
   ]
  },
  {
   "cell_type": "markdown",
   "metadata": {},
   "source": [
    "## Number of Dwelling Types per Year\n",
    "\n",
    "In this section, you will use `hvplot` to create an interactive visualization of the average number of dwelling types per year with a dropdown selector for the neighbourhood."
   ]
  },
  {
   "cell_type": "code",
   "execution_count": 840,
   "metadata": {},
   "outputs": [
    {
     "data": {
      "text/html": [
       "<div>\n",
       "<style scoped>\n",
       "    .dataframe tbody tr th:only-of-type {\n",
       "        vertical-align: middle;\n",
       "    }\n",
       "\n",
       "    .dataframe tbody tr th {\n",
       "        vertical-align: top;\n",
       "    }\n",
       "\n",
       "    .dataframe thead th {\n",
       "        text-align: right;\n",
       "    }\n",
       "</style>\n",
       "<table border=\"1\" class=\"dataframe\">\n",
       "  <thead>\n",
       "    <tr style=\"text-align: right;\">\n",
       "      <th></th>\n",
       "      <th>year</th>\n",
       "      <th>neighbourhood</th>\n",
       "      <th>single_detached_house</th>\n",
       "      <th>apartment_five_storeys_plus</th>\n",
       "      <th>movable_dwelling</th>\n",
       "      <th>semi_detached_house</th>\n",
       "      <th>row_house</th>\n",
       "      <th>duplex</th>\n",
       "      <th>apartment_five_storeys_less</th>\n",
       "      <th>other_house</th>\n",
       "    </tr>\n",
       "  </thead>\n",
       "  <tbody>\n",
       "    <tr>\n",
       "      <th>0</th>\n",
       "      <td>2001</td>\n",
       "      <td>Agincourt North</td>\n",
       "      <td>3715.0</td>\n",
       "      <td>1480.0</td>\n",
       "      <td>0.0</td>\n",
       "      <td>1055.0</td>\n",
       "      <td>1295.0</td>\n",
       "      <td>195.0</td>\n",
       "      <td>185.0</td>\n",
       "      <td>5.0</td>\n",
       "    </tr>\n",
       "    <tr>\n",
       "      <th>1</th>\n",
       "      <td>2001</td>\n",
       "      <td>Agincourt South-Malvern West</td>\n",
       "      <td>3250.0</td>\n",
       "      <td>1835.0</td>\n",
       "      <td>0.0</td>\n",
       "      <td>545.0</td>\n",
       "      <td>455.0</td>\n",
       "      <td>105.0</td>\n",
       "      <td>425.0</td>\n",
       "      <td>0.0</td>\n",
       "    </tr>\n",
       "    <tr>\n",
       "      <th>2</th>\n",
       "      <td>2001</td>\n",
       "      <td>Alderwood</td>\n",
       "      <td>3175.0</td>\n",
       "      <td>315.0</td>\n",
       "      <td>0.0</td>\n",
       "      <td>470.0</td>\n",
       "      <td>50.0</td>\n",
       "      <td>185.0</td>\n",
       "      <td>370.0</td>\n",
       "      <td>0.0</td>\n",
       "    </tr>\n",
       "    <tr>\n",
       "      <th>3</th>\n",
       "      <td>2001</td>\n",
       "      <td>Annex</td>\n",
       "      <td>1060.0</td>\n",
       "      <td>6090.0</td>\n",
       "      <td>5.0</td>\n",
       "      <td>1980.0</td>\n",
       "      <td>605.0</td>\n",
       "      <td>275.0</td>\n",
       "      <td>3710.0</td>\n",
       "      <td>165.0</td>\n",
       "    </tr>\n",
       "    <tr>\n",
       "      <th>4</th>\n",
       "      <td>2001</td>\n",
       "      <td>Banbury-Don Mills</td>\n",
       "      <td>3615.0</td>\n",
       "      <td>4465.0</td>\n",
       "      <td>0.0</td>\n",
       "      <td>240.0</td>\n",
       "      <td>380.0</td>\n",
       "      <td>15.0</td>\n",
       "      <td>1360.0</td>\n",
       "      <td>0.0</td>\n",
       "    </tr>\n",
       "    <tr>\n",
       "      <th>...</th>\n",
       "      <td>...</td>\n",
       "      <td>...</td>\n",
       "      <td>...</td>\n",
       "      <td>...</td>\n",
       "      <td>...</td>\n",
       "      <td>...</td>\n",
       "      <td>...</td>\n",
       "      <td>...</td>\n",
       "      <td>...</td>\n",
       "      <td>...</td>\n",
       "    </tr>\n",
       "    <tr>\n",
       "      <th>555</th>\n",
       "      <td>2016</td>\n",
       "      <td>Wychwood</td>\n",
       "      <td>920.0</td>\n",
       "      <td>1295.0</td>\n",
       "      <td>0.0</td>\n",
       "      <td>880.0</td>\n",
       "      <td>290.0</td>\n",
       "      <td>395.0</td>\n",
       "      <td>2080.0</td>\n",
       "      <td>35.0</td>\n",
       "    </tr>\n",
       "    <tr>\n",
       "      <th>556</th>\n",
       "      <td>2016</td>\n",
       "      <td>Yonge-Eglinton</td>\n",
       "      <td>1400.0</td>\n",
       "      <td>1995.0</td>\n",
       "      <td>0.0</td>\n",
       "      <td>465.0</td>\n",
       "      <td>60.0</td>\n",
       "      <td>310.0</td>\n",
       "      <td>1445.0</td>\n",
       "      <td>0.0</td>\n",
       "    </tr>\n",
       "    <tr>\n",
       "      <th>557</th>\n",
       "      <td>2016</td>\n",
       "      <td>Yonge-St.Clair</td>\n",
       "      <td>520.0</td>\n",
       "      <td>4315.0</td>\n",
       "      <td>0.0</td>\n",
       "      <td>450.0</td>\n",
       "      <td>220.0</td>\n",
       "      <td>130.0</td>\n",
       "      <td>1370.0</td>\n",
       "      <td>0.0</td>\n",
       "    </tr>\n",
       "    <tr>\n",
       "      <th>558</th>\n",
       "      <td>2016</td>\n",
       "      <td>York University Heights</td>\n",
       "      <td>1235.0</td>\n",
       "      <td>5505.0</td>\n",
       "      <td>0.0</td>\n",
       "      <td>1360.0</td>\n",
       "      <td>775.0</td>\n",
       "      <td>280.0</td>\n",
       "      <td>995.0</td>\n",
       "      <td>0.0</td>\n",
       "    </tr>\n",
       "    <tr>\n",
       "      <th>559</th>\n",
       "      <td>2016</td>\n",
       "      <td>Yorkdale-Glen Park</td>\n",
       "      <td>2165.0</td>\n",
       "      <td>1185.0</td>\n",
       "      <td>0.0</td>\n",
       "      <td>80.0</td>\n",
       "      <td>600.0</td>\n",
       "      <td>465.0</td>\n",
       "      <td>830.0</td>\n",
       "      <td>5.0</td>\n",
       "    </tr>\n",
       "  </tbody>\n",
       "</table>\n",
       "<p>560 rows × 10 columns</p>\n",
       "</div>"
      ],
      "text/plain": [
       "     year                 neighbourhood  single_detached_house  \\\n",
       "0    2001               Agincourt North                 3715.0   \n",
       "1    2001  Agincourt South-Malvern West                 3250.0   \n",
       "2    2001                     Alderwood                 3175.0   \n",
       "3    2001                         Annex                 1060.0   \n",
       "4    2001             Banbury-Don Mills                 3615.0   \n",
       "..    ...                           ...                    ...   \n",
       "555  2016                      Wychwood                  920.0   \n",
       "556  2016                Yonge-Eglinton                 1400.0   \n",
       "557  2016                Yonge-St.Clair                  520.0   \n",
       "558  2016       York University Heights                 1235.0   \n",
       "559  2016            Yorkdale-Glen Park                 2165.0   \n",
       "\n",
       "     apartment_five_storeys_plus  movable_dwelling  semi_detached_house  \\\n",
       "0                         1480.0               0.0               1055.0   \n",
       "1                         1835.0               0.0                545.0   \n",
       "2                          315.0               0.0                470.0   \n",
       "3                         6090.0               5.0               1980.0   \n",
       "4                         4465.0               0.0                240.0   \n",
       "..                           ...               ...                  ...   \n",
       "555                       1295.0               0.0                880.0   \n",
       "556                       1995.0               0.0                465.0   \n",
       "557                       4315.0               0.0                450.0   \n",
       "558                       5505.0               0.0               1360.0   \n",
       "559                       1185.0               0.0                 80.0   \n",
       "\n",
       "     row_house  duplex  apartment_five_storeys_less  other_house  \n",
       "0       1295.0   195.0                        185.0          5.0  \n",
       "1        455.0   105.0                        425.0          0.0  \n",
       "2         50.0   185.0                        370.0          0.0  \n",
       "3        605.0   275.0                       3710.0        165.0  \n",
       "4        380.0    15.0                       1360.0          0.0  \n",
       "..         ...     ...                          ...          ...  \n",
       "555      290.0   395.0                       2080.0         35.0  \n",
       "556       60.0   310.0                       1445.0          0.0  \n",
       "557      220.0   130.0                       1370.0          0.0  \n",
       "558      775.0   280.0                        995.0          0.0  \n",
       "559      600.0   465.0                        830.0          5.0  \n",
       "\n",
       "[560 rows x 10 columns]"
      ]
     },
     "execution_count": 840,
     "metadata": {},
     "output_type": "execute_result"
    }
   ],
   "source": [
    "#Obtain the average number of dwelling types per year\n",
    "av_neighbourhood_dt = to_data.groupby(['year','neighbourhood']).mean().reset_index()\n",
    "av_neighbourhood_dt = av_neighbourhood_dt.drop(av_neighbourhood_dt.columns[10:], axis = 1)\n",
    "av_neighbourhood_dt"
   ]
  },
  {
   "cell_type": "code",
   "execution_count": 841,
   "metadata": {},
   "outputs": [
    {
     "data": {},
     "metadata": {},
     "output_type": "display_data"
    },
    {
     "data": {
      "application/vnd.holoviews_exec.v0+json": "",
      "text/html": [
       "<div id='36672'>\n",
       "\n",
       "\n",
       "\n",
       "\n",
       "\n",
       "  <div class=\"bk-root\" id=\"6c8bf111-8dc3-41d6-932a-1ad15c8621fc\" data-root-id=\"36672\"></div>\n",
       "</div>\n",
       "<script type=\"application/javascript\">(function(root) {\n",
       "  function embed_document(root) {\n",
       "    var docs_json = {\"528ab688-f98b-49a0-920c-7dd5f1e05689\":{\"defs\":[{\"extends\":null,\"module\":null,\"name\":\"ReactiveHTML1\",\"overrides\":[],\"properties\":[]},{\"extends\":null,\"module\":null,\"name\":\"FlexBox1\",\"overrides\":[],\"properties\":[{\"default\":\"flex-start\",\"kind\":null,\"name\":\"align_content\"},{\"default\":\"flex-start\",\"kind\":null,\"name\":\"align_items\"},{\"default\":\"row\",\"kind\":null,\"name\":\"flex_direction\"},{\"default\":\"wrap\",\"kind\":null,\"name\":\"flex_wrap\"},{\"default\":\"flex-start\",\"kind\":null,\"name\":\"justify_content\"}]},{\"extends\":null,\"module\":null,\"name\":\"TemplateActions1\",\"overrides\":[],\"properties\":[{\"default\":0,\"kind\":null,\"name\":\"open_modal\"},{\"default\":0,\"kind\":null,\"name\":\"close_modal\"}]},{\"extends\":null,\"module\":null,\"name\":\"MaterialTemplateActions1\",\"overrides\":[],\"properties\":[{\"default\":0,\"kind\":null,\"name\":\"open_modal\"},{\"default\":0,\"kind\":null,\"name\":\"close_modal\"}]}],\"roots\":{\"references\":[{\"attributes\":{\"margin\":[5,5,5,5],\"name\":\"HSpacer71821\",\"sizing_mode\":\"stretch_width\"},\"id\":\"36749\",\"type\":\"Spacer\"},{\"attributes\":{},\"id\":\"36695\",\"type\":\"WheelZoomTool\"},{\"attributes\":{},\"id\":\"36719\",\"type\":\"AllLabels\"},{\"attributes\":{\"factors\":[[\"2001\",\"other_house\"],[\"2001\",\"apartment_five_storeys_less\"],[\"2001\",\"duplex\"],[\"2001\",\"row_house\"],[\"2001\",\"semi_detached_house\"],[\"2001\",\"movable_dwelling\"],[\"2001\",\"apartment_five_storeys_plus\"],[\"2001\",\"single_detached_house\"],[\"2006\",\"other_house\"],[\"2006\",\"apartment_five_storeys_less\"],[\"2006\",\"duplex\"],[\"2006\",\"row_house\"],[\"2006\",\"semi_detached_house\"],[\"2006\",\"movable_dwelling\"],[\"2006\",\"apartment_five_storeys_plus\"],[\"2006\",\"single_detached_house\"],[\"2011\",\"other_house\"],[\"2011\",\"apartment_five_storeys_less\"],[\"2011\",\"duplex\"],[\"2011\",\"row_house\"],[\"2011\",\"semi_detached_house\"],[\"2011\",\"movable_dwelling\"],[\"2011\",\"apartment_five_storeys_plus\"],[\"2011\",\"single_detached_house\"],[\"2016\",\"other_house\"],[\"2016\",\"apartment_five_storeys_less\"],[\"2016\",\"duplex\"],[\"2016\",\"row_house\"],[\"2016\",\"semi_detached_house\"],[\"2016\",\"movable_dwelling\"],[\"2016\",\"apartment_five_storeys_plus\"],[\"2016\",\"single_detached_house\"]],\"tags\":[[[\"year\",\"year\",null],[\"Variable\",\"Variable\",null]]]},\"id\":\"36674\",\"type\":\"FactorRange\"},{\"attributes\":{\"end\":4086.5,\"reset_end\":4086.5,\"reset_start\":0.0,\"tags\":[[[\"value\",\"value\",null]]]},\"id\":\"36675\",\"type\":\"Range1d\"},{\"attributes\":{\"axis_label\":\"No. of Dwelling Types\",\"coordinates\":null,\"formatter\":{\"id\":\"36716\"},\"group\":null,\"major_label_policy\":{\"id\":\"36722\"},\"ticker\":{\"id\":\"36690\"}},\"id\":\"36689\",\"type\":\"LinearAxis\"},{\"attributes\":{\"fill_color\":{\"field\":\"Variable\",\"transform\":{\"id\":\"36706\"}},\"hatch_color\":{\"field\":\"Variable\",\"transform\":{\"id\":\"36706\"}},\"top\":{\"field\":\"value\"},\"width\":{\"value\":0.8},\"x\":{\"field\":\"xoffsets\"}},\"id\":\"36710\",\"type\":\"VBar\"},{\"attributes\":{},\"id\":\"36718\",\"type\":\"CategoricalTickFormatter\"},{\"attributes\":{},\"id\":\"36682\",\"type\":\"CategoricalScale\"},{\"attributes\":{\"client_comm_id\":\"3eda4c9ce80748b89be42b27af507f48\",\"comm_id\":\"2efda0833bdc4e65a725b1fcad121ff6\",\"plot_id\":\"36672\"},\"id\":\"36782\",\"type\":\"panel.models.comm_manager.CommManager\"},{\"attributes\":{\"callback\":null,\"renderers\":[{\"id\":\"36713\"}],\"tags\":[\"hv_created\"],\"tooltips\":[[\"year\",\"@{year}\"],[\"Variable\",\"@{Variable}\"],[\"value\",\"@{value}\"]]},\"id\":\"36676\",\"type\":\"HoverTool\"},{\"attributes\":{\"tools\":[{\"id\":\"36676\"},{\"id\":\"36693\"},{\"id\":\"36694\"},{\"id\":\"36695\"},{\"id\":\"36696\"},{\"id\":\"36697\"}]},\"id\":\"36699\",\"type\":\"Toolbar\"},{\"attributes\":{},\"id\":\"36697\",\"type\":\"ResetTool\"},{\"attributes\":{\"source\":{\"id\":\"36707\"}},\"id\":\"36714\",\"type\":\"CDSView\"},{\"attributes\":{\"overlay\":{\"id\":\"36698\"}},\"id\":\"36696\",\"type\":\"BoxZoomTool\"},{\"attributes\":{\"children\":[{\"id\":\"36751\"},{\"id\":\"36752\"},{\"id\":\"36754\"}],\"margin\":[0,0,0,0],\"name\":\"Column71819\"},\"id\":\"36750\",\"type\":\"Column\"},{\"attributes\":{\"factors\":[\"single_detached_house\",\"apartment_five_storeys_plus\",\"movable_dwelling\",\"semi_detached_house\",\"row_house\",\"duplex\",\"apartment_five_storeys_less\",\"other_house\"],\"palette\":[\"#30a2da\",\"#fc4f30\",\"#e5ae38\",\"#6d904f\",\"#8b8b8b\",\"#17becf\",\"#9467bd\",\"#d62728\"]},\"id\":\"36706\",\"type\":\"CategoricalColorMapper\"},{\"attributes\":{\"axis\":{\"id\":\"36686\"},\"coordinates\":null,\"grid_line_color\":null,\"group\":null,\"ticker\":null},\"id\":\"36688\",\"type\":\"Grid\"},{\"attributes\":{\"axis\":{\"id\":\"36689\"},\"coordinates\":null,\"dimension\":1,\"grid_line_color\":null,\"group\":null,\"ticker\":null},\"id\":\"36692\",\"type\":\"Grid\"},{\"attributes\":{\"children\":[{\"id\":\"36753\"}],\"css_classes\":[\"panel-widget-box\"],\"margin\":[5,5,5,5],\"name\":\"WidgetBox71812\"},\"id\":\"36752\",\"type\":\"Column\"},{\"attributes\":{},\"id\":\"36708\",\"type\":\"Selection\"},{\"attributes\":{\"bottom\":{\"value\":0},\"fill_alpha\":{\"value\":1.0},\"fill_color\":{\"field\":\"Variable\",\"transform\":{\"id\":\"36706\"}},\"hatch_alpha\":{\"value\":1.0},\"hatch_color\":{\"field\":\"Variable\",\"transform\":{\"id\":\"36706\"}},\"hatch_scale\":{\"value\":12.0},\"hatch_weight\":{\"value\":1.0},\"line_alpha\":{\"value\":1.0},\"line_cap\":{\"value\":\"butt\"},\"line_color\":{\"value\":\"black\"},\"line_dash\":{\"value\":[]},\"line_dash_offset\":{\"value\":0},\"line_join\":{\"value\":\"bevel\"},\"line_width\":{\"value\":1},\"top\":{\"field\":\"value\"},\"width\":{\"value\":0.8},\"x\":{\"field\":\"xoffsets\"}},\"id\":\"36715\",\"type\":\"VBar\"},{\"attributes\":{\"format\":\"%.0f\"},\"id\":\"36716\",\"type\":\"PrintfTickFormatter\"},{\"attributes\":{\"children\":[{\"id\":\"36673\"},{\"id\":\"36677\"},{\"id\":\"36749\"},{\"id\":\"36750\"}],\"margin\":[0,0,0,0],\"name\":\"Row71811\"},\"id\":\"36672\",\"type\":\"Row\"},{\"attributes\":{},\"id\":\"36737\",\"type\":\"UnionRenderers\"},{\"attributes\":{\"axis_label\":\"Year\",\"coordinates\":null,\"formatter\":{\"id\":\"36718\"},\"group\":null,\"major_label_orientation\":1.5707963267948966,\"major_label_policy\":{\"id\":\"36719\"},\"ticker\":{\"id\":\"36687\"}},\"id\":\"36686\",\"type\":\"CategoricalAxis\"},{\"attributes\":{\"margin\":[5,5,5,5],\"name\":\"VSpacer71818\",\"sizing_mode\":\"stretch_height\"},\"id\":\"36754\",\"type\":\"Spacer\"},{\"attributes\":{},\"id\":\"36693\",\"type\":\"SaveTool\"},{\"attributes\":{},\"id\":\"36687\",\"type\":\"CategoricalTicker\"},{\"attributes\":{\"margin\":[20,20,20,20],\"min_width\":250,\"options\":[\"Agincourt North\",\"Agincourt South-Malvern West\",\"Alderwood\",\"Annex\",\"Banbury-Don Mills\",\"Bathurst Manor\",\"Bay Street Corridor\",\"Bayview Village\",\"Bayview Woods-Steeles\",\"Bedford Park-Nortown\",\"Beechborough-Greenbrook\",\"Bendale\",\"Birchcliffe-Cliffside\",\"Black Creek\",\"Blake-Jones\",\"Briar Hill-Belgravia\",\"Bridle Path-Sunnybrook-York Mills\",\"Broadview North\",\"Brookhaven-Amesbury\",\"Cabbagetown-South St.James Town\",\"Caledonia-Fairbank\",\"Casa Loma\",\"Centennial Scarborough\",\"Church-Yonge Corridor\",\"Clairlea-Birchmount\",\"Clanton Park\",\"Cliffcrest\",\"Corso Italia-Davenport\",\"Danforth\",\"Danforth-East York\",\"Don Valley Village\",\"Dorset Park\",\"Dovercourt-Wallace Emerson-Juncti\",\"Downsview-Roding-CFB\",\"Dufferin Grove\",\"East End-Danforth\",\"Edenbridge-Humber Valley\",\"Eglinton East\",\"Elms-Old Rexdale\",\"Englemount-Lawrence\",\"Eringate-Centennial-West Deane\",\"Etobicoke West Mall\",\"Flemingdon Park\",\"Forest Hill North\",\"Forest Hill South\",\"Glenfield-Jane Heights\",\"Greenwood-Coxwell\",\"Guildwood\",\"Henry Farm\",\"High Park North\",\"High Park-Swansea\",\"Highland Creek\",\"Hillcrest Village\",\"Humber Heights-Westmount\",\"Humber Summit\",\"Humbermede\",\"Humewood-Cedarvale\",\"Ionview\",\"Islington-City Centre West\",\"Junction Area\",\"Keelesdale-Eglinton West\",\"Kennedy Park\",\"Kensington-Chinatown\",\"Kingsview Village-The Westway\",\"Kingsway South\",\"L'Amoreaux\",\"Lambton Baby Point\",\"Lansing-Westgate\",\"Lawrence Park North\",\"Lawrence Park South\",\"Leaside-Bennington\",\"Little Portugal\",\"Long Branch\",\"Malvern\",\"Maple Leaf\",\"Markland Wood\",\"Milliken\",\"Mimico\",\"Morningside\",\"Moss Park\",\"Mount Dennis\",\"Mount Olive-Silverstone-Jamestown\",\"Mount Pleasant East\",\"Mount Pleasant West\",\"New Toronto\",\"Newtonbrook East\",\"Newtonbrook West\",\"Niagara\",\"North Riverdale\",\"North St.James Town\",\"O'Connor-Parkview\",\"Oakridge\",\"Oakwood Village\",\"Old East York\",\"Palmerston-Little Italy\",\"Parkwoods-Donalda\",\"Pelmo Park-Humberlea\",\"Playter Estates-Danforth\",\"Pleasant View\",\"Princess-Rosethorn\",\"Regent Park\",\"Rexdale-Kipling\",\"Rockcliffe-Smythe\",\"Roncesvalles\",\"Rosedale-Moore Park\",\"Rouge\",\"Runnymede-Bloor West Village\",\"Rustic\",\"Scarborough Village\",\"South Parkdale\",\"South Riverdale\",\"St.Andrew-Windfields\",\"Steeles\",\"Stonegate-Queensway\",\"Tam O'Shanter-Sullivan\",\"Taylor-Massey\",\"The Beaches\",\"Thistletown-Beaumond Heights\",\"Thorncliffe Park\",\"Trinity-Bellwoods\",\"University\",\"Victoria Village\",\"Waterfront Communities-The Island\",\"West Hill\",\"West Humber-Clairville\",\"Westminster-Branson\",\"Weston\",\"Weston-Pellam Park\",\"Wexford/Maryvale\",\"Willowdale East\",\"Willowdale West\",\"Willowridge-Martingrove-Richview\",\"Woburn\",\"Woodbine Corridor\",\"Woodbine-Lumsden\",\"Wychwood\",\"Yonge-Eglinton\",\"Yonge-St.Clair\",\"York University Heights\",\"Yorkdale-Glen Park\"],\"title\":\"neighbourhood\",\"value\":\"Agincourt North\",\"width\":250},\"id\":\"36753\",\"type\":\"Select\"},{\"attributes\":{},\"id\":\"36690\",\"type\":\"BasicTicker\"},{\"attributes\":{},\"id\":\"36722\",\"type\":\"AllLabels\"},{\"attributes\":{\"bottom_units\":\"screen\",\"coordinates\":null,\"fill_alpha\":0.5,\"fill_color\":\"lightgrey\",\"group\":null,\"left_units\":\"screen\",\"level\":\"overlay\",\"line_alpha\":1.0,\"line_color\":\"black\",\"line_dash\":[4,4],\"line_width\":2,\"right_units\":\"screen\",\"syncable\":false,\"top_units\":\"screen\"},\"id\":\"36698\",\"type\":\"BoxAnnotation\"},{\"attributes\":{},\"id\":\"36684\",\"type\":\"LinearScale\"},{\"attributes\":{\"below\":[{\"id\":\"36686\"}],\"center\":[{\"id\":\"36688\"},{\"id\":\"36692\"}],\"height\":500,\"left\":[{\"id\":\"36689\"}],\"margin\":[5,5,5,5],\"min_border_bottom\":10,\"min_border_left\":10,\"min_border_right\":10,\"min_border_top\":10,\"renderers\":[{\"id\":\"36713\"}],\"sizing_mode\":\"fixed\",\"title\":{\"id\":\"36678\"},\"toolbar\":{\"id\":\"36699\"},\"width\":1000,\"x_range\":{\"id\":\"36674\"},\"x_scale\":{\"id\":\"36682\"},\"y_range\":{\"id\":\"36675\"},\"y_scale\":{\"id\":\"36684\"}},\"id\":\"36677\",\"subtype\":\"Figure\",\"type\":\"Plot\"},{\"attributes\":{\"data\":{\"Variable\":[\"single_detached_house\",\"single_detached_house\",\"single_detached_house\",\"single_detached_house\",\"apartment_five_storeys_plus\",\"apartment_five_storeys_plus\",\"apartment_five_storeys_plus\",\"apartment_five_storeys_plus\",\"movable_dwelling\",\"movable_dwelling\",\"movable_dwelling\",\"movable_dwelling\",\"semi_detached_house\",\"semi_detached_house\",\"semi_detached_house\",\"semi_detached_house\",\"row_house\",\"row_house\",\"row_house\",\"row_house\",\"duplex\",\"duplex\",\"duplex\",\"duplex\",\"apartment_five_storeys_less\",\"apartment_five_storeys_less\",\"apartment_five_storeys_less\",\"apartment_five_storeys_less\",\"other_house\",\"other_house\",\"other_house\",\"other_house\"],\"value\":{\"__ndarray__\":\"AAAAAAAGrUAAAAAAAL6pQAAAAAAAcqpAAAAAAAAiqkAAAAAAACCXQAAAAAAAGKBAAAAAAACkoEAAAAAAAJCgQAAAAAAAAAAAAAAAAAAAAAAAAAAAAAAUQAAAAAAAABRAAAAAAAB8kEAAAAAAADiIQAAAAAAAoIlAAAAAAAAoiUAAAAAAADyUQAAAAAAARJZAAAAAAADklkAAAAAAAICWQAAAAAAAYGhAAAAAAADAgkAAAAAAABCDQAAAAAAAKIRAAAAAAAAgZ0AAAAAAAKiBQAAAAAAACIZAAAAAAAD4hkAAAAAAAAAUQAAAAAAAAAAAAAAAAAAANEAAAAAAAAAuQA==\",\"dtype\":\"float64\",\"order\":\"little\",\"shape\":[32]},\"xoffsets\":[[\"2001\",\"single_detached_house\"],[\"2006\",\"single_detached_house\"],[\"2011\",\"single_detached_house\"],[\"2016\",\"single_detached_house\"],[\"2001\",\"apartment_five_storeys_plus\"],[\"2006\",\"apartment_five_storeys_plus\"],[\"2011\",\"apartment_five_storeys_plus\"],[\"2016\",\"apartment_five_storeys_plus\"],[\"2001\",\"movable_dwelling\"],[\"2006\",\"movable_dwelling\"],[\"2011\",\"movable_dwelling\"],[\"2016\",\"movable_dwelling\"],[\"2001\",\"semi_detached_house\"],[\"2006\",\"semi_detached_house\"],[\"2011\",\"semi_detached_house\"],[\"2016\",\"semi_detached_house\"],[\"2001\",\"row_house\"],[\"2006\",\"row_house\"],[\"2011\",\"row_house\"],[\"2016\",\"row_house\"],[\"2001\",\"duplex\"],[\"2006\",\"duplex\"],[\"2011\",\"duplex\"],[\"2016\",\"duplex\"],[\"2001\",\"apartment_five_storeys_less\"],[\"2006\",\"apartment_five_storeys_less\"],[\"2011\",\"apartment_five_storeys_less\"],[\"2016\",\"apartment_five_storeys_less\"],[\"2001\",\"other_house\"],[\"2006\",\"other_house\"],[\"2011\",\"other_house\"],[\"2016\",\"other_house\"]],\"year\":[\"2001\",\"2006\",\"2011\",\"2016\",\"2001\",\"2006\",\"2011\",\"2016\",\"2001\",\"2006\",\"2011\",\"2016\",\"2001\",\"2006\",\"2011\",\"2016\",\"2001\",\"2006\",\"2011\",\"2016\",\"2001\",\"2006\",\"2011\",\"2016\",\"2001\",\"2006\",\"2011\",\"2016\",\"2001\",\"2006\",\"2011\",\"2016\"]},\"selected\":{\"id\":\"36708\"},\"selection_policy\":{\"id\":\"36737\"}},\"id\":\"36707\",\"type\":\"ColumnDataSource\"},{\"attributes\":{},\"id\":\"36694\",\"type\":\"PanTool\"},{\"attributes\":{\"fill_alpha\":{\"value\":0.1},\"fill_color\":{\"field\":\"Variable\",\"transform\":{\"id\":\"36706\"}},\"hatch_alpha\":{\"value\":0.1},\"hatch_color\":{\"field\":\"Variable\",\"transform\":{\"id\":\"36706\"}},\"line_alpha\":{\"value\":0.1},\"top\":{\"field\":\"value\"},\"width\":{\"value\":0.8},\"x\":{\"field\":\"xoffsets\"}},\"id\":\"36711\",\"type\":\"VBar\"},{\"attributes\":{\"fill_alpha\":{\"value\":0.2},\"fill_color\":{\"field\":\"Variable\",\"transform\":{\"id\":\"36706\"}},\"hatch_alpha\":{\"value\":0.2},\"hatch_color\":{\"field\":\"Variable\",\"transform\":{\"id\":\"36706\"}},\"line_alpha\":{\"value\":0.2},\"top\":{\"field\":\"value\"},\"width\":{\"value\":0.8},\"x\":{\"field\":\"xoffsets\"}},\"id\":\"36712\",\"type\":\"VBar\"},{\"attributes\":{\"coordinates\":null,\"data_source\":{\"id\":\"36707\"},\"glyph\":{\"id\":\"36710\"},\"group\":null,\"hover_glyph\":null,\"muted_glyph\":{\"id\":\"36712\"},\"nonselection_glyph\":{\"id\":\"36711\"},\"selection_glyph\":{\"id\":\"36715\"},\"view\":{\"id\":\"36714\"}},\"id\":\"36713\",\"type\":\"GlyphRenderer\"},{\"attributes\":{\"margin\":[5,5,5,5],\"name\":\"VSpacer71817\",\"sizing_mode\":\"stretch_height\"},\"id\":\"36751\",\"type\":\"Spacer\"},{\"attributes\":{\"coordinates\":null,\"group\":null,\"text\":\"Average Number of Dwelling Types Per Neighbourhood\",\"text_color\":\"black\",\"text_font_size\":\"12pt\"},\"id\":\"36678\",\"type\":\"Title\"},{\"attributes\":{\"margin\":[5,5,5,5],\"name\":\"HSpacer71820\",\"sizing_mode\":\"stretch_width\"},\"id\":\"36673\",\"type\":\"Spacer\"}],\"root_ids\":[\"36672\",\"36782\"]},\"title\":\"Bokeh Application\",\"version\":\"2.4.1\"}};\n",
       "    var render_items = [{\"docid\":\"528ab688-f98b-49a0-920c-7dd5f1e05689\",\"root_ids\":[\"36672\"],\"roots\":{\"36672\":\"6c8bf111-8dc3-41d6-932a-1ad15c8621fc\"}}];\n",
       "    root.Bokeh.embed.embed_items_notebook(docs_json, render_items);\n",
       "  }\n",
       "  if (root.Bokeh !== undefined && root.Bokeh.Panel !== undefined && ( root['Plotly'] !== undefined)) {\n",
       "    embed_document(root);\n",
       "  } else {\n",
       "    var attempts = 0;\n",
       "    var timer = setInterval(function(root) {\n",
       "      if (root.Bokeh !== undefined && root.Bokeh.Panel !== undefined && (root['Plotly'] !== undefined)) {\n",
       "        clearInterval(timer);\n",
       "        embed_document(root);\n",
       "      } else if (document.readyState == \"complete\") {\n",
       "        attempts++;\n",
       "        if (attempts > 200) {\n",
       "          clearInterval(timer);\n",
       "          console.log(\"Bokeh: ERROR: Unable to run BokehJS code because BokehJS library is missing\");\n",
       "        }\n",
       "      }\n",
       "    }, 25, root)\n",
       "  }\n",
       "})(window);</script>"
      ],
      "text/plain": [
       ":DynamicMap   [neighbourhood]\n",
       "   :Bars   [year,Variable]   (value)"
      ]
     },
     "execution_count": 841,
     "metadata": {
      "application/vnd.holoviews_exec.v0+json": {
       "id": "36672"
      }
     },
     "output_type": "execute_result"
    }
   ],
   "source": [
    "# Use hvplot to create an interactive bar chart of the number of dwelling types per neighbourhood\n",
    "# The plot should have a dropdown selector for the neighbourhood\n",
    "av_neighbourhood_plot = av_neighbourhood_dt.hvplot.bar(\n",
    "    x = 'year',\n",
    "    xlabel = 'Year',\n",
    "    ylabel = 'No. of Dwelling Types',\n",
    "    title = 'Average Number of Dwelling Types Per Neighbourhood', \n",
    "    rot = 90, \n",
    "    yformatter = \"%.0f\",\n",
    "    groupby = 'neighbourhood',\n",
    "    width = 1000,\n",
    "    height = 500\n",
    ")\n",
    "av_neighbourhood_plot"
   ]
  },
  {
   "cell_type": "markdown",
   "metadata": {},
   "source": [
    "- - - "
   ]
  },
  {
   "cell_type": "markdown",
   "metadata": {},
   "source": [
    "## The Top 10 Most Expensive Neighbourhoods\n",
    "In this section, you will need to calculate the house value for each neighbourhood and then sort the values to obtain the top 10 most expensive neighbourhoods on average. Plot the results as a bar chart."
   ]
  },
  {
   "cell_type": "code",
   "execution_count": 739,
   "metadata": {},
   "outputs": [
    {
     "data": {
      "text/html": [
       "<div>\n",
       "<style scoped>\n",
       "    .dataframe tbody tr th:only-of-type {\n",
       "        vertical-align: middle;\n",
       "    }\n",
       "\n",
       "    .dataframe tbody tr th {\n",
       "        vertical-align: top;\n",
       "    }\n",
       "\n",
       "    .dataframe thead th {\n",
       "        text-align: right;\n",
       "    }\n",
       "</style>\n",
       "<table border=\"1\" class=\"dataframe\">\n",
       "  <thead>\n",
       "    <tr style=\"text-align: right;\">\n",
       "      <th></th>\n",
       "      <th>neighbourhood</th>\n",
       "      <th>single_detached_house</th>\n",
       "      <th>apartment_five_storeys_plus</th>\n",
       "      <th>movable_dwelling</th>\n",
       "      <th>semi_detached_house</th>\n",
       "      <th>row_house</th>\n",
       "      <th>duplex</th>\n",
       "      <th>apartment_five_storeys_less</th>\n",
       "      <th>other_house</th>\n",
       "      <th>average_house_value</th>\n",
       "      <th>shelter_costs_owned</th>\n",
       "      <th>shelter_costs_rented</th>\n",
       "    </tr>\n",
       "  </thead>\n",
       "  <tbody>\n",
       "    <tr>\n",
       "      <th>0</th>\n",
       "      <td>Bridle Path-Sunnybrook-York Mills</td>\n",
       "      <td>2260.00</td>\n",
       "      <td>331.25</td>\n",
       "      <td>0.00</td>\n",
       "      <td>36.25</td>\n",
       "      <td>90.00</td>\n",
       "      <td>25.0</td>\n",
       "      <td>40.00</td>\n",
       "      <td>0.00</td>\n",
       "      <td>1526485.75</td>\n",
       "      <td>2360.75</td>\n",
       "      <td>2321.75</td>\n",
       "    </tr>\n",
       "    <tr>\n",
       "      <th>1</th>\n",
       "      <td>Forest Hill South</td>\n",
       "      <td>1742.50</td>\n",
       "      <td>2031.25</td>\n",
       "      <td>1.25</td>\n",
       "      <td>61.25</td>\n",
       "      <td>45.00</td>\n",
       "      <td>75.0</td>\n",
       "      <td>1027.50</td>\n",
       "      <td>3.75</td>\n",
       "      <td>1195992.50</td>\n",
       "      <td>1781.00</td>\n",
       "      <td>1313.75</td>\n",
       "    </tr>\n",
       "    <tr>\n",
       "      <th>2</th>\n",
       "      <td>Lawrence Park South</td>\n",
       "      <td>3472.50</td>\n",
       "      <td>773.75</td>\n",
       "      <td>0.00</td>\n",
       "      <td>126.25</td>\n",
       "      <td>38.75</td>\n",
       "      <td>225.0</td>\n",
       "      <td>966.25</td>\n",
       "      <td>16.25</td>\n",
       "      <td>1094027.75</td>\n",
       "      <td>1954.00</td>\n",
       "      <td>1372.75</td>\n",
       "    </tr>\n",
       "    <tr>\n",
       "      <th>3</th>\n",
       "      <td>Rosedale-Moore Park</td>\n",
       "      <td>2498.75</td>\n",
       "      <td>4641.25</td>\n",
       "      <td>0.00</td>\n",
       "      <td>486.25</td>\n",
       "      <td>245.00</td>\n",
       "      <td>327.5</td>\n",
       "      <td>1618.75</td>\n",
       "      <td>2.50</td>\n",
       "      <td>1093640.00</td>\n",
       "      <td>1909.75</td>\n",
       "      <td>1537.25</td>\n",
       "    </tr>\n",
       "    <tr>\n",
       "      <th>4</th>\n",
       "      <td>St.Andrew-Windfields</td>\n",
       "      <td>3225.00</td>\n",
       "      <td>1670.00</td>\n",
       "      <td>0.00</td>\n",
       "      <td>185.00</td>\n",
       "      <td>552.50</td>\n",
       "      <td>97.5</td>\n",
       "      <td>586.25</td>\n",
       "      <td>5.00</td>\n",
       "      <td>999107.00</td>\n",
       "      <td>1880.25</td>\n",
       "      <td>1384.50</td>\n",
       "    </tr>\n",
       "    <tr>\n",
       "      <th>5</th>\n",
       "      <td>Casa Loma</td>\n",
       "      <td>916.25</td>\n",
       "      <td>2310.00</td>\n",
       "      <td>0.00</td>\n",
       "      <td>288.75</td>\n",
       "      <td>201.25</td>\n",
       "      <td>162.5</td>\n",
       "      <td>1192.50</td>\n",
       "      <td>2.50</td>\n",
       "      <td>981064.25</td>\n",
       "      <td>1873.75</td>\n",
       "      <td>1547.75</td>\n",
       "    </tr>\n",
       "    <tr>\n",
       "      <th>6</th>\n",
       "      <td>Bedford Park-Nortown</td>\n",
       "      <td>4865.00</td>\n",
       "      <td>1981.25</td>\n",
       "      <td>0.00</td>\n",
       "      <td>43.75</td>\n",
       "      <td>57.50</td>\n",
       "      <td>287.5</td>\n",
       "      <td>1275.00</td>\n",
       "      <td>88.75</td>\n",
       "      <td>930415.25</td>\n",
       "      <td>1786.75</td>\n",
       "      <td>1255.00</td>\n",
       "    </tr>\n",
       "    <tr>\n",
       "      <th>7</th>\n",
       "      <td>Forest Hill North</td>\n",
       "      <td>1488.75</td>\n",
       "      <td>3392.50</td>\n",
       "      <td>0.00</td>\n",
       "      <td>12.50</td>\n",
       "      <td>16.25</td>\n",
       "      <td>82.5</td>\n",
       "      <td>402.50</td>\n",
       "      <td>1.25</td>\n",
       "      <td>851680.50</td>\n",
       "      <td>1722.75</td>\n",
       "      <td>1245.50</td>\n",
       "    </tr>\n",
       "    <tr>\n",
       "      <th>8</th>\n",
       "      <td>Kingsway South</td>\n",
       "      <td>2326.25</td>\n",
       "      <td>576.25</td>\n",
       "      <td>0.00</td>\n",
       "      <td>66.25</td>\n",
       "      <td>48.75</td>\n",
       "      <td>20.0</td>\n",
       "      <td>336.25</td>\n",
       "      <td>2.50</td>\n",
       "      <td>843234.25</td>\n",
       "      <td>1736.75</td>\n",
       "      <td>1622.00</td>\n",
       "    </tr>\n",
       "    <tr>\n",
       "      <th>9</th>\n",
       "      <td>Yonge-St.Clair</td>\n",
       "      <td>565.00</td>\n",
       "      <td>3948.75</td>\n",
       "      <td>0.00</td>\n",
       "      <td>425.00</td>\n",
       "      <td>212.50</td>\n",
       "      <td>172.5</td>\n",
       "      <td>1308.75</td>\n",
       "      <td>6.25</td>\n",
       "      <td>813220.25</td>\n",
       "      <td>1680.75</td>\n",
       "      <td>1369.00</td>\n",
       "    </tr>\n",
       "  </tbody>\n",
       "</table>\n",
       "</div>"
      ],
      "text/plain": [
       "                       neighbourhood  single_detached_house  \\\n",
       "0  Bridle Path-Sunnybrook-York Mills                2260.00   \n",
       "1                  Forest Hill South                1742.50   \n",
       "2                Lawrence Park South                3472.50   \n",
       "3                Rosedale-Moore Park                2498.75   \n",
       "4               St.Andrew-Windfields                3225.00   \n",
       "5                          Casa Loma                 916.25   \n",
       "6               Bedford Park-Nortown                4865.00   \n",
       "7                  Forest Hill North                1488.75   \n",
       "8                     Kingsway South                2326.25   \n",
       "9                     Yonge-St.Clair                 565.00   \n",
       "\n",
       "   apartment_five_storeys_plus  movable_dwelling  semi_detached_house  \\\n",
       "0                       331.25              0.00                36.25   \n",
       "1                      2031.25              1.25                61.25   \n",
       "2                       773.75              0.00               126.25   \n",
       "3                      4641.25              0.00               486.25   \n",
       "4                      1670.00              0.00               185.00   \n",
       "5                      2310.00              0.00               288.75   \n",
       "6                      1981.25              0.00                43.75   \n",
       "7                      3392.50              0.00                12.50   \n",
       "8                       576.25              0.00                66.25   \n",
       "9                      3948.75              0.00               425.00   \n",
       "\n",
       "   row_house  duplex  apartment_five_storeys_less  other_house  \\\n",
       "0      90.00    25.0                        40.00         0.00   \n",
       "1      45.00    75.0                      1027.50         3.75   \n",
       "2      38.75   225.0                       966.25        16.25   \n",
       "3     245.00   327.5                      1618.75         2.50   \n",
       "4     552.50    97.5                       586.25         5.00   \n",
       "5     201.25   162.5                      1192.50         2.50   \n",
       "6      57.50   287.5                      1275.00        88.75   \n",
       "7      16.25    82.5                       402.50         1.25   \n",
       "8      48.75    20.0                       336.25         2.50   \n",
       "9     212.50   172.5                      1308.75         6.25   \n",
       "\n",
       "   average_house_value  shelter_costs_owned  shelter_costs_rented  \n",
       "0           1526485.75              2360.75               2321.75  \n",
       "1           1195992.50              1781.00               1313.75  \n",
       "2           1094027.75              1954.00               1372.75  \n",
       "3           1093640.00              1909.75               1537.25  \n",
       "4            999107.00              1880.25               1384.50  \n",
       "5            981064.25              1873.75               1547.75  \n",
       "6            930415.25              1786.75               1255.00  \n",
       "7            851680.50              1722.75               1245.50  \n",
       "8            843234.25              1736.75               1622.00  \n",
       "9            813220.25              1680.75               1369.00  "
      ]
     },
     "execution_count": 739,
     "metadata": {},
     "output_type": "execute_result"
    }
   ],
   "source": [
    "# Getting the data from the top 10 expensive neighbourhoods\n",
    "top_10_neighbourhoods = to_data.groupby('neighbourhood').mean().nlargest(n=10, columns = ['average_house_value']).reset_index()\n",
    "top_10_neighbourhoods"
   ]
  },
  {
   "cell_type": "code",
   "execution_count": 742,
   "metadata": {},
   "outputs": [
    {
     "data": {},
     "metadata": {},
     "output_type": "display_data"
    },
    {
     "data": {
      "application/vnd.holoviews_exec.v0+json": "",
      "text/html": [
       "<div id='36555'>\n",
       "\n",
       "\n",
       "\n",
       "\n",
       "\n",
       "  <div class=\"bk-root\" id=\"01c1b022-2009-451e-9c17-c582ce5c8116\" data-root-id=\"36555\"></div>\n",
       "</div>\n",
       "<script type=\"application/javascript\">(function(root) {\n",
       "  function embed_document(root) {\n",
       "    var docs_json = {\"d3cabdb0-1164-454f-8b47-101efc90f346\":{\"defs\":[{\"extends\":null,\"module\":null,\"name\":\"ReactiveHTML1\",\"overrides\":[],\"properties\":[]},{\"extends\":null,\"module\":null,\"name\":\"FlexBox1\",\"overrides\":[],\"properties\":[{\"default\":\"flex-start\",\"kind\":null,\"name\":\"align_content\"},{\"default\":\"flex-start\",\"kind\":null,\"name\":\"align_items\"},{\"default\":\"row\",\"kind\":null,\"name\":\"flex_direction\"},{\"default\":\"wrap\",\"kind\":null,\"name\":\"flex_wrap\"},{\"default\":\"flex-start\",\"kind\":null,\"name\":\"justify_content\"}]},{\"extends\":null,\"module\":null,\"name\":\"TemplateActions1\",\"overrides\":[],\"properties\":[{\"default\":0,\"kind\":null,\"name\":\"open_modal\"},{\"default\":0,\"kind\":null,\"name\":\"close_modal\"}]},{\"extends\":null,\"module\":null,\"name\":\"MaterialTemplateActions1\",\"overrides\":[],\"properties\":[{\"default\":0,\"kind\":null,\"name\":\"open_modal\"},{\"default\":0,\"kind\":null,\"name\":\"close_modal\"}]}],\"roots\":{\"references\":[{\"attributes\":{},\"id\":\"36573\",\"type\":\"BasicTicker\"},{\"attributes\":{},\"id\":\"36567\",\"type\":\"LinearScale\"},{\"attributes\":{\"fill_color\":{\"value\":\"#30a2da\"},\"hatch_color\":{\"value\":\"#30a2da\"},\"top\":{\"field\":\"average_house_value\"},\"width\":{\"value\":0.8},\"x\":{\"field\":\"neighbourhood\"}},\"id\":\"36592\",\"type\":\"VBar\"},{\"attributes\":{\"axis\":{\"id\":\"36569\"},\"coordinates\":null,\"grid_line_color\":null,\"group\":null,\"ticker\":null},\"id\":\"36571\",\"type\":\"Grid\"},{\"attributes\":{\"bottom\":{\"value\":0},\"fill_alpha\":{\"value\":1.0},\"fill_color\":{\"value\":\"#30a2da\"},\"hatch_alpha\":{\"value\":1.0},\"hatch_color\":{\"value\":\"#30a2da\"},\"hatch_scale\":{\"value\":12.0},\"hatch_weight\":{\"value\":1.0},\"line_alpha\":{\"value\":1.0},\"line_cap\":{\"value\":\"butt\"},\"line_color\":{\"value\":\"black\"},\"line_dash\":{\"value\":[]},\"line_dash_offset\":{\"value\":0},\"line_join\":{\"value\":\"bevel\"},\"line_width\":{\"value\":1},\"top\":{\"field\":\"average_house_value\"},\"width\":{\"value\":0.8},\"x\":{\"field\":\"neighbourhood\"}},\"id\":\"36597\",\"type\":\"VBar\"},{\"attributes\":{\"coordinates\":null,\"group\":null,\"text\":\"Top 10 Most Expensive Neghbourhoods\",\"text_color\":\"black\",\"text_font_size\":\"12pt\"},\"id\":\"36561\",\"type\":\"Title\"},{\"attributes\":{},\"id\":\"36600\",\"type\":\"CategoricalTickFormatter\"},{\"attributes\":{},\"id\":\"36590\",\"type\":\"Selection\"},{\"attributes\":{\"below\":[{\"id\":\"36569\"}],\"center\":[{\"id\":\"36571\"},{\"id\":\"36575\"}],\"height\":500,\"left\":[{\"id\":\"36572\"}],\"margin\":[5,5,5,5],\"min_border_bottom\":10,\"min_border_left\":10,\"min_border_right\":10,\"min_border_top\":10,\"renderers\":[{\"id\":\"36595\"}],\"sizing_mode\":\"fixed\",\"title\":{\"id\":\"36561\"},\"toolbar\":{\"id\":\"36582\"},\"width\":700,\"x_range\":{\"id\":\"36557\"},\"x_scale\":{\"id\":\"36565\"},\"y_range\":{\"id\":\"36558\"},\"y_scale\":{\"id\":\"36567\"}},\"id\":\"36560\",\"subtype\":\"Figure\",\"type\":\"Plot\"},{\"attributes\":{},\"id\":\"36578\",\"type\":\"WheelZoomTool\"},{\"attributes\":{},\"id\":\"36577\",\"type\":\"PanTool\"},{\"attributes\":{},\"id\":\"36604\",\"type\":\"AllLabels\"},{\"attributes\":{\"children\":[{\"id\":\"36556\"},{\"id\":\"36560\"},{\"id\":\"36625\"}],\"margin\":[0,0,0,0],\"name\":\"Row71706\",\"tags\":[\"embedded\"]},\"id\":\"36555\",\"type\":\"Row\"},{\"attributes\":{},\"id\":\"36601\",\"type\":\"AllLabels\"},{\"attributes\":{},\"id\":\"36613\",\"type\":\"UnionRenderers\"},{\"attributes\":{\"fill_alpha\":{\"value\":0.1},\"fill_color\":{\"value\":\"#30a2da\"},\"hatch_alpha\":{\"value\":0.1},\"hatch_color\":{\"value\":\"#30a2da\"},\"line_alpha\":{\"value\":0.1},\"top\":{\"field\":\"average_house_value\"},\"width\":{\"value\":0.8},\"x\":{\"field\":\"neighbourhood\"}},\"id\":\"36593\",\"type\":\"VBar\"},{\"attributes\":{\"callback\":null,\"renderers\":[{\"id\":\"36595\"}],\"tags\":[\"hv_created\"],\"tooltips\":[[\"neighbourhood\",\"@{neighbourhood}\"],[\"average_house_value\",\"@{average_house_value}\"]]},\"id\":\"36559\",\"type\":\"HoverTool\"},{\"attributes\":{\"margin\":[5,5,5,5],\"name\":\"HSpacer71711\",\"sizing_mode\":\"stretch_width\"},\"id\":\"36625\",\"type\":\"Spacer\"},{\"attributes\":{\"end\":1597812.3,\"reset_end\":1597812.3,\"reset_start\":0.0,\"tags\":[[[\"average_house_value\",\"average_house_value\",null]]]},\"id\":\"36558\",\"type\":\"Range1d\"},{\"attributes\":{\"axis_label\":\"Neighbourhood\",\"coordinates\":null,\"formatter\":{\"id\":\"36600\"},\"group\":null,\"major_label_orientation\":1.5707963267948966,\"major_label_policy\":{\"id\":\"36601\"},\"ticker\":{\"id\":\"36570\"}},\"id\":\"36569\",\"type\":\"CategoricalAxis\"},{\"attributes\":{},\"id\":\"36565\",\"type\":\"CategoricalScale\"},{\"attributes\":{\"axis_label\":\"Average house Value\",\"coordinates\":null,\"formatter\":{\"id\":\"36598\"},\"group\":null,\"major_label_policy\":{\"id\":\"36604\"},\"ticker\":{\"id\":\"36573\"}},\"id\":\"36572\",\"type\":\"LinearAxis\"},{\"attributes\":{\"data\":{\"average_house_value\":{\"__ndarray__\":\"AAAAwNVKN0EAAACA2D8yQQAAAMCLsTBBAAAAAAiwMEEAAAAAhn0uQQAAAICQ8C1BAAAAgN5kLEEAAAAAwf0pQQAAAIDEuylBAAAAgEjRKEE=\",\"dtype\":\"float64\",\"order\":\"little\",\"shape\":[10]},\"neighbourhood\":[\"Bridle Path-Sunnybrook-York Mills\",\"Forest Hill South\",\"Lawrence Park South\",\"Rosedale-Moore Park\",\"St.Andrew-Windfields\",\"Casa Loma\",\"Bedford Park-Nortown\",\"Forest Hill North\",\"Kingsway South\",\"Yonge-St.Clair\"]},\"selected\":{\"id\":\"36590\"},\"selection_policy\":{\"id\":\"36613\"}},\"id\":\"36589\",\"type\":\"ColumnDataSource\"},{\"attributes\":{},\"id\":\"36576\",\"type\":\"SaveTool\"},{\"attributes\":{},\"id\":\"36580\",\"type\":\"ResetTool\"},{\"attributes\":{\"margin\":[5,5,5,5],\"name\":\"HSpacer71710\",\"sizing_mode\":\"stretch_width\"},\"id\":\"36556\",\"type\":\"Spacer\"},{\"attributes\":{\"overlay\":{\"id\":\"36581\"}},\"id\":\"36579\",\"type\":\"BoxZoomTool\"},{\"attributes\":{\"source\":{\"id\":\"36589\"}},\"id\":\"36596\",\"type\":\"CDSView\"},{\"attributes\":{\"format\":\"%.0f\"},\"id\":\"36598\",\"type\":\"PrintfTickFormatter\"},{\"attributes\":{\"tools\":[{\"id\":\"36559\"},{\"id\":\"36576\"},{\"id\":\"36577\"},{\"id\":\"36578\"},{\"id\":\"36579\"},{\"id\":\"36580\"}]},\"id\":\"36582\",\"type\":\"Toolbar\"},{\"attributes\":{\"fill_alpha\":{\"value\":0.2},\"fill_color\":{\"value\":\"#30a2da\"},\"hatch_alpha\":{\"value\":0.2},\"hatch_color\":{\"value\":\"#30a2da\"},\"line_alpha\":{\"value\":0.2},\"top\":{\"field\":\"average_house_value\"},\"width\":{\"value\":0.8},\"x\":{\"field\":\"neighbourhood\"}},\"id\":\"36594\",\"type\":\"VBar\"},{\"attributes\":{\"factors\":[\"Bridle Path-Sunnybrook-York Mills\",\"Forest Hill South\",\"Lawrence Park South\",\"Rosedale-Moore Park\",\"St.Andrew-Windfields\",\"Casa Loma\",\"Bedford Park-Nortown\",\"Forest Hill North\",\"Kingsway South\",\"Yonge-St.Clair\"],\"tags\":[[[\"neighbourhood\",\"neighbourhood\",null]]]},\"id\":\"36557\",\"type\":\"FactorRange\"},{\"attributes\":{\"coordinates\":null,\"data_source\":{\"id\":\"36589\"},\"glyph\":{\"id\":\"36592\"},\"group\":null,\"hover_glyph\":null,\"muted_glyph\":{\"id\":\"36594\"},\"nonselection_glyph\":{\"id\":\"36593\"},\"selection_glyph\":{\"id\":\"36597\"},\"view\":{\"id\":\"36596\"}},\"id\":\"36595\",\"type\":\"GlyphRenderer\"},{\"attributes\":{\"bottom_units\":\"screen\",\"coordinates\":null,\"fill_alpha\":0.5,\"fill_color\":\"lightgrey\",\"group\":null,\"left_units\":\"screen\",\"level\":\"overlay\",\"line_alpha\":1.0,\"line_color\":\"black\",\"line_dash\":[4,4],\"line_width\":2,\"right_units\":\"screen\",\"syncable\":false,\"top_units\":\"screen\"},\"id\":\"36581\",\"type\":\"BoxAnnotation\"},{\"attributes\":{\"axis\":{\"id\":\"36572\"},\"coordinates\":null,\"dimension\":1,\"grid_line_color\":null,\"group\":null,\"ticker\":null},\"id\":\"36575\",\"type\":\"Grid\"},{\"attributes\":{},\"id\":\"36570\",\"type\":\"CategoricalTicker\"}],\"root_ids\":[\"36555\"]},\"title\":\"Bokeh Application\",\"version\":\"2.4.1\"}};\n",
       "    var render_items = [{\"docid\":\"d3cabdb0-1164-454f-8b47-101efc90f346\",\"root_ids\":[\"36555\"],\"roots\":{\"36555\":\"01c1b022-2009-451e-9c17-c582ce5c8116\"}}];\n",
       "    root.Bokeh.embed.embed_items_notebook(docs_json, render_items);\n",
       "  }\n",
       "  if (root.Bokeh !== undefined && root.Bokeh.Panel !== undefined && ( root['Plotly'] !== undefined)) {\n",
       "    embed_document(root);\n",
       "  } else {\n",
       "    var attempts = 0;\n",
       "    var timer = setInterval(function(root) {\n",
       "      if (root.Bokeh !== undefined && root.Bokeh.Panel !== undefined && (root['Plotly'] !== undefined)) {\n",
       "        clearInterval(timer);\n",
       "        embed_document(root);\n",
       "      } else if (document.readyState == \"complete\") {\n",
       "        attempts++;\n",
       "        if (attempts > 200) {\n",
       "          clearInterval(timer);\n",
       "          console.log(\"Bokeh: ERROR: Unable to run BokehJS code because BokehJS library is missing\");\n",
       "        }\n",
       "      }\n",
       "    }, 25, root)\n",
       "  }\n",
       "})(window);</script>"
      ],
      "text/plain": [
       ":Bars   [neighbourhood]   (average_house_value)"
      ]
     },
     "execution_count": 742,
     "metadata": {
      "application/vnd.holoviews_exec.v0+json": {
       "id": "36555"
      }
     },
     "output_type": "execute_result"
    }
   ],
   "source": [
    "# Plotting the data from the top 10 expensive neighbourhoods\n",
    "top_10_neighbourhoods.hvplot.bar(x = 'neighbourhood', \n",
    "                                 y ='average_house_value', \n",
    "                                 xlabel = 'Neighbourhood', \n",
    "                                 ylabel = 'Average house Value', \n",
    "                                 title = 'Top 10 Most Expensive Neghbourhoods',\n",
    "                                 yformatter = '%.0f',\n",
    "                                 rot = 90,\n",
    "                                height = 500)"
   ]
  },
  {
   "cell_type": "markdown",
   "metadata": {},
   "source": [
    "- - - "
   ]
  },
  {
   "cell_type": "markdown",
   "metadata": {},
   "source": [
    "## Neighbourhood Map\n",
    "\n",
    "In this section, you will read in neighbourhoods location data and build an interactive map with the average house value per neighbourhood. Use a `scatter_mapbox` from Plotly express to create the visualization. Remember, you will need your Mapbox API key for this."
   ]
  },
  {
   "cell_type": "markdown",
   "metadata": {},
   "source": [
    "### Load Location Data"
   ]
  },
  {
   "cell_type": "code",
   "execution_count": 721,
   "metadata": {},
   "outputs": [
    {
     "data": {
      "text/html": [
       "<div>\n",
       "<style scoped>\n",
       "    .dataframe tbody tr th:only-of-type {\n",
       "        vertical-align: middle;\n",
       "    }\n",
       "\n",
       "    .dataframe tbody tr th {\n",
       "        vertical-align: top;\n",
       "    }\n",
       "\n",
       "    .dataframe thead th {\n",
       "        text-align: right;\n",
       "    }\n",
       "</style>\n",
       "<table border=\"1\" class=\"dataframe\">\n",
       "  <thead>\n",
       "    <tr style=\"text-align: right;\">\n",
       "      <th></th>\n",
       "      <th>lat</th>\n",
       "      <th>lon</th>\n",
       "    </tr>\n",
       "    <tr>\n",
       "      <th>neighbourhood</th>\n",
       "      <th></th>\n",
       "      <th></th>\n",
       "    </tr>\n",
       "  </thead>\n",
       "  <tbody>\n",
       "    <tr>\n",
       "      <th>Agincourt North</th>\n",
       "      <td>43.805441</td>\n",
       "      <td>-79.266712</td>\n",
       "    </tr>\n",
       "    <tr>\n",
       "      <th>Agincourt South-Malvern West</th>\n",
       "      <td>43.788658</td>\n",
       "      <td>-79.265612</td>\n",
       "    </tr>\n",
       "    <tr>\n",
       "      <th>Alderwood</th>\n",
       "      <td>43.604937</td>\n",
       "      <td>-79.541611</td>\n",
       "    </tr>\n",
       "    <tr>\n",
       "      <th>Annex</th>\n",
       "      <td>43.671585</td>\n",
       "      <td>-79.404001</td>\n",
       "    </tr>\n",
       "    <tr>\n",
       "      <th>Banbury-Don Mills</th>\n",
       "      <td>43.737657</td>\n",
       "      <td>-79.349718</td>\n",
       "    </tr>\n",
       "    <tr>\n",
       "      <th>...</th>\n",
       "      <td>...</td>\n",
       "      <td>...</td>\n",
       "    </tr>\n",
       "    <tr>\n",
       "      <th>Wychwood</th>\n",
       "      <td>43.676919</td>\n",
       "      <td>-79.425515</td>\n",
       "    </tr>\n",
       "    <tr>\n",
       "      <th>Yonge-Eglinton</th>\n",
       "      <td>43.704689</td>\n",
       "      <td>-79.403590</td>\n",
       "    </tr>\n",
       "    <tr>\n",
       "      <th>Yonge-St.Clair</th>\n",
       "      <td>43.687859</td>\n",
       "      <td>-79.397871</td>\n",
       "    </tr>\n",
       "    <tr>\n",
       "      <th>York University Heights</th>\n",
       "      <td>43.765736</td>\n",
       "      <td>-79.488883</td>\n",
       "    </tr>\n",
       "    <tr>\n",
       "      <th>Yorkdale-Glen Park</th>\n",
       "      <td>43.714672</td>\n",
       "      <td>-79.457108</td>\n",
       "    </tr>\n",
       "  </tbody>\n",
       "</table>\n",
       "<p>140 rows × 2 columns</p>\n",
       "</div>"
      ],
      "text/plain": [
       "                                    lat        lon\n",
       "neighbourhood                                     \n",
       "Agincourt North               43.805441 -79.266712\n",
       "Agincourt South-Malvern West  43.788658 -79.265612\n",
       "Alderwood                     43.604937 -79.541611\n",
       "Annex                         43.671585 -79.404001\n",
       "Banbury-Don Mills             43.737657 -79.349718\n",
       "...                                 ...        ...\n",
       "Wychwood                      43.676919 -79.425515\n",
       "Yonge-Eglinton                43.704689 -79.403590\n",
       "Yonge-St.Clair                43.687859 -79.397871\n",
       "York University Heights       43.765736 -79.488883\n",
       "Yorkdale-Glen Park            43.714672 -79.457108\n",
       "\n",
       "[140 rows x 2 columns]"
      ]
     },
     "execution_count": 721,
     "metadata": {},
     "output_type": "execute_result"
    }
   ],
   "source": [
    "# Load neighbourhoods coordinates data\n",
    "file_path = Path(\"Data/toronto_neighbourhoods_coordinates.csv\")\n",
    "df_neighbourhood_locations = pd.read_csv(file_path)\n",
    "df_neighbourhood_locations = df_neighbourhood_locations.set_index('neighbourhood')\n",
    "df_neighbourhood_locations"
   ]
  },
  {
   "cell_type": "markdown",
   "metadata": {},
   "source": [
    "### Data Preparation\n",
    "\n",
    "You will need to join the location data with the mean values per neighbourhood.\n",
    "\n",
    "1. Calculate the mean values for each neighbourhood.\n",
    "\n",
    "2. Join the average values with the neighbourhood locations."
   ]
  },
  {
   "cell_type": "code",
   "execution_count": 722,
   "metadata": {},
   "outputs": [
    {
     "data": {
      "text/html": [
       "<div>\n",
       "<style scoped>\n",
       "    .dataframe tbody tr th:only-of-type {\n",
       "        vertical-align: middle;\n",
       "    }\n",
       "\n",
       "    .dataframe tbody tr th {\n",
       "        vertical-align: top;\n",
       "    }\n",
       "\n",
       "    .dataframe thead th {\n",
       "        text-align: right;\n",
       "    }\n",
       "</style>\n",
       "<table border=\"1\" class=\"dataframe\">\n",
       "  <thead>\n",
       "    <tr style=\"text-align: right;\">\n",
       "      <th></th>\n",
       "      <th>single_detached_house</th>\n",
       "      <th>apartment_five_storeys_plus</th>\n",
       "      <th>movable_dwelling</th>\n",
       "      <th>semi_detached_house</th>\n",
       "      <th>row_house</th>\n",
       "      <th>duplex</th>\n",
       "      <th>apartment_five_storeys_less</th>\n",
       "      <th>other_house</th>\n",
       "      <th>average_house_value</th>\n",
       "      <th>shelter_costs_owned</th>\n",
       "      <th>shelter_costs_rented</th>\n",
       "    </tr>\n",
       "    <tr>\n",
       "      <th>neighbourhood</th>\n",
       "      <th></th>\n",
       "      <th></th>\n",
       "      <th></th>\n",
       "      <th></th>\n",
       "      <th></th>\n",
       "      <th></th>\n",
       "      <th></th>\n",
       "      <th></th>\n",
       "      <th></th>\n",
       "      <th></th>\n",
       "      <th></th>\n",
       "    </tr>\n",
       "  </thead>\n",
       "  <tbody>\n",
       "    <tr>\n",
       "      <th>Agincourt North</th>\n",
       "      <td>3435.00</td>\n",
       "      <td>1947.50</td>\n",
       "      <td>2.50</td>\n",
       "      <td>863.75</td>\n",
       "      <td>1406.25</td>\n",
       "      <td>512.50</td>\n",
       "      <td>547.50</td>\n",
       "      <td>10.00</td>\n",
       "      <td>329811.5</td>\n",
       "      <td>1109.00</td>\n",
       "      <td>983.50</td>\n",
       "    </tr>\n",
       "    <tr>\n",
       "      <th>Agincourt South-Malvern West</th>\n",
       "      <td>2897.50</td>\n",
       "      <td>2180.00</td>\n",
       "      <td>1.25</td>\n",
       "      <td>375.00</td>\n",
       "      <td>456.25</td>\n",
       "      <td>523.75</td>\n",
       "      <td>628.75</td>\n",
       "      <td>32.50</td>\n",
       "      <td>334189.0</td>\n",
       "      <td>1131.25</td>\n",
       "      <td>985.00</td>\n",
       "    </tr>\n",
       "    <tr>\n",
       "      <th>Alderwood</th>\n",
       "      <td>2903.75</td>\n",
       "      <td>302.50</td>\n",
       "      <td>1.25</td>\n",
       "      <td>503.75</td>\n",
       "      <td>76.25</td>\n",
       "      <td>302.50</td>\n",
       "      <td>502.50</td>\n",
       "      <td>1.25</td>\n",
       "      <td>427922.5</td>\n",
       "      <td>1166.75</td>\n",
       "      <td>1003.25</td>\n",
       "    </tr>\n",
       "    <tr>\n",
       "      <th>Annex</th>\n",
       "      <td>751.25</td>\n",
       "      <td>7235.00</td>\n",
       "      <td>1.25</td>\n",
       "      <td>1375.00</td>\n",
       "      <td>613.75</td>\n",
       "      <td>355.00</td>\n",
       "      <td>4605.00</td>\n",
       "      <td>83.75</td>\n",
       "      <td>746977.0</td>\n",
       "      <td>1692.75</td>\n",
       "      <td>1315.25</td>\n",
       "    </tr>\n",
       "    <tr>\n",
       "      <th>Banbury-Don Mills</th>\n",
       "      <td>3572.50</td>\n",
       "      <td>5388.75</td>\n",
       "      <td>1.25</td>\n",
       "      <td>273.75</td>\n",
       "      <td>626.25</td>\n",
       "      <td>32.50</td>\n",
       "      <td>1340.00</td>\n",
       "      <td>0.00</td>\n",
       "      <td>612039.0</td>\n",
       "      <td>1463.50</td>\n",
       "      <td>1242.75</td>\n",
       "    </tr>\n",
       "  </tbody>\n",
       "</table>\n",
       "</div>"
      ],
      "text/plain": [
       "                              single_detached_house  \\\n",
       "neighbourhood                                         \n",
       "Agincourt North                             3435.00   \n",
       "Agincourt South-Malvern West                2897.50   \n",
       "Alderwood                                   2903.75   \n",
       "Annex                                        751.25   \n",
       "Banbury-Don Mills                           3572.50   \n",
       "\n",
       "                              apartment_five_storeys_plus  movable_dwelling  \\\n",
       "neighbourhood                                                                 \n",
       "Agincourt North                                   1947.50              2.50   \n",
       "Agincourt South-Malvern West                      2180.00              1.25   \n",
       "Alderwood                                          302.50              1.25   \n",
       "Annex                                             7235.00              1.25   \n",
       "Banbury-Don Mills                                 5388.75              1.25   \n",
       "\n",
       "                              semi_detached_house  row_house  duplex  \\\n",
       "neighbourhood                                                          \n",
       "Agincourt North                            863.75    1406.25  512.50   \n",
       "Agincourt South-Malvern West               375.00     456.25  523.75   \n",
       "Alderwood                                  503.75      76.25  302.50   \n",
       "Annex                                     1375.00     613.75  355.00   \n",
       "Banbury-Don Mills                          273.75     626.25   32.50   \n",
       "\n",
       "                              apartment_five_storeys_less  other_house  \\\n",
       "neighbourhood                                                            \n",
       "Agincourt North                                    547.50        10.00   \n",
       "Agincourt South-Malvern West                       628.75        32.50   \n",
       "Alderwood                                          502.50         1.25   \n",
       "Annex                                             4605.00        83.75   \n",
       "Banbury-Don Mills                                 1340.00         0.00   \n",
       "\n",
       "                              average_house_value  shelter_costs_owned  \\\n",
       "neighbourhood                                                            \n",
       "Agincourt North                          329811.5              1109.00   \n",
       "Agincourt South-Malvern West             334189.0              1131.25   \n",
       "Alderwood                                427922.5              1166.75   \n",
       "Annex                                    746977.0              1692.75   \n",
       "Banbury-Don Mills                        612039.0              1463.50   \n",
       "\n",
       "                              shelter_costs_rented  \n",
       "neighbourhood                                       \n",
       "Agincourt North                             983.50  \n",
       "Agincourt South-Malvern West                985.00  \n",
       "Alderwood                                  1003.25  \n",
       "Annex                                      1315.25  \n",
       "Banbury-Don Mills                          1242.75  "
      ]
     },
     "execution_count": 722,
     "metadata": {},
     "output_type": "execute_result"
    }
   ],
   "source": [
    "# Calculate the mean values for each neighborhood\n",
    "av_nbhd_vals = to_data.groupby('neighbourhood').mean()\n",
    "av_nbhd_vals.head()"
   ]
  },
  {
   "cell_type": "code",
   "execution_count": 723,
   "metadata": {},
   "outputs": [
    {
     "data": {
      "text/html": [
       "<div>\n",
       "<style scoped>\n",
       "    .dataframe tbody tr th:only-of-type {\n",
       "        vertical-align: middle;\n",
       "    }\n",
       "\n",
       "    .dataframe tbody tr th {\n",
       "        vertical-align: top;\n",
       "    }\n",
       "\n",
       "    .dataframe thead th {\n",
       "        text-align: right;\n",
       "    }\n",
       "</style>\n",
       "<table border=\"1\" class=\"dataframe\">\n",
       "  <thead>\n",
       "    <tr style=\"text-align: right;\">\n",
       "      <th></th>\n",
       "      <th>neighbourhood</th>\n",
       "      <th>lat</th>\n",
       "      <th>lon</th>\n",
       "      <th>single_detached_house</th>\n",
       "      <th>apartment_five_storeys_plus</th>\n",
       "      <th>movable_dwelling</th>\n",
       "      <th>semi_detached_house</th>\n",
       "      <th>row_house</th>\n",
       "      <th>duplex</th>\n",
       "      <th>apartment_five_storeys_less</th>\n",
       "      <th>other_house</th>\n",
       "      <th>average_house_value</th>\n",
       "      <th>shelter_costs_owned</th>\n",
       "      <th>shelter_costs_rented</th>\n",
       "    </tr>\n",
       "  </thead>\n",
       "  <tbody>\n",
       "    <tr>\n",
       "      <th>0</th>\n",
       "      <td>Agincourt North</td>\n",
       "      <td>43.805441</td>\n",
       "      <td>-79.266712</td>\n",
       "      <td>3435.00</td>\n",
       "      <td>1947.50</td>\n",
       "      <td>2.50</td>\n",
       "      <td>863.75</td>\n",
       "      <td>1406.25</td>\n",
       "      <td>512.50</td>\n",
       "      <td>547.50</td>\n",
       "      <td>10.00</td>\n",
       "      <td>329811.5</td>\n",
       "      <td>1109.00</td>\n",
       "      <td>983.50</td>\n",
       "    </tr>\n",
       "    <tr>\n",
       "      <th>1</th>\n",
       "      <td>Agincourt South-Malvern West</td>\n",
       "      <td>43.788658</td>\n",
       "      <td>-79.265612</td>\n",
       "      <td>2897.50</td>\n",
       "      <td>2180.00</td>\n",
       "      <td>1.25</td>\n",
       "      <td>375.00</td>\n",
       "      <td>456.25</td>\n",
       "      <td>523.75</td>\n",
       "      <td>628.75</td>\n",
       "      <td>32.50</td>\n",
       "      <td>334189.0</td>\n",
       "      <td>1131.25</td>\n",
       "      <td>985.00</td>\n",
       "    </tr>\n",
       "    <tr>\n",
       "      <th>2</th>\n",
       "      <td>Alderwood</td>\n",
       "      <td>43.604937</td>\n",
       "      <td>-79.541611</td>\n",
       "      <td>2903.75</td>\n",
       "      <td>302.50</td>\n",
       "      <td>1.25</td>\n",
       "      <td>503.75</td>\n",
       "      <td>76.25</td>\n",
       "      <td>302.50</td>\n",
       "      <td>502.50</td>\n",
       "      <td>1.25</td>\n",
       "      <td>427922.5</td>\n",
       "      <td>1166.75</td>\n",
       "      <td>1003.25</td>\n",
       "    </tr>\n",
       "    <tr>\n",
       "      <th>3</th>\n",
       "      <td>Annex</td>\n",
       "      <td>43.671585</td>\n",
       "      <td>-79.404001</td>\n",
       "      <td>751.25</td>\n",
       "      <td>7235.00</td>\n",
       "      <td>1.25</td>\n",
       "      <td>1375.00</td>\n",
       "      <td>613.75</td>\n",
       "      <td>355.00</td>\n",
       "      <td>4605.00</td>\n",
       "      <td>83.75</td>\n",
       "      <td>746977.0</td>\n",
       "      <td>1692.75</td>\n",
       "      <td>1315.25</td>\n",
       "    </tr>\n",
       "    <tr>\n",
       "      <th>4</th>\n",
       "      <td>Banbury-Don Mills</td>\n",
       "      <td>43.737657</td>\n",
       "      <td>-79.349718</td>\n",
       "      <td>3572.50</td>\n",
       "      <td>5388.75</td>\n",
       "      <td>1.25</td>\n",
       "      <td>273.75</td>\n",
       "      <td>626.25</td>\n",
       "      <td>32.50</td>\n",
       "      <td>1340.00</td>\n",
       "      <td>0.00</td>\n",
       "      <td>612039.0</td>\n",
       "      <td>1463.50</td>\n",
       "      <td>1242.75</td>\n",
       "    </tr>\n",
       "  </tbody>\n",
       "</table>\n",
       "</div>"
      ],
      "text/plain": [
       "                  neighbourhood        lat        lon  single_detached_house  \\\n",
       "0               Agincourt North  43.805441 -79.266712                3435.00   \n",
       "1  Agincourt South-Malvern West  43.788658 -79.265612                2897.50   \n",
       "2                     Alderwood  43.604937 -79.541611                2903.75   \n",
       "3                         Annex  43.671585 -79.404001                 751.25   \n",
       "4             Banbury-Don Mills  43.737657 -79.349718                3572.50   \n",
       "\n",
       "   apartment_five_storeys_plus  movable_dwelling  semi_detached_house  \\\n",
       "0                      1947.50              2.50               863.75   \n",
       "1                      2180.00              1.25               375.00   \n",
       "2                       302.50              1.25               503.75   \n",
       "3                      7235.00              1.25              1375.00   \n",
       "4                      5388.75              1.25               273.75   \n",
       "\n",
       "   row_house  duplex  apartment_five_storeys_less  other_house  \\\n",
       "0    1406.25  512.50                       547.50        10.00   \n",
       "1     456.25  523.75                       628.75        32.50   \n",
       "2      76.25  302.50                       502.50         1.25   \n",
       "3     613.75  355.00                      4605.00        83.75   \n",
       "4     626.25   32.50                      1340.00         0.00   \n",
       "\n",
       "   average_house_value  shelter_costs_owned  shelter_costs_rented  \n",
       "0             329811.5              1109.00                983.50  \n",
       "1             334189.0              1131.25                985.00  \n",
       "2             427922.5              1166.75               1003.25  \n",
       "3             746977.0              1692.75               1315.25  \n",
       "4             612039.0              1463.50               1242.75  "
      ]
     },
     "execution_count": 723,
     "metadata": {},
     "output_type": "execute_result"
    }
   ],
   "source": [
    "# Join the average values with the neighbourhood locations\n",
    "nbhd_val_locs = pd.concat([df_neighbourhood_locations, av_nbhd_vals], axis = 1, join = 'inner').reset_index()\n",
    "nbhd_val_locs.head()"
   ]
  },
  {
   "cell_type": "markdown",
   "metadata": {},
   "source": [
    "### Mapbox Visualization\n",
    "\n",
    "Plot the average values per neighbourhood using a Plotly express `scatter_mapbox` visualization."
   ]
  },
  {
   "cell_type": "code",
   "execution_count": 738,
   "metadata": {},
   "outputs": [
    {
     "data": {
      "application/vnd.plotly.v1+json": {
       "config": {
        "plotlyServerURL": "https://plot.ly"
       },
       "data": [
        {
         "hovertemplate": "lat=%{lat}<br>lon=%{lon}<br>average_house_value=%{marker.color}<extra></extra>",
         "lat": [
          43.80544058,
          43.78865755,
          43.6049369,
          43.67158544,
          43.737657,
          43.76481331,
          43.65751135,
          43.77636052,
          43.79680187,
          43.73148623,
          43.69321649,
          43.76036631,
          43.69468198,
          43.76489025,
          43.67617288,
          43.69902438,
          43.73101314,
          43.68882512,
          43.70132631,
          43.66764773,
          43.68856865,
          43.6818521,
          43.7823765,
          43.65964886,
          43.71359238,
          43.74197843,
          43.72112117,
          43.67766091,
          43.68402547,
          43.68946809,
          43.78329369,
          43.75927437,
          43.66567693,
          43.73329235,
          43.65542833,
          43.68417388,
          43.67088591,
          43.7409223,
          43.72151887,
          43.72034467,
          43.65801676,
          43.64506262,
          43.71592975,
          43.70421756,
          43.69452576,
          43.74563575,
          43.67261231,
          43.74882934,
          43.77114414,
          43.65756491,
          43.64506458,
          43.79077477,
          43.80298783,
          43.6922328,
          43.75891975,
          43.74342952,
          43.69136981,
          43.73536441,
          43.63346335,
          43.66788977,
          43.68572747,
          43.72555572,
          43.65355413,
          43.69899257,
          43.65352043,
          43.79571603,
          43.65742013,
          43.75427115,
          43.73006017,
          43.7172117,
          43.70379663,
          43.64753593,
          43.59236169,
          43.8036582,
          43.71557394,
          43.63354175,
          43.82069079,
          43.61592386,
          43.78239861,
          43.65651762,
          43.68814409,
          43.7468678,
          43.70485217,
          43.70443517,
          43.6005886,
          43.79153579,
          43.78582994,
          43.63668088,
          43.67199515,
          43.66962341,
          43.70680049,
          43.69740813,
          43.68856556,
          43.69678127,
          43.6591571,
          43.75503347,
          43.7175146,
          43.67970047,
          43.78698176,
          43.6660506,
          43.65999214,
          43.72372548,
          43.67479045,
          43.64612299,
          43.68282043,
          43.82120126,
          43.65926882,
          43.71160912,
          43.73865186,
          43.63669952,
          43.64929206,
          43.75624583,
          43.81295883,
          43.63551813,
          43.78012985,
          43.69499819,
          43.67104999,
          43.73798792,
          43.70774921,
          43.6501763,
          43.6625062,
          43.72848902,
          43.63388036,
          43.76749026,
          43.7161804,
          43.77881322,
          43.70271605,
          43.67396204,
          43.74857214,
          43.77060226,
          43.77121049,
          43.68364496,
          43.76674024,
          43.67677292,
          43.69410674,
          43.67691927,
          43.70468937,
          43.68785887,
          43.76573649,
          43.71467153
         ],
         "legendgroup": "",
         "lon": [
          -79.26671217,
          -79.2656118,
          -79.54161093,
          -79.40400062,
          -79.34971798,
          -79.45605516,
          -79.38572125,
          -79.37711686,
          -79.38211795,
          -79.42022735,
          -79.47947251,
          -79.25740037,
          -79.26509259,
          -79.52197932,
          -79.33739417,
          -79.4528513,
          -79.37890418,
          -79.35562951,
          -79.48558926,
          -79.36610666,
          -79.45521208,
          -79.40800665,
          -79.15084327,
          -79.37901717,
          -79.28138178,
          -79.44630258,
          -79.23552957,
          -79.44746933,
          -79.32981941,
          -79.33140338,
          -79.35364413,
          -79.27890794,
          -79.4385407,
          -79.49049735,
          -79.43734104,
          -79.29935867,
          -79.52245776,
          -79.24559804,
          -79.54898272,
          -79.43740855,
          -79.58044524,
          -79.56893877,
          -79.33264597,
          -79.42814316,
          -79.41431786,
          -79.51346532,
          -79.32431802,
          -79.19505535,
          -79.34124067,
          -79.46630217,
          -79.46787222,
          -79.17747247,
          -79.354804,
          -79.5224162,
          -79.55617474,
          -79.54236712,
          -79.42768335,
          -79.27247049,
          -79.54331654,
          -79.47143987,
          -79.47143711,
          -79.26038221,
          -79.39723988,
          -79.54786331,
          -79.5105768,
          -79.31408424,
          -79.49604526,
          -79.42474772,
          -79.40397836,
          -79.40603941,
          -79.36607234,
          -79.43032271,
          -79.53334545,
          -79.22251662,
          -79.48075802,
          -79.57343155,
          -79.27500892,
          -79.50013664,
          -79.20704119,
          -79.36729703,
          -79.49998906,
          -79.58725926,
          -79.38492395,
          -79.39335955,
          -79.51035809,
          -79.40593745,
          -79.43142151,
          -79.4124204,
          -79.35126041,
          -79.37524658,
          -79.31222777,
          -79.27970834,
          -79.43978548,
          -79.33548836,
          -79.41840873,
          -79.33017952,
          -79.5282822,
          -79.35488729,
          -79.33494843,
          -79.54455929,
          -79.36050881,
          -79.56622841,
          -79.49442045,
          -79.44299245,
          -79.3796694,
          -79.18634345,
          -79.48570818,
          -79.49809147,
          -79.21681262,
          -79.43933783,
          -79.33565132,
          -79.37903709,
          -79.32120701,
          -79.50112821,
          -79.30291871,
          -79.29590112,
          -79.2996013,
          -79.56349102,
          -79.34998361,
          -79.41534216,
          -79.40117975,
          -79.31487383,
          -79.37720231,
          -79.17667603,
          -79.59635645,
          -79.45241823,
          -79.51572255,
          -79.46024391,
          -79.29863657,
          -79.40148379,
          -79.4275578,
          -79.55422105,
          -79.22858577,
          -79.31540738,
          -79.31116353,
          -79.42551495,
          -79.40359017,
          -79.39787077,
          -79.48888293,
          -79.45710807
         ],
         "marker": {
          "color": [
           329811.5,
           334189,
           427922.5,
           746977,
           612039,
           501576.75,
           423653.5,
           539258.75,
           565413.5,
           930415.25,
           370927.75,
           301123.25,
           437315,
           260841.75,
           511437,
           365524.5,
           1526485.75,
           443373.25,
           350943,
           494110.5,
           361714.25,
           981064.25,
           409862.75,
           406117.5,
           354555.25,
           551561.25,
           417422,
           419930.5,
           466943,
           421679.25,
           398010.25,
           262000.25,
           434699.5,
           381415.5,
           457588.75,
           478054.25,
           796162.5,
           268966.5,
           268341.25,
           568936.75,
           397781.75,
           309412,
           207799,
           851680.5,
           1195992.5,
           327597.75,
           387055.5,
           369373.5,
           369958,
           532497,
           582977.75,
           428838.5,
           395023,
           449150.5,
           352082.5,
           319783.75,
           697085.5,
           287685.75,
           451685.25,
           433269.25,
           322774.75,
           287233.5,
           440485.75,
           338344.75,
           843234.25,
           650307.75,
           336617.75,
           613216.5,
           759392.5,
           1094027.75,
           806471.75,
           540192.5,
           385830.25,
           256880.25,
           453229,
           443974.75,
           344988.25,
           393490.5,
           285013.5,
           409456,
           262308.75,
           253182.25,
           677370.25,
           468181.75,
           407812,
           559573.25,
           460568.5,
           369993,
           703063.25,
           411455.75,
           298315.75,
           422257.5,
           441202.75,
           443413.5,
           622191.75,
           454652.5,
           405431.25,
           648859.25,
           373375.25,
           765746.5,
           392578.25,
           360999.25,
           345660.25,
           508937.25,
           1093640,
           376286.75,
           552082,
           431090.5,
           329835.75,
           447478.5,
           455020.5,
           999107,
           376014.5,
           550432.25,
           353926.5,
           239414,
           666306,
           375864,
           255264.75,
           534465.75,
           618316.75,
           352133,
           376863,
           284647.5,
           343254.25,
           349320.25,
           308007.75,
           351802,
           348319.25,
           469045.5,
           466134.75,
           464278,
           298505.75,
           445382.75,
           369918.5,
           565976.5,
           809745.75,
           813220.25,
           305899.5,
           430861.25
          ],
          "coloraxis": "coloraxis"
         },
         "mode": "markers",
         "name": "",
         "showlegend": false,
         "subplot": "mapbox",
         "type": "scattermapbox"
        }
       ],
       "layout": {
        "autosize": true,
        "coloraxis": {
         "colorbar": {
          "title": {
           "text": "average_house_value"
          }
         },
         "colorscale": [
          [
           0,
           "#0d0887"
          ],
          [
           0.1111111111111111,
           "#46039f"
          ],
          [
           0.2222222222222222,
           "#7201a8"
          ],
          [
           0.3333333333333333,
           "#9c179e"
          ],
          [
           0.4444444444444444,
           "#bd3786"
          ],
          [
           0.5555555555555556,
           "#d8576b"
          ],
          [
           0.6666666666666666,
           "#ed7953"
          ],
          [
           0.7777777777777778,
           "#fb9f3a"
          ],
          [
           0.8888888888888888,
           "#fdca26"
          ],
          [
           1,
           "#f0f921"
          ]
         ]
        },
        "legend": {
         "tracegroupgap": 0
        },
        "mapbox": {
         "accesstoken": "pk.eyJ1IjoiZGhhYW1lZW4iLCJhIjoiY2wwcndkdGE0MDdtdDNjcDJuMnN6cnN6bSJ9.3CIzxgk9bNE1m3_bZiNHXw",
         "bearing": 0,
         "center": {
          "lat": 43.685723971505524,
          "lon": -79.07861493574046
         },
         "domain": {
          "x": [
           0,
           1
          ],
          "y": [
           0,
           1
          ]
         },
         "pitch": 0,
         "zoom": 8.5871383671209
        },
        "template": {
         "data": {
          "bar": [
           {
            "error_x": {
             "color": "#2a3f5f"
            },
            "error_y": {
             "color": "#2a3f5f"
            },
            "marker": {
             "line": {
              "color": "#E5ECF6",
              "width": 0.5
             },
             "pattern": {
              "fillmode": "overlay",
              "size": 10,
              "solidity": 0.2
             }
            },
            "type": "bar"
           }
          ],
          "barpolar": [
           {
            "marker": {
             "line": {
              "color": "#E5ECF6",
              "width": 0.5
             },
             "pattern": {
              "fillmode": "overlay",
              "size": 10,
              "solidity": 0.2
             }
            },
            "type": "barpolar"
           }
          ],
          "carpet": [
           {
            "aaxis": {
             "endlinecolor": "#2a3f5f",
             "gridcolor": "white",
             "linecolor": "white",
             "minorgridcolor": "white",
             "startlinecolor": "#2a3f5f"
            },
            "baxis": {
             "endlinecolor": "#2a3f5f",
             "gridcolor": "white",
             "linecolor": "white",
             "minorgridcolor": "white",
             "startlinecolor": "#2a3f5f"
            },
            "type": "carpet"
           }
          ],
          "choropleth": [
           {
            "colorbar": {
             "outlinewidth": 0,
             "ticks": ""
            },
            "type": "choropleth"
           }
          ],
          "contour": [
           {
            "colorbar": {
             "outlinewidth": 0,
             "ticks": ""
            },
            "colorscale": [
             [
              0,
              "#0d0887"
             ],
             [
              0.1111111111111111,
              "#46039f"
             ],
             [
              0.2222222222222222,
              "#7201a8"
             ],
             [
              0.3333333333333333,
              "#9c179e"
             ],
             [
              0.4444444444444444,
              "#bd3786"
             ],
             [
              0.5555555555555556,
              "#d8576b"
             ],
             [
              0.6666666666666666,
              "#ed7953"
             ],
             [
              0.7777777777777778,
              "#fb9f3a"
             ],
             [
              0.8888888888888888,
              "#fdca26"
             ],
             [
              1,
              "#f0f921"
             ]
            ],
            "type": "contour"
           }
          ],
          "contourcarpet": [
           {
            "colorbar": {
             "outlinewidth": 0,
             "ticks": ""
            },
            "type": "contourcarpet"
           }
          ],
          "heatmap": [
           {
            "colorbar": {
             "outlinewidth": 0,
             "ticks": ""
            },
            "colorscale": [
             [
              0,
              "#0d0887"
             ],
             [
              0.1111111111111111,
              "#46039f"
             ],
             [
              0.2222222222222222,
              "#7201a8"
             ],
             [
              0.3333333333333333,
              "#9c179e"
             ],
             [
              0.4444444444444444,
              "#bd3786"
             ],
             [
              0.5555555555555556,
              "#d8576b"
             ],
             [
              0.6666666666666666,
              "#ed7953"
             ],
             [
              0.7777777777777778,
              "#fb9f3a"
             ],
             [
              0.8888888888888888,
              "#fdca26"
             ],
             [
              1,
              "#f0f921"
             ]
            ],
            "type": "heatmap"
           }
          ],
          "heatmapgl": [
           {
            "colorbar": {
             "outlinewidth": 0,
             "ticks": ""
            },
            "colorscale": [
             [
              0,
              "#0d0887"
             ],
             [
              0.1111111111111111,
              "#46039f"
             ],
             [
              0.2222222222222222,
              "#7201a8"
             ],
             [
              0.3333333333333333,
              "#9c179e"
             ],
             [
              0.4444444444444444,
              "#bd3786"
             ],
             [
              0.5555555555555556,
              "#d8576b"
             ],
             [
              0.6666666666666666,
              "#ed7953"
             ],
             [
              0.7777777777777778,
              "#fb9f3a"
             ],
             [
              0.8888888888888888,
              "#fdca26"
             ],
             [
              1,
              "#f0f921"
             ]
            ],
            "type": "heatmapgl"
           }
          ],
          "histogram": [
           {
            "marker": {
             "pattern": {
              "fillmode": "overlay",
              "size": 10,
              "solidity": 0.2
             }
            },
            "type": "histogram"
           }
          ],
          "histogram2d": [
           {
            "colorbar": {
             "outlinewidth": 0,
             "ticks": ""
            },
            "colorscale": [
             [
              0,
              "#0d0887"
             ],
             [
              0.1111111111111111,
              "#46039f"
             ],
             [
              0.2222222222222222,
              "#7201a8"
             ],
             [
              0.3333333333333333,
              "#9c179e"
             ],
             [
              0.4444444444444444,
              "#bd3786"
             ],
             [
              0.5555555555555556,
              "#d8576b"
             ],
             [
              0.6666666666666666,
              "#ed7953"
             ],
             [
              0.7777777777777778,
              "#fb9f3a"
             ],
             [
              0.8888888888888888,
              "#fdca26"
             ],
             [
              1,
              "#f0f921"
             ]
            ],
            "type": "histogram2d"
           }
          ],
          "histogram2dcontour": [
           {
            "colorbar": {
             "outlinewidth": 0,
             "ticks": ""
            },
            "colorscale": [
             [
              0,
              "#0d0887"
             ],
             [
              0.1111111111111111,
              "#46039f"
             ],
             [
              0.2222222222222222,
              "#7201a8"
             ],
             [
              0.3333333333333333,
              "#9c179e"
             ],
             [
              0.4444444444444444,
              "#bd3786"
             ],
             [
              0.5555555555555556,
              "#d8576b"
             ],
             [
              0.6666666666666666,
              "#ed7953"
             ],
             [
              0.7777777777777778,
              "#fb9f3a"
             ],
             [
              0.8888888888888888,
              "#fdca26"
             ],
             [
              1,
              "#f0f921"
             ]
            ],
            "type": "histogram2dcontour"
           }
          ],
          "mesh3d": [
           {
            "colorbar": {
             "outlinewidth": 0,
             "ticks": ""
            },
            "type": "mesh3d"
           }
          ],
          "parcoords": [
           {
            "line": {
             "colorbar": {
              "outlinewidth": 0,
              "ticks": ""
             }
            },
            "type": "parcoords"
           }
          ],
          "pie": [
           {
            "automargin": true,
            "type": "pie"
           }
          ],
          "scatter": [
           {
            "marker": {
             "colorbar": {
              "outlinewidth": 0,
              "ticks": ""
             }
            },
            "type": "scatter"
           }
          ],
          "scatter3d": [
           {
            "line": {
             "colorbar": {
              "outlinewidth": 0,
              "ticks": ""
             }
            },
            "marker": {
             "colorbar": {
              "outlinewidth": 0,
              "ticks": ""
             }
            },
            "type": "scatter3d"
           }
          ],
          "scattercarpet": [
           {
            "marker": {
             "colorbar": {
              "outlinewidth": 0,
              "ticks": ""
             }
            },
            "type": "scattercarpet"
           }
          ],
          "scattergeo": [
           {
            "marker": {
             "colorbar": {
              "outlinewidth": 0,
              "ticks": ""
             }
            },
            "type": "scattergeo"
           }
          ],
          "scattergl": [
           {
            "marker": {
             "colorbar": {
              "outlinewidth": 0,
              "ticks": ""
             }
            },
            "type": "scattergl"
           }
          ],
          "scattermapbox": [
           {
            "marker": {
             "colorbar": {
              "outlinewidth": 0,
              "ticks": ""
             }
            },
            "type": "scattermapbox"
           }
          ],
          "scatterpolar": [
           {
            "marker": {
             "colorbar": {
              "outlinewidth": 0,
              "ticks": ""
             }
            },
            "type": "scatterpolar"
           }
          ],
          "scatterpolargl": [
           {
            "marker": {
             "colorbar": {
              "outlinewidth": 0,
              "ticks": ""
             }
            },
            "type": "scatterpolargl"
           }
          ],
          "scatterternary": [
           {
            "marker": {
             "colorbar": {
              "outlinewidth": 0,
              "ticks": ""
             }
            },
            "type": "scatterternary"
           }
          ],
          "surface": [
           {
            "colorbar": {
             "outlinewidth": 0,
             "ticks": ""
            },
            "colorscale": [
             [
              0,
              "#0d0887"
             ],
             [
              0.1111111111111111,
              "#46039f"
             ],
             [
              0.2222222222222222,
              "#7201a8"
             ],
             [
              0.3333333333333333,
              "#9c179e"
             ],
             [
              0.4444444444444444,
              "#bd3786"
             ],
             [
              0.5555555555555556,
              "#d8576b"
             ],
             [
              0.6666666666666666,
              "#ed7953"
             ],
             [
              0.7777777777777778,
              "#fb9f3a"
             ],
             [
              0.8888888888888888,
              "#fdca26"
             ],
             [
              1,
              "#f0f921"
             ]
            ],
            "type": "surface"
           }
          ],
          "table": [
           {
            "cells": {
             "fill": {
              "color": "#EBF0F8"
             },
             "line": {
              "color": "white"
             }
            },
            "header": {
             "fill": {
              "color": "#C8D4E3"
             },
             "line": {
              "color": "white"
             }
            },
            "type": "table"
           }
          ]
         },
         "layout": {
          "annotationdefaults": {
           "arrowcolor": "#2a3f5f",
           "arrowhead": 0,
           "arrowwidth": 1
          },
          "autotypenumbers": "strict",
          "coloraxis": {
           "colorbar": {
            "outlinewidth": 0,
            "ticks": ""
           }
          },
          "colorscale": {
           "diverging": [
            [
             0,
             "#8e0152"
            ],
            [
             0.1,
             "#c51b7d"
            ],
            [
             0.2,
             "#de77ae"
            ],
            [
             0.3,
             "#f1b6da"
            ],
            [
             0.4,
             "#fde0ef"
            ],
            [
             0.5,
             "#f7f7f7"
            ],
            [
             0.6,
             "#e6f5d0"
            ],
            [
             0.7,
             "#b8e186"
            ],
            [
             0.8,
             "#7fbc41"
            ],
            [
             0.9,
             "#4d9221"
            ],
            [
             1,
             "#276419"
            ]
           ],
           "sequential": [
            [
             0,
             "#0d0887"
            ],
            [
             0.1111111111111111,
             "#46039f"
            ],
            [
             0.2222222222222222,
             "#7201a8"
            ],
            [
             0.3333333333333333,
             "#9c179e"
            ],
            [
             0.4444444444444444,
             "#bd3786"
            ],
            [
             0.5555555555555556,
             "#d8576b"
            ],
            [
             0.6666666666666666,
             "#ed7953"
            ],
            [
             0.7777777777777778,
             "#fb9f3a"
            ],
            [
             0.8888888888888888,
             "#fdca26"
            ],
            [
             1,
             "#f0f921"
            ]
           ],
           "sequentialminus": [
            [
             0,
             "#0d0887"
            ],
            [
             0.1111111111111111,
             "#46039f"
            ],
            [
             0.2222222222222222,
             "#7201a8"
            ],
            [
             0.3333333333333333,
             "#9c179e"
            ],
            [
             0.4444444444444444,
             "#bd3786"
            ],
            [
             0.5555555555555556,
             "#d8576b"
            ],
            [
             0.6666666666666666,
             "#ed7953"
            ],
            [
             0.7777777777777778,
             "#fb9f3a"
            ],
            [
             0.8888888888888888,
             "#fdca26"
            ],
            [
             1,
             "#f0f921"
            ]
           ]
          },
          "colorway": [
           "#636efa",
           "#EF553B",
           "#00cc96",
           "#ab63fa",
           "#FFA15A",
           "#19d3f3",
           "#FF6692",
           "#B6E880",
           "#FF97FF",
           "#FECB52"
          ],
          "font": {
           "color": "#2a3f5f"
          },
          "geo": {
           "bgcolor": "white",
           "lakecolor": "white",
           "landcolor": "#E5ECF6",
           "showlakes": true,
           "showland": true,
           "subunitcolor": "white"
          },
          "hoverlabel": {
           "align": "left"
          },
          "hovermode": "closest",
          "mapbox": {
           "style": "light"
          },
          "paper_bgcolor": "white",
          "plot_bgcolor": "#E5ECF6",
          "polar": {
           "angularaxis": {
            "gridcolor": "white",
            "linecolor": "white",
            "ticks": ""
           },
           "bgcolor": "#E5ECF6",
           "radialaxis": {
            "gridcolor": "white",
            "linecolor": "white",
            "ticks": ""
           }
          },
          "scene": {
           "xaxis": {
            "backgroundcolor": "#E5ECF6",
            "gridcolor": "white",
            "gridwidth": 2,
            "linecolor": "white",
            "showbackground": true,
            "ticks": "",
            "zerolinecolor": "white"
           },
           "yaxis": {
            "backgroundcolor": "#E5ECF6",
            "gridcolor": "white",
            "gridwidth": 2,
            "linecolor": "white",
            "showbackground": true,
            "ticks": "",
            "zerolinecolor": "white"
           },
           "zaxis": {
            "backgroundcolor": "#E5ECF6",
            "gridcolor": "white",
            "gridwidth": 2,
            "linecolor": "white",
            "showbackground": true,
            "ticks": "",
            "zerolinecolor": "white"
           }
          },
          "shapedefaults": {
           "line": {
            "color": "#2a3f5f"
           }
          },
          "ternary": {
           "aaxis": {
            "gridcolor": "white",
            "linecolor": "white",
            "ticks": ""
           },
           "baxis": {
            "gridcolor": "white",
            "linecolor": "white",
            "ticks": ""
           },
           "bgcolor": "#E5ECF6",
           "caxis": {
            "gridcolor": "white",
            "linecolor": "white",
            "ticks": ""
           }
          },
          "title": {
           "x": 0.05
          },
          "xaxis": {
           "automargin": true,
           "gridcolor": "white",
           "linecolor": "white",
           "ticks": "",
           "title": {
            "standoff": 15
           },
           "zerolinecolor": "white",
           "zerolinewidth": 2
          },
          "yaxis": {
           "automargin": true,
           "gridcolor": "white",
           "linecolor": "white",
           "ticks": "",
           "title": {
            "standoff": 15
           },
           "zerolinecolor": "white",
           "zerolinewidth": 2
          }
         }
        },
        "title": {
         "text": "Average House Values in Toronto"
        }
       }
      },
      "image/png": "[encoded data removed]",
      "text/html": [
       "<div>                            <div id=\"b48551a0-e2da-4c6e-8793-c11936513c6b\" class=\"plotly-graph-div\" style=\"height:525px; width:100%;\"></div>            <script type=\"text/javascript\">                require([\"plotly\"], function(Plotly) {                    window.PLOTLYENV=window.PLOTLYENV || {};                                    if (document.getElementById(\"b48551a0-e2da-4c6e-8793-c11936513c6b\")) {                    Plotly.newPlot(                        \"b48551a0-e2da-4c6e-8793-c11936513c6b\",                        [{\"hovertemplate\":\"lat=%{lat}<br>lon=%{lon}<br>average_house_value=%{marker.color}<extra></extra>\",\"lat\":[43.80544058,43.78865755,43.6049369,43.67158544,43.737657,43.76481331,43.65751135,43.77636052,43.79680187,43.73148623,43.69321649,43.76036631,43.69468198,43.76489025,43.67617288,43.69902438,43.73101314,43.68882512,43.70132631,43.66764773,43.68856865,43.6818521,43.7823765,43.65964886,43.71359238,43.74197843,43.72112117,43.67766091,43.68402547,43.68946809,43.78329369,43.75927437,43.66567693,43.73329235,43.65542833,43.68417388,43.67088591,43.7409223,43.72151887,43.72034467,43.65801676,43.64506262,43.71592975,43.70421756,43.69452576,43.74563575,43.67261231,43.74882934,43.77114414,43.65756491,43.64506458,43.79077477,43.80298783,43.6922328,43.75891975,43.74342952,43.69136981,43.73536441,43.63346335,43.66788977,43.68572747,43.72555572,43.65355413,43.69899257,43.65352043,43.79571603,43.65742013,43.75427115,43.73006017,43.7172117,43.70379663,43.64753593,43.59236169,43.8036582,43.71557394,43.63354175,43.82069079,43.61592386,43.78239861,43.65651762,43.68814409,43.7468678,43.70485217,43.70443517,43.6005886,43.79153579,43.78582994,43.63668088,43.67199515,43.66962341,43.70680049,43.69740813,43.68856556,43.69678127,43.6591571,43.75503347,43.7175146,43.67970047,43.78698176,43.6660506,43.65999214,43.72372548,43.67479045,43.64612299,43.68282043,43.82120126,43.65926882,43.71160912,43.73865186,43.63669952,43.64929206,43.75624583,43.81295883,43.63551813,43.78012985,43.69499819,43.67104999,43.73798792,43.70774921,43.6501763,43.6625062,43.72848902,43.63388036,43.76749026,43.7161804,43.77881322,43.70271605,43.67396204,43.74857214,43.77060226,43.77121049,43.68364496,43.76674024,43.67677292,43.69410674,43.67691927,43.70468937,43.68785887,43.76573649,43.71467153],\"legendgroup\":\"\",\"lon\":[-79.26671217,-79.2656118,-79.54161093,-79.40400062,-79.34971798,-79.45605516,-79.38572125,-79.37711686,-79.38211795,-79.42022735,-79.47947251,-79.25740037,-79.26509259,-79.52197932,-79.33739417,-79.4528513,-79.37890418,-79.35562951,-79.48558926,-79.36610666,-79.45521208,-79.40800665,-79.15084327,-79.37901717,-79.28138178,-79.44630258,-79.23552957,-79.44746933,-79.32981941,-79.33140338,-79.35364413,-79.27890794,-79.4385407,-79.49049735,-79.43734104,-79.29935867,-79.52245776,-79.24559804,-79.54898272,-79.43740855,-79.58044524,-79.56893877,-79.33264597,-79.42814316,-79.41431786,-79.51346532,-79.32431802,-79.19505535,-79.34124067,-79.46630217,-79.46787222,-79.17747247,-79.354804,-79.5224162,-79.55617474,-79.54236712,-79.42768335,-79.27247049,-79.54331654,-79.47143987,-79.47143711,-79.26038221,-79.39723988,-79.54786331,-79.5105768,-79.31408424,-79.49604526,-79.42474772,-79.40397836,-79.40603941,-79.36607234,-79.43032271,-79.53334545,-79.22251662,-79.48075802,-79.57343155,-79.27500892,-79.50013664,-79.20704119,-79.36729703,-79.49998906,-79.58725926,-79.38492395,-79.39335955,-79.51035809,-79.40593745,-79.43142151,-79.4124204,-79.35126041,-79.37524658,-79.31222777,-79.27970834,-79.43978548,-79.33548836,-79.41840873,-79.33017952,-79.5282822,-79.35488729,-79.33494843,-79.54455929,-79.36050881,-79.56622841,-79.49442045,-79.44299245,-79.3796694,-79.18634345,-79.48570818,-79.49809147,-79.21681262,-79.43933783,-79.33565132,-79.37903709,-79.32120701,-79.50112821,-79.30291871,-79.29590112,-79.2996013,-79.56349102,-79.34998361,-79.41534216,-79.40117975,-79.31487383,-79.37720231,-79.17667603,-79.59635645,-79.45241823,-79.51572255,-79.46024391,-79.29863657,-79.40148379,-79.4275578,-79.55422105,-79.22858577,-79.31540738,-79.31116353,-79.42551495,-79.40359017,-79.39787077,-79.48888293,-79.45710807],\"marker\":{\"color\":[329811.5,334189.0,427922.5,746977.0,612039.0,501576.75,423653.5,539258.75,565413.5,930415.25,370927.75,301123.25,437315.0,260841.75,511437.0,365524.5,1526485.75,443373.25,350943.0,494110.5,361714.25,981064.25,409862.75,406117.5,354555.25,551561.25,417422.0,419930.5,466943.0,421679.25,398010.25,262000.25,434699.5,381415.5,457588.75,478054.25,796162.5,268966.5,268341.25,568936.75,397781.75,309412.0,207799.0,851680.5,1195992.5,327597.75,387055.5,369373.5,369958.0,532497.0,582977.75,428838.5,395023.0,449150.5,352082.5,319783.75,697085.5,287685.75,451685.25,433269.25,322774.75,287233.5,440485.75,338344.75,843234.25,650307.75,336617.75,613216.5,759392.5,1094027.75,806471.75,540192.5,385830.25,256880.25,453229.0,443974.75,344988.25,393490.5,285013.5,409456.0,262308.75,253182.25,677370.25,468181.75,407812.0,559573.25,460568.5,369993.0,703063.25,411455.75,298315.75,422257.5,441202.75,443413.5,622191.75,454652.5,405431.25,648859.25,373375.25,765746.5,392578.25,360999.25,345660.25,508937.25,1093640.0,376286.75,552082.0,431090.5,329835.75,447478.5,455020.5,999107.0,376014.5,550432.25,353926.5,239414.0,666306.0,375864.0,255264.75,534465.75,618316.75,352133.0,376863.0,284647.5,343254.25,349320.25,308007.75,351802.0,348319.25,469045.5,466134.75,464278.0,298505.75,445382.75,369918.5,565976.5,809745.75,813220.25,305899.5,430861.25],\"coloraxis\":\"coloraxis\"},\"mode\":\"markers\",\"name\":\"\",\"showlegend\":false,\"subplot\":\"mapbox\",\"type\":\"scattermapbox\"}],                        {\"template\":{\"data\":{\"bar\":[{\"error_x\":{\"color\":\"#2a3f5f\"},\"error_y\":{\"color\":\"#2a3f5f\"},\"marker\":{\"line\":{\"color\":\"#E5ECF6\",\"width\":0.5},\"pattern\":{\"fillmode\":\"overlay\",\"size\":10,\"solidity\":0.2}},\"type\":\"bar\"}],\"barpolar\":[{\"marker\":{\"line\":{\"color\":\"#E5ECF6\",\"width\":0.5},\"pattern\":{\"fillmode\":\"overlay\",\"size\":10,\"solidity\":0.2}},\"type\":\"barpolar\"}],\"carpet\":[{\"aaxis\":{\"endlinecolor\":\"#2a3f5f\",\"gridcolor\":\"white\",\"linecolor\":\"white\",\"minorgridcolor\":\"white\",\"startlinecolor\":\"#2a3f5f\"},\"baxis\":{\"endlinecolor\":\"#2a3f5f\",\"gridcolor\":\"white\",\"linecolor\":\"white\",\"minorgridcolor\":\"white\",\"startlinecolor\":\"#2a3f5f\"},\"type\":\"carpet\"}],\"choropleth\":[{\"colorbar\":{\"outlinewidth\":0,\"ticks\":\"\"},\"type\":\"choropleth\"}],\"contour\":[{\"colorbar\":{\"outlinewidth\":0,\"ticks\":\"\"},\"colorscale\":[[0.0,\"#0d0887\"],[0.1111111111111111,\"#46039f\"],[0.2222222222222222,\"#7201a8\"],[0.3333333333333333,\"#9c179e\"],[0.4444444444444444,\"#bd3786\"],[0.5555555555555556,\"#d8576b\"],[0.6666666666666666,\"#ed7953\"],[0.7777777777777778,\"#fb9f3a\"],[0.8888888888888888,\"#fdca26\"],[1.0,\"#f0f921\"]],\"type\":\"contour\"}],\"contourcarpet\":[{\"colorbar\":{\"outlinewidth\":0,\"ticks\":\"\"},\"type\":\"contourcarpet\"}],\"heatmap\":[{\"colorbar\":{\"outlinewidth\":0,\"ticks\":\"\"},\"colorscale\":[[0.0,\"#0d0887\"],[0.1111111111111111,\"#46039f\"],[0.2222222222222222,\"#7201a8\"],[0.3333333333333333,\"#9c179e\"],[0.4444444444444444,\"#bd3786\"],[0.5555555555555556,\"#d8576b\"],[0.6666666666666666,\"#ed7953\"],[0.7777777777777778,\"#fb9f3a\"],[0.8888888888888888,\"#fdca26\"],[1.0,\"#f0f921\"]],\"type\":\"heatmap\"}],\"heatmapgl\":[{\"colorbar\":{\"outlinewidth\":0,\"ticks\":\"\"},\"colorscale\":[[0.0,\"#0d0887\"],[0.1111111111111111,\"#46039f\"],[0.2222222222222222,\"#7201a8\"],[0.3333333333333333,\"#9c179e\"],[0.4444444444444444,\"#bd3786\"],[0.5555555555555556,\"#d8576b\"],[0.6666666666666666,\"#ed7953\"],[0.7777777777777778,\"#fb9f3a\"],[0.8888888888888888,\"#fdca26\"],[1.0,\"#f0f921\"]],\"type\":\"heatmapgl\"}],\"histogram\":[{\"marker\":{\"pattern\":{\"fillmode\":\"overlay\",\"size\":10,\"solidity\":0.2}},\"type\":\"histogram\"}],\"histogram2d\":[{\"colorbar\":{\"outlinewidth\":0,\"ticks\":\"\"},\"colorscale\":[[0.0,\"#0d0887\"],[0.1111111111111111,\"#46039f\"],[0.2222222222222222,\"#7201a8\"],[0.3333333333333333,\"#9c179e\"],[0.4444444444444444,\"#bd3786\"],[0.5555555555555556,\"#d8576b\"],[0.6666666666666666,\"#ed7953\"],[0.7777777777777778,\"#fb9f3a\"],[0.8888888888888888,\"#fdca26\"],[1.0,\"#f0f921\"]],\"type\":\"histogram2d\"}],\"histogram2dcontour\":[{\"colorbar\":{\"outlinewidth\":0,\"ticks\":\"\"},\"colorscale\":[[0.0,\"#0d0887\"],[0.1111111111111111,\"#46039f\"],[0.2222222222222222,\"#7201a8\"],[0.3333333333333333,\"#9c179e\"],[0.4444444444444444,\"#bd3786\"],[0.5555555555555556,\"#d8576b\"],[0.6666666666666666,\"#ed7953\"],[0.7777777777777778,\"#fb9f3a\"],[0.8888888888888888,\"#fdca26\"],[1.0,\"#f0f921\"]],\"type\":\"histogram2dcontour\"}],\"mesh3d\":[{\"colorbar\":{\"outlinewidth\":0,\"ticks\":\"\"},\"type\":\"mesh3d\"}],\"parcoords\":[{\"line\":{\"colorbar\":{\"outlinewidth\":0,\"ticks\":\"\"}},\"type\":\"parcoords\"}],\"pie\":[{\"automargin\":true,\"type\":\"pie\"}],\"scatter\":[{\"marker\":{\"colorbar\":{\"outlinewidth\":0,\"ticks\":\"\"}},\"type\":\"scatter\"}],\"scatter3d\":[{\"line\":{\"colorbar\":{\"outlinewidth\":0,\"ticks\":\"\"}},\"marker\":{\"colorbar\":{\"outlinewidth\":0,\"ticks\":\"\"}},\"type\":\"scatter3d\"}],\"scattercarpet\":[{\"marker\":{\"colorbar\":{\"outlinewidth\":0,\"ticks\":\"\"}},\"type\":\"scattercarpet\"}],\"scattergeo\":[{\"marker\":{\"colorbar\":{\"outlinewidth\":0,\"ticks\":\"\"}},\"type\":\"scattergeo\"}],\"scattergl\":[{\"marker\":{\"colorbar\":{\"outlinewidth\":0,\"ticks\":\"\"}},\"type\":\"scattergl\"}],\"scattermapbox\":[{\"marker\":{\"colorbar\":{\"outlinewidth\":0,\"ticks\":\"\"}},\"type\":\"scattermapbox\"}],\"scatterpolar\":[{\"marker\":{\"colorbar\":{\"outlinewidth\":0,\"ticks\":\"\"}},\"type\":\"scatterpolar\"}],\"scatterpolargl\":[{\"marker\":{\"colorbar\":{\"outlinewidth\":0,\"ticks\":\"\"}},\"type\":\"scatterpolargl\"}],\"scatterternary\":[{\"marker\":{\"colorbar\":{\"outlinewidth\":0,\"ticks\":\"\"}},\"type\":\"scatterternary\"}],\"surface\":[{\"colorbar\":{\"outlinewidth\":0,\"ticks\":\"\"},\"colorscale\":[[0.0,\"#0d0887\"],[0.1111111111111111,\"#46039f\"],[0.2222222222222222,\"#7201a8\"],[0.3333333333333333,\"#9c179e\"],[0.4444444444444444,\"#bd3786\"],[0.5555555555555556,\"#d8576b\"],[0.6666666666666666,\"#ed7953\"],[0.7777777777777778,\"#fb9f3a\"],[0.8888888888888888,\"#fdca26\"],[1.0,\"#f0f921\"]],\"type\":\"surface\"}],\"table\":[{\"cells\":{\"fill\":{\"color\":\"#EBF0F8\"},\"line\":{\"color\":\"white\"}},\"header\":{\"fill\":{\"color\":\"#C8D4E3\"},\"line\":{\"color\":\"white\"}},\"type\":\"table\"}]},\"layout\":{\"annotationdefaults\":{\"arrowcolor\":\"#2a3f5f\",\"arrowhead\":0,\"arrowwidth\":1},\"autotypenumbers\":\"strict\",\"coloraxis\":{\"colorbar\":{\"outlinewidth\":0,\"ticks\":\"\"}},\"colorscale\":{\"diverging\":[[0,\"#8e0152\"],[0.1,\"#c51b7d\"],[0.2,\"#de77ae\"],[0.3,\"#f1b6da\"],[0.4,\"#fde0ef\"],[0.5,\"#f7f7f7\"],[0.6,\"#e6f5d0\"],[0.7,\"#b8e186\"],[0.8,\"#7fbc41\"],[0.9,\"#4d9221\"],[1,\"#276419\"]],\"sequential\":[[0.0,\"#0d0887\"],[0.1111111111111111,\"#46039f\"],[0.2222222222222222,\"#7201a8\"],[0.3333333333333333,\"#9c179e\"],[0.4444444444444444,\"#bd3786\"],[0.5555555555555556,\"#d8576b\"],[0.6666666666666666,\"#ed7953\"],[0.7777777777777778,\"#fb9f3a\"],[0.8888888888888888,\"#fdca26\"],[1.0,\"#f0f921\"]],\"sequentialminus\":[[0.0,\"#0d0887\"],[0.1111111111111111,\"#46039f\"],[0.2222222222222222,\"#7201a8\"],[0.3333333333333333,\"#9c179e\"],[0.4444444444444444,\"#bd3786\"],[0.5555555555555556,\"#d8576b\"],[0.6666666666666666,\"#ed7953\"],[0.7777777777777778,\"#fb9f3a\"],[0.8888888888888888,\"#fdca26\"],[1.0,\"#f0f921\"]]},\"colorway\":[\"#636efa\",\"#EF553B\",\"#00cc96\",\"#ab63fa\",\"#FFA15A\",\"#19d3f3\",\"#FF6692\",\"#B6E880\",\"#FF97FF\",\"#FECB52\"],\"font\":{\"color\":\"#2a3f5f\"},\"geo\":{\"bgcolor\":\"white\",\"lakecolor\":\"white\",\"landcolor\":\"#E5ECF6\",\"showlakes\":true,\"showland\":true,\"subunitcolor\":\"white\"},\"hoverlabel\":{\"align\":\"left\"},\"hovermode\":\"closest\",\"mapbox\":{\"style\":\"light\"},\"paper_bgcolor\":\"white\",\"plot_bgcolor\":\"#E5ECF6\",\"polar\":{\"angularaxis\":{\"gridcolor\":\"white\",\"linecolor\":\"white\",\"ticks\":\"\"},\"bgcolor\":\"#E5ECF6\",\"radialaxis\":{\"gridcolor\":\"white\",\"linecolor\":\"white\",\"ticks\":\"\"}},\"scene\":{\"xaxis\":{\"backgroundcolor\":\"#E5ECF6\",\"gridcolor\":\"white\",\"gridwidth\":2,\"linecolor\":\"white\",\"showbackground\":true,\"ticks\":\"\",\"zerolinecolor\":\"white\"},\"yaxis\":{\"backgroundcolor\":\"#E5ECF6\",\"gridcolor\":\"white\",\"gridwidth\":2,\"linecolor\":\"white\",\"showbackground\":true,\"ticks\":\"\",\"zerolinecolor\":\"white\"},\"zaxis\":{\"backgroundcolor\":\"#E5ECF6\",\"gridcolor\":\"white\",\"gridwidth\":2,\"linecolor\":\"white\",\"showbackground\":true,\"ticks\":\"\",\"zerolinecolor\":\"white\"}},\"shapedefaults\":{\"line\":{\"color\":\"#2a3f5f\"}},\"ternary\":{\"aaxis\":{\"gridcolor\":\"white\",\"linecolor\":\"white\",\"ticks\":\"\"},\"baxis\":{\"gridcolor\":\"white\",\"linecolor\":\"white\",\"ticks\":\"\"},\"bgcolor\":\"#E5ECF6\",\"caxis\":{\"gridcolor\":\"white\",\"linecolor\":\"white\",\"ticks\":\"\"}},\"title\":{\"x\":0.05},\"xaxis\":{\"automargin\":true,\"gridcolor\":\"white\",\"linecolor\":\"white\",\"ticks\":\"\",\"title\":{\"standoff\":15},\"zerolinecolor\":\"white\",\"zerolinewidth\":2},\"yaxis\":{\"automargin\":true,\"gridcolor\":\"white\",\"linecolor\":\"white\",\"ticks\":\"\",\"title\":{\"standoff\":15},\"zerolinecolor\":\"white\",\"zerolinewidth\":2}}},\"mapbox\":{\"domain\":{\"x\":[0.0,1.0],\"y\":[0.0,1.0]},\"center\":{\"lat\":43.708840577642846,\"lon\":-79.4001855035},\"accesstoken\":\"pk.eyJ1IjoiZGhhYW1lZW4iLCJhIjoiY2wwcndkdGE0MDdtdDNjcDJuMnN6cnN6bSJ9.3CIzxgk9bNE1m3_bZiNHXw\",\"zoom\":8},\"coloraxis\":{\"colorbar\":{\"title\":{\"text\":\"average_house_value\"}},\"colorscale\":[[0.0,\"#0d0887\"],[0.1111111111111111,\"#46039f\"],[0.2222222222222222,\"#7201a8\"],[0.3333333333333333,\"#9c179e\"],[0.4444444444444444,\"#bd3786\"],[0.5555555555555556,\"#d8576b\"],[0.6666666666666666,\"#ed7953\"],[0.7777777777777778,\"#fb9f3a\"],[0.8888888888888888,\"#fdca26\"],[1.0,\"#f0f921\"]]},\"legend\":{\"tracegroupgap\":0},\"title\":{\"text\":\"Average House Values in Toronto\"}},                        {\"responsive\": true}                    ).then(function(){\n",
       "                            \n",
       "var gd = document.getElementById('b48551a0-e2da-4c6e-8793-c11936513c6b');\n",
       "var x = new MutationObserver(function (mutations, observer) {{\n",
       "        var display = window.getComputedStyle(gd).display;\n",
       "        if (!display || display === 'none') {{\n",
       "            console.log([gd, 'removed!']);\n",
       "            Plotly.purge(gd);\n",
       "            observer.disconnect();\n",
       "        }}\n",
       "}});\n",
       "\n",
       "// Listen for the removal of the full notebook cells\n",
       "var notebookContainer = gd.closest('#notebook-container');\n",
       "if (notebookContainer) {{\n",
       "    x.observe(notebookContainer, {childList: true});\n",
       "}}\n",
       "\n",
       "// Listen for the clearing of the current output cell\n",
       "var outputEl = gd.closest('.output');\n",
       "if (outputEl) {{\n",
       "    x.observe(outputEl, {childList: true});\n",
       "}}\n",
       "\n",
       "                        })                };                });            </script>        </div>"
      ]
     },
     "metadata": {},
     "output_type": "display_data"
    }
   ],
   "source": [
    "# Create a scatter mapbox to analyze neighbourhood info\n",
    "map_1 = px.scatter_mapbox(\n",
    "    nbhd_val_locs,\n",
    "    lat=\"lat\",\n",
    "    lon=\"lon\",\n",
    "    color=\"average_house_value\",\n",
    "    title = 'Average House Values in Toronto'\n",
    ")\n",
    "map_1.show()"
   ]
  },
  {
   "cell_type": "markdown",
   "metadata": {},
   "source": [
    "- - -"
   ]
  },
  {
   "cell_type": "markdown",
   "metadata": {},
   "source": [
    "## Cost Analysis - Optional Challenge\n",
    "\n",
    "In this section, you will use Plotly express to a couple of plots that investors can interactively filter and explore various factors related to the house value of the Toronto's neighbourhoods. \n",
    "\n",
    "### Create a bar chart row facet to plot the average house values for all Toronto's neighbourhoods per year"
   ]
  },
  {
   "cell_type": "code",
   "execution_count": 756,
   "metadata": {},
   "outputs": [
    {
     "data": {
      "application/vnd.plotly.v1+json": {
       "config": {
        "plotlyServerURL": "https://plot.ly"
       },
       "data": [
        {
         "alignmentgroup": "True",
         "hovertemplate": "year=2001<br>neighbourhood=%{x}<br>average_house_value=%{marker.color}<extra></extra>",
         "legendgroup": "",
         "marker": {
          "color": [
           200388,
           203047,
           259998,
           453850,
           371864,
           304749,
           257404,
           327644,
           343535,
           565304,
           225369,
           182957,
           265705,
           158483,
           310740,
           222086,
           927466,
           269386,
           213227,
           300213,
           219771,
           596077,
           249025,
           246750,
           215421,
           335119,
           253618,
           255142,
           283706,
           256205,
           241824,
           159187,
           264116,
           231741,
           278023,
           290457,
           483734,
           163419,
           163039,
           345676,
           241685,
           187993,
           126255,
           517466,
           726664,
           199043,
           235168,
           224425,
           224780,
           323536,
           354207,
           260555,
           240009,
           272896,
           213919,
           194295,
           423537,
           174793,
           274436,
           263247,
           196112,
           174518,
           267631,
           205572,
           512334,
           395115,
           204523,
           372579,
           461393,
           664712,
           489998,
           328211,
           234424,
           156076,
           275374,
           269751,
           209609,
           239078,
           173169,
           248778,
           159374,
           153829,
           411558,
           284459,
           247779,
           339987,
           279833,
           224801,
           427169,
           249993,
           181251,
           256556,
           268067,
           269410,
           378033,
           276239,
           246333,
           394235,
           226856,
           465254,
           238524,
           219337,
           210017,
           309221,
           664476,
           228625,
           335435,
           261923,
           200402,
           271880,
           276462,
           607040,
           228460,
           334433,
           215039,
           145464,
           404836,
           228368,
           155094,
           324732,
           375678,
           213950,
           228975,
           172947,
           208555,
           212241,
           187140,
           213749,
           211633,
           284984,
           283215,
           282087,
           181367,
           270607,
           224756,
           343877,
           491987,
           494098,
           185859,
           261784
          ],
          "coloraxis": "coloraxis",
          "pattern": {
           "shape": ""
          }
         },
         "name": "",
         "offsetgroup": "",
         "orientation": "v",
         "showlegend": false,
         "textposition": "auto",
         "type": "bar",
         "x": [
          "Agincourt North",
          "Agincourt South-Malvern West",
          "Alderwood",
          "Annex",
          "Banbury-Don Mills",
          "Bathurst Manor",
          "Bay Street Corridor",
          "Bayview Village",
          "Bayview Woods-Steeles",
          "Bedford Park-Nortown",
          "Beechborough-Greenbrook",
          "Bendale",
          "Birchcliffe-Cliffside",
          "Black Creek",
          "Blake-Jones",
          "Briar Hill-Belgravia",
          "Bridle Path-Sunnybrook-York Mills",
          "Broadview North",
          "Brookhaven-Amesbury",
          "Cabbagetown-South St.James Town",
          "Caledonia-Fairbank",
          "Casa Loma",
          "Centennial Scarborough",
          "Church-Yonge Corridor",
          "Clairlea-Birchmount",
          "Clanton Park",
          "Cliffcrest",
          "Corso Italia-Davenport",
          "Danforth",
          "Danforth-East York",
          "Don Valley Village",
          "Dorset Park",
          "Dovercourt-Wallace Emerson-Juncti",
          "Downsview-Roding-CFB",
          "Dufferin Grove",
          "East End-Danforth",
          "Edenbridge-Humber Valley",
          "Eglinton East",
          "Elms-Old Rexdale",
          "Englemount-Lawrence",
          "Eringate-Centennial-West Deane",
          "Etobicoke West Mall",
          "Flemingdon Park",
          "Forest Hill North",
          "Forest Hill South",
          "Glenfield-Jane Heights",
          "Greenwood-Coxwell",
          "Guildwood",
          "Henry Farm",
          "High Park North",
          "High Park-Swansea",
          "Highland Creek",
          "Hillcrest Village",
          "Humber Heights-Westmount",
          "Humber Summit",
          "Humbermede",
          "Humewood-Cedarvale",
          "Ionview",
          "Islington-City Centre West",
          "Junction Area",
          "Keelesdale-Eglinton West",
          "Kennedy Park",
          "Kensington-Chinatown",
          "Kingsview Village-The Westway",
          "Kingsway South",
          "L'Amoreaux",
          "Lambton Baby Point",
          "Lansing-Westgate",
          "Lawrence Park North",
          "Lawrence Park South",
          "Leaside-Bennington",
          "Little Portugal",
          "Long Branch",
          "Malvern",
          "Maple Leaf",
          "Markland Wood",
          "Milliken",
          "Mimico",
          "Morningside",
          "Moss Park",
          "Mount Dennis",
          "Mount Olive-Silverstone-Jamestown",
          "Mount Pleasant East",
          "Mount Pleasant West",
          "New Toronto",
          "Newtonbrook East",
          "Newtonbrook West",
          "Niagara",
          "North Riverdale",
          "North St.James Town",
          "O'Connor-Parkview",
          "Oakridge",
          "Oakwood Village",
          "Old East York",
          "Palmerston-Little Italy",
          "Parkwoods-Donalda",
          "Pelmo Park-Humberlea",
          "Playter Estates-Danforth",
          "Pleasant View",
          "Princess-Rosethorn",
          "Regent Park",
          "Rexdale-Kipling",
          "Rockcliffe-Smythe",
          "Roncesvalles",
          "Rosedale-Moore Park",
          "Rouge",
          "Runnymede-Bloor West Village",
          "Rustic",
          "Scarborough Village",
          "South Parkdale",
          "South Riverdale",
          "St.Andrew-Windfields",
          "Steeles",
          "Stonegate-Queensway",
          "Tam O'Shanter-Sullivan",
          "Taylor-Massey",
          "The Beaches",
          "Thistletown-Beaumond Heights",
          "Thorncliffe Park",
          "Trinity-Bellwoods",
          "University",
          "Victoria Village",
          "Waterfront Communities-The Island",
          "West Hill",
          "West Humber-Clairville",
          "Westminster-Branson",
          "Weston",
          "Weston-Pellam Park",
          "Wexford/Maryvale",
          "Willowdale East",
          "Willowdale West",
          "Willowridge-Martingrove-Richview",
          "Woburn",
          "Woodbine Corridor",
          "Woodbine-Lumsden",
          "Wychwood",
          "Yonge-Eglinton",
          "Yonge-St.Clair",
          "York University Heights",
          "Yorkdale-Glen Park"
         ],
         "xaxis": "x4",
         "y": [
          200388,
          203047,
          259998,
          453850,
          371864,
          304749,
          257404,
          327644,
          343535,
          565304,
          225369,
          182957,
          265705,
          158483,
          310740,
          222086,
          927466,
          269386,
          213227,
          300213,
          219771,
          596077,
          249025,
          246750,
          215421,
          335119,
          253618,
          255142,
          283706,
          256205,
          241824,
          159187,
          264116,
          231741,
          278023,
          290457,
          483734,
          163419,
          163039,
          345676,
          241685,
          187993,
          126255,
          517466,
          726664,
          199043,
          235168,
          224425,
          224780,
          323536,
          354207,
          260555,
          240009,
          272896,
          213919,
          194295,
          423537,
          174793,
          274436,
          263247,
          196112,
          174518,
          267631,
          205572,
          512334,
          395115,
          204523,
          372579,
          461393,
          664712,
          489998,
          328211,
          234424,
          156076,
          275374,
          269751,
          209609,
          239078,
          173169,
          248778,
          159374,
          153829,
          411558,
          284459,
          247779,
          339987,
          279833,
          224801,
          427169,
          249993,
          181251,
          256556,
          268067,
          269410,
          378033,
          276239,
          246333,
          394235,
          226856,
          465254,
          238524,
          219337,
          210017,
          309221,
          664476,
          228625,
          335435,
          261923,
          200402,
          271880,
          276462,
          607040,
          228460,
          334433,
          215039,
          145464,
          404836,
          228368,
          155094,
          324732,
          375678,
          213950,
          228975,
          172947,
          208555,
          212241,
          187140,
          213749,
          211633,
          284984,
          283215,
          282087,
          181367,
          270607,
          224756,
          343877,
          491987,
          494098,
          185859,
          261784
         ],
         "yaxis": "y4"
        },
        {
         "alignmentgroup": "True",
         "hovertemplate": "year=2006<br>neighbourhood=%{x}<br>average_house_value=%{marker.color}<extra></extra>",
         "legendgroup": "",
         "marker": {
          "color": [
           293140,
           297031,
           380342,
           663921,
           543987,
           445807,
           376548,
           479299,
           502546,
           826963,
           329685,
           267642,
           388690,
           231839,
           454571,
           324882,
           1356757,
           394075,
           311922,
           439171,
           321496,
           871981,
           364291,
           360962,
           315133,
           490234,
           371009,
           373239,
           415024,
           374793,
           353756,
           232869,
           386366,
           339006,
           406710,
           424900,
           707638,
           239060,
           238505,
           505677,
           353553,
           275009,
           184694,
           756983,
           1063011,
           291172,
           344019,
           328303,
           328823,
           473289,
           518157,
           381156,
           351101,
           399210,
           312935,
           284227,
           619577,
           255698,
           401463,
           385094,
           286886,
           255296,
           391509,
           300725,
           749476,
           578001,
           299190,
           545034,
           674957,
           972384,
           716801,
           480129,
           342930,
           228318,
           402835,
           394610,
           306629,
           349739,
           253323,
           363929,
           233143,
           225031,
           602054,
           416125,
           362468,
           497355,
           409358,
           328854,
           624890,
           365706,
           265146,
           375307,
           392146,
           394111,
           553011,
           404100,
           360352,
           576713,
           331860,
           680604,
           348928,
           320860,
           307227,
           452349,
           972039,
           334448,
           490697,
           383158,
           293162,
           397724,
           404427,
           888017,
           334206,
           489230,
           314574,
           212794,
           592220,
           334072,
           226882,
           475039,
           549567,
           312980,
           334960,
           252998,
           305088,
           310480,
           273761,
           312685,
           309590,
           416893,
           414306,
           412655,
           265315,
           395861,
           328788,
           503046,
           719711,
           722799,
           271887,
           382954
          ],
          "coloraxis": "coloraxis",
          "pattern": {
           "shape": ""
          }
         },
         "name": "",
         "offsetgroup": "",
         "orientation": "v",
         "showlegend": false,
         "textposition": "auto",
         "type": "bar",
         "x": [
          "Agincourt North",
          "Agincourt South-Malvern West",
          "Alderwood",
          "Annex",
          "Banbury-Don Mills",
          "Bathurst Manor",
          "Bay Street Corridor",
          "Bayview Village",
          "Bayview Woods-Steeles",
          "Bedford Park-Nortown",
          "Beechborough-Greenbrook",
          "Bendale",
          "Birchcliffe-Cliffside",
          "Black Creek",
          "Blake-Jones",
          "Briar Hill-Belgravia",
          "Bridle Path-Sunnybrook-York Mills",
          "Broadview North",
          "Brookhaven-Amesbury",
          "Cabbagetown-South St.James Town",
          "Caledonia-Fairbank",
          "Casa Loma",
          "Centennial Scarborough",
          "Church-Yonge Corridor",
          "Clairlea-Birchmount",
          "Clanton Park",
          "Cliffcrest",
          "Corso Italia-Davenport",
          "Danforth",
          "Danforth-East York",
          "Don Valley Village",
          "Dorset Park",
          "Dovercourt-Wallace Emerson-Juncti",
          "Downsview-Roding-CFB",
          "Dufferin Grove",
          "East End-Danforth",
          "Edenbridge-Humber Valley",
          "Eglinton East",
          "Elms-Old Rexdale",
          "Englemount-Lawrence",
          "Eringate-Centennial-West Deane",
          "Etobicoke West Mall",
          "Flemingdon Park",
          "Forest Hill North",
          "Forest Hill South",
          "Glenfield-Jane Heights",
          "Greenwood-Coxwell",
          "Guildwood",
          "Henry Farm",
          "High Park North",
          "High Park-Swansea",
          "Highland Creek",
          "Hillcrest Village",
          "Humber Heights-Westmount",
          "Humber Summit",
          "Humbermede",
          "Humewood-Cedarvale",
          "Ionview",
          "Islington-City Centre West",
          "Junction Area",
          "Keelesdale-Eglinton West",
          "Kennedy Park",
          "Kensington-Chinatown",
          "Kingsview Village-The Westway",
          "Kingsway South",
          "L'Amoreaux",
          "Lambton Baby Point",
          "Lansing-Westgate",
          "Lawrence Park North",
          "Lawrence Park South",
          "Leaside-Bennington",
          "Little Portugal",
          "Long Branch",
          "Malvern",
          "Maple Leaf",
          "Markland Wood",
          "Milliken",
          "Mimico",
          "Morningside",
          "Moss Park",
          "Mount Dennis",
          "Mount Olive-Silverstone-Jamestown",
          "Mount Pleasant East",
          "Mount Pleasant West",
          "New Toronto",
          "Newtonbrook East",
          "Newtonbrook West",
          "Niagara",
          "North Riverdale",
          "North St.James Town",
          "O'Connor-Parkview",
          "Oakridge",
          "Oakwood Village",
          "Old East York",
          "Palmerston-Little Italy",
          "Parkwoods-Donalda",
          "Pelmo Park-Humberlea",
          "Playter Estates-Danforth",
          "Pleasant View",
          "Princess-Rosethorn",
          "Regent Park",
          "Rexdale-Kipling",
          "Rockcliffe-Smythe",
          "Roncesvalles",
          "Rosedale-Moore Park",
          "Rouge",
          "Runnymede-Bloor West Village",
          "Rustic",
          "Scarborough Village",
          "South Parkdale",
          "South Riverdale",
          "St.Andrew-Windfields",
          "Steeles",
          "Stonegate-Queensway",
          "Tam O'Shanter-Sullivan",
          "Taylor-Massey",
          "The Beaches",
          "Thistletown-Beaumond Heights",
          "Thorncliffe Park",
          "Trinity-Bellwoods",
          "University",
          "Victoria Village",
          "Waterfront Communities-The Island",
          "West Hill",
          "West Humber-Clairville",
          "Westminster-Branson",
          "Weston",
          "Weston-Pellam Park",
          "Wexford/Maryvale",
          "Willowdale East",
          "Willowdale West",
          "Willowridge-Martingrove-Richview",
          "Woburn",
          "Woodbine Corridor",
          "Woodbine-Lumsden",
          "Wychwood",
          "Yonge-Eglinton",
          "Yonge-St.Clair",
          "York University Heights",
          "Yorkdale-Glen Park"
         ],
         "xaxis": "x3",
         "y": [
          293140,
          297031,
          380342,
          663921,
          543987,
          445807,
          376548,
          479299,
          502546,
          826963,
          329685,
          267642,
          388690,
          231839,
          454571,
          324882,
          1356757,
          394075,
          311922,
          439171,
          321496,
          871981,
          364291,
          360962,
          315133,
          490234,
          371009,
          373239,
          415024,
          374793,
          353756,
          232869,
          386366,
          339006,
          406710,
          424900,
          707638,
          239060,
          238505,
          505677,
          353553,
          275009,
          184694,
          756983,
          1063011,
          291172,
          344019,
          328303,
          328823,
          473289,
          518157,
          381156,
          351101,
          399210,
          312935,
          284227,
          619577,
          255698,
          401463,
          385094,
          286886,
          255296,
          391509,
          300725,
          749476,
          578001,
          299190,
          545034,
          674957,
          972384,
          716801,
          480129,
          342930,
          228318,
          402835,
          394610,
          306629,
          349739,
          253323,
          363929,
          233143,
          225031,
          602054,
          416125,
          362468,
          497355,
          409358,
          328854,
          624890,
          365706,
          265146,
          375307,
          392146,
          394111,
          553011,
          404100,
          360352,
          576713,
          331860,
          680604,
          348928,
          320860,
          307227,
          452349,
          972039,
          334448,
          490697,
          383158,
          293162,
          397724,
          404427,
          888017,
          334206,
          489230,
          314574,
          212794,
          592220,
          334072,
          226882,
          475039,
          549567,
          312980,
          334960,
          252998,
          305088,
          310480,
          273761,
          312685,
          309590,
          416893,
          414306,
          412655,
          265315,
          395861,
          328788,
          503046,
          719711,
          722799,
          271887,
          382954
         ],
         "yaxis": "y3"
        },
        {
         "alignmentgroup": "True",
         "hovertemplate": "year=2011<br>neighbourhood=%{x}<br>average_house_value=%{marker.color}<extra></extra>",
         "legendgroup": "",
         "marker": {
          "color": [
           366667,
           371534,
           475742,
           830450,
           680433,
           557627,
           470996,
           599520,
           628597,
           1034387,
           412378,
           334773,
           486184,
           289990,
           568589,
           406371,
           1697067,
           492919,
           390160,
           549326,
           402135,
           1090696,
           455664,
           451500,
           394176,
           613197,
           464068,
           466857,
           519123,
           468801,
           442487,
           291278,
           483276,
           424038,
           508723,
           531476,
           885132,
           299023,
           298328,
           632514,
           442233,
           343988,
           231020,
           946854,
           1329642,
           364206,
           430308,
           410650,
           411300,
           592002,
           648124,
           476760,
           439166,
           499342,
           391427,
           355519,
           774983,
           319834,
           502160,
           481686,
           358844,
           319331,
           489709,
           376154,
           937464,
           722978,
           374234,
           681742,
           844253,
           1216283,
           896593,
           600558,
           428946,
           285586,
           503876,
           493588,
           383540,
           437462,
           316863,
           455212,
           291621,
           281475,
           753065,
           520500,
           453384,
           622104,
           512036,
           411339,
           781629,
           457435,
           331652,
           469444,
           490506,
           492964,
           691720,
           505459,
           450737,
           721368,
           415099,
           851317,
           436448,
           401340,
           384287,
           565810,
           1215852,
           418336,
           613776,
           479264,
           366694,
           497483,
           505868,
           1110755,
           418033,
           611942,
           393477,
           266168,
           740764,
           417866,
           283790,
           594191,
           687412,
           391483,
           418977,
           316456,
           381612,
           388356,
           342427,
           391115,
           387243,
           521460,
           518224,
           516160,
           331863,
           495153,
           411256,
           629223,
           900233,
           904096,
           340083,
           479009
          ],
          "coloraxis": "coloraxis",
          "pattern": {
           "shape": ""
          }
         },
         "name": "",
         "offsetgroup": "",
         "orientation": "v",
         "showlegend": false,
         "textposition": "auto",
         "type": "bar",
         "x": [
          "Agincourt North",
          "Agincourt South-Malvern West",
          "Alderwood",
          "Annex",
          "Banbury-Don Mills",
          "Bathurst Manor",
          "Bay Street Corridor",
          "Bayview Village",
          "Bayview Woods-Steeles",
          "Bedford Park-Nortown",
          "Beechborough-Greenbrook",
          "Bendale",
          "Birchcliffe-Cliffside",
          "Black Creek",
          "Blake-Jones",
          "Briar Hill-Belgravia",
          "Bridle Path-Sunnybrook-York Mills",
          "Broadview North",
          "Brookhaven-Amesbury",
          "Cabbagetown-South St.James Town",
          "Caledonia-Fairbank",
          "Casa Loma",
          "Centennial Scarborough",
          "Church-Yonge Corridor",
          "Clairlea-Birchmount",
          "Clanton Park",
          "Cliffcrest",
          "Corso Italia-Davenport",
          "Danforth",
          "Danforth-East York",
          "Don Valley Village",
          "Dorset Park",
          "Dovercourt-Wallace Emerson-Juncti",
          "Downsview-Roding-CFB",
          "Dufferin Grove",
          "East End-Danforth",
          "Edenbridge-Humber Valley",
          "Eglinton East",
          "Elms-Old Rexdale",
          "Englemount-Lawrence",
          "Eringate-Centennial-West Deane",
          "Etobicoke West Mall",
          "Flemingdon Park",
          "Forest Hill North",
          "Forest Hill South",
          "Glenfield-Jane Heights",
          "Greenwood-Coxwell",
          "Guildwood",
          "Henry Farm",
          "High Park North",
          "High Park-Swansea",
          "Highland Creek",
          "Hillcrest Village",
          "Humber Heights-Westmount",
          "Humber Summit",
          "Humbermede",
          "Humewood-Cedarvale",
          "Ionview",
          "Islington-City Centre West",
          "Junction Area",
          "Keelesdale-Eglinton West",
          "Kennedy Park",
          "Kensington-Chinatown",
          "Kingsview Village-The Westway",
          "Kingsway South",
          "L'Amoreaux",
          "Lambton Baby Point",
          "Lansing-Westgate",
          "Lawrence Park North",
          "Lawrence Park South",
          "Leaside-Bennington",
          "Little Portugal",
          "Long Branch",
          "Malvern",
          "Maple Leaf",
          "Markland Wood",
          "Milliken",
          "Mimico",
          "Morningside",
          "Moss Park",
          "Mount Dennis",
          "Mount Olive-Silverstone-Jamestown",
          "Mount Pleasant East",
          "Mount Pleasant West",
          "New Toronto",
          "Newtonbrook East",
          "Newtonbrook West",
          "Niagara",
          "North Riverdale",
          "North St.James Town",
          "O'Connor-Parkview",
          "Oakridge",
          "Oakwood Village",
          "Old East York",
          "Palmerston-Little Italy",
          "Parkwoods-Donalda",
          "Pelmo Park-Humberlea",
          "Playter Estates-Danforth",
          "Pleasant View",
          "Princess-Rosethorn",
          "Regent Park",
          "Rexdale-Kipling",
          "Rockcliffe-Smythe",
          "Roncesvalles",
          "Rosedale-Moore Park",
          "Rouge",
          "Runnymede-Bloor West Village",
          "Rustic",
          "Scarborough Village",
          "South Parkdale",
          "South Riverdale",
          "St.Andrew-Windfields",
          "Steeles",
          "Stonegate-Queensway",
          "Tam O'Shanter-Sullivan",
          "Taylor-Massey",
          "The Beaches",
          "Thistletown-Beaumond Heights",
          "Thorncliffe Park",
          "Trinity-Bellwoods",
          "University",
          "Victoria Village",
          "Waterfront Communities-The Island",
          "West Hill",
          "West Humber-Clairville",
          "Westminster-Branson",
          "Weston",
          "Weston-Pellam Park",
          "Wexford/Maryvale",
          "Willowdale East",
          "Willowdale West",
          "Willowridge-Martingrove-Richview",
          "Woburn",
          "Woodbine Corridor",
          "Woodbine-Lumsden",
          "Wychwood",
          "Yonge-Eglinton",
          "Yonge-St.Clair",
          "York University Heights",
          "Yorkdale-Glen Park"
         ],
         "xaxis": "x2",
         "y": [
          366667,
          371534,
          475742,
          830450,
          680433,
          557627,
          470996,
          599520,
          628597,
          1034387,
          412378,
          334773,
          486184,
          289990,
          568589,
          406371,
          1697067,
          492919,
          390160,
          549326,
          402135,
          1090696,
          455664,
          451500,
          394176,
          613197,
          464068,
          466857,
          519123,
          468801,
          442487,
          291278,
          483276,
          424038,
          508723,
          531476,
          885132,
          299023,
          298328,
          632514,
          442233,
          343988,
          231020,
          946854,
          1329642,
          364206,
          430308,
          410650,
          411300,
          592002,
          648124,
          476760,
          439166,
          499342,
          391427,
          355519,
          774983,
          319834,
          502160,
          481686,
          358844,
          319331,
          489709,
          376154,
          937464,
          722978,
          374234,
          681742,
          844253,
          1216283,
          896593,
          600558,
          428946,
          285586,
          503876,
          493588,
          383540,
          437462,
          316863,
          455212,
          291621,
          281475,
          753065,
          520500,
          453384,
          622104,
          512036,
          411339,
          781629,
          457435,
          331652,
          469444,
          490506,
          492964,
          691720,
          505459,
          450737,
          721368,
          415099,
          851317,
          436448,
          401340,
          384287,
          565810,
          1215852,
          418336,
          613776,
          479264,
          366694,
          497483,
          505868,
          1110755,
          418033,
          611942,
          393477,
          266168,
          740764,
          417866,
          283790,
          594191,
          687412,
          391483,
          418977,
          316456,
          381612,
          388356,
          342427,
          391115,
          387243,
          521460,
          518224,
          516160,
          331863,
          495153,
          411256,
          629223,
          900233,
          904096,
          340083,
          479009
         ],
         "yaxis": "y2"
        },
        {
         "alignmentgroup": "True",
         "hovertemplate": "year=2016<br>neighbourhood=%{x}<br>average_house_value=%{marker.color}<extra></extra>",
         "legendgroup": "",
         "marker": {
          "color": [
           459051,
           465144,
           595608,
           1039687,
           851872,
           698124,
           589666,
           750572,
           786976,
           1295007,
           516279,
           419121,
           608681,
           363055,
           711848,
           508759,
           2124653,
           617113,
           488463,
           687732,
           503455,
           1365503,
           570471,
           565258,
           493491,
           767695,
           580993,
           584484,
           649919,
           586918,
           553974,
           364667,
           605040,
           530877,
           636899,
           665384,
           1108146,
           374364,
           373493,
           791880,
           553656,
           430658,
           289227,
           1185419,
           1664653,
           455970,
           538727,
           514116,
           514929,
           741161,
           811423,
           596883,
           549816,
           625154,
           490049,
           445094,
           970245,
           400418,
           628682,
           603050,
           449257,
           399789,
           613094,
           470928,
           1173663,
           905137,
           468524,
           853511,
           1056967,
           1522732,
           1122495,
           751872,
           537021,
           357541,
           630831,
           617950,
           480175,
           547683,
           396699,
           569905,
           365097,
           352394,
           942804,
           651643,
           567617,
           778847,
           641047,
           514978,
           978565,
           572689,
           415214,
           587723,
           614092,
           617169,
           866003,
           632812,
           564303,
           903121,
           519686,
           1065811,
           546413,
           502460,
           481110,
           708369,
           1522193,
           523738,
           768420,
           600017,
           459085,
           622827,
           633325,
           1390616,
           523359,
           766124,
           492616,
           333230,
           927404,
           523150,
           355293,
           743901,
           860610,
           490119,
           524540,
           396189,
           477762,
           486204,
           428703,
           489659,
           484811,
           652845,
           648794,
           646210,
           415478,
           619910,
           514874,
           787760,
           1127052,
           1131888,
           425769,
           599698
          ],
          "coloraxis": "coloraxis",
          "pattern": {
           "shape": ""
          }
         },
         "name": "",
         "offsetgroup": "",
         "orientation": "v",
         "showlegend": false,
         "textposition": "auto",
         "type": "bar",
         "x": [
          "Agincourt North",
          "Agincourt South-Malvern West",
          "Alderwood",
          "Annex",
          "Banbury-Don Mills",
          "Bathurst Manor",
          "Bay Street Corridor",
          "Bayview Village",
          "Bayview Woods-Steeles",
          "Bedford Park-Nortown",
          "Beechborough-Greenbrook",
          "Bendale",
          "Birchcliffe-Cliffside",
          "Black Creek",
          "Blake-Jones",
          "Briar Hill-Belgravia",
          "Bridle Path-Sunnybrook-York Mills",
          "Broadview North",
          "Brookhaven-Amesbury",
          "Cabbagetown-South St.James Town",
          "Caledonia-Fairbank",
          "Casa Loma",
          "Centennial Scarborough",
          "Church-Yonge Corridor",
          "Clairlea-Birchmount",
          "Clanton Park",
          "Cliffcrest",
          "Corso Italia-Davenport",
          "Danforth",
          "Danforth-East York",
          "Don Valley Village",
          "Dorset Park",
          "Dovercourt-Wallace Emerson-Juncti",
          "Downsview-Roding-CFB",
          "Dufferin Grove",
          "East End-Danforth",
          "Edenbridge-Humber Valley",
          "Eglinton East",
          "Elms-Old Rexdale",
          "Englemount-Lawrence",
          "Eringate-Centennial-West Deane",
          "Etobicoke West Mall",
          "Flemingdon Park",
          "Forest Hill North",
          "Forest Hill South",
          "Glenfield-Jane Heights",
          "Greenwood-Coxwell",
          "Guildwood",
          "Henry Farm",
          "High Park North",
          "High Park-Swansea",
          "Highland Creek",
          "Hillcrest Village",
          "Humber Heights-Westmount",
          "Humber Summit",
          "Humbermede",
          "Humewood-Cedarvale",
          "Ionview",
          "Islington-City Centre West",
          "Junction Area",
          "Keelesdale-Eglinton West",
          "Kennedy Park",
          "Kensington-Chinatown",
          "Kingsview Village-The Westway",
          "Kingsway South",
          "L'Amoreaux",
          "Lambton Baby Point",
          "Lansing-Westgate",
          "Lawrence Park North",
          "Lawrence Park South",
          "Leaside-Bennington",
          "Little Portugal",
          "Long Branch",
          "Malvern",
          "Maple Leaf",
          "Markland Wood",
          "Milliken",
          "Mimico",
          "Morningside",
          "Moss Park",
          "Mount Dennis",
          "Mount Olive-Silverstone-Jamestown",
          "Mount Pleasant East",
          "Mount Pleasant West",
          "New Toronto",
          "Newtonbrook East",
          "Newtonbrook West",
          "Niagara",
          "North Riverdale",
          "North St.James Town",
          "O'Connor-Parkview",
          "Oakridge",
          "Oakwood Village",
          "Old East York",
          "Palmerston-Little Italy",
          "Parkwoods-Donalda",
          "Pelmo Park-Humberlea",
          "Playter Estates-Danforth",
          "Pleasant View",
          "Princess-Rosethorn",
          "Regent Park",
          "Rexdale-Kipling",
          "Rockcliffe-Smythe",
          "Roncesvalles",
          "Rosedale-Moore Park",
          "Rouge",
          "Runnymede-Bloor West Village",
          "Rustic",
          "Scarborough Village",
          "South Parkdale",
          "South Riverdale",
          "St.Andrew-Windfields",
          "Steeles",
          "Stonegate-Queensway",
          "Tam O'Shanter-Sullivan",
          "Taylor-Massey",
          "The Beaches",
          "Thistletown-Beaumond Heights",
          "Thorncliffe Park",
          "Trinity-Bellwoods",
          "University",
          "Victoria Village",
          "Waterfront Communities-The Island",
          "West Hill",
          "West Humber-Clairville",
          "Westminster-Branson",
          "Weston",
          "Weston-Pellam Park",
          "Wexford/Maryvale",
          "Willowdale East",
          "Willowdale West",
          "Willowridge-Martingrove-Richview",
          "Woburn",
          "Woodbine Corridor",
          "Woodbine-Lumsden",
          "Wychwood",
          "Yonge-Eglinton",
          "Yonge-St.Clair",
          "York University Heights",
          "Yorkdale-Glen Park"
         ],
         "xaxis": "x",
         "y": [
          459051,
          465144,
          595608,
          1039687,
          851872,
          698124,
          589666,
          750572,
          786976,
          1295007,
          516279,
          419121,
          608681,
          363055,
          711848,
          508759,
          2124653,
          617113,
          488463,
          687732,
          503455,
          1365503,
          570471,
          565258,
          493491,
          767695,
          580993,
          584484,
          649919,
          586918,
          553974,
          364667,
          605040,
          530877,
          636899,
          665384,
          1108146,
          374364,
          373493,
          791880,
          553656,
          430658,
          289227,
          1185419,
          1664653,
          455970,
          538727,
          514116,
          514929,
          741161,
          811423,
          596883,
          549816,
          625154,
          490049,
          445094,
          970245,
          400418,
          628682,
          603050,
          449257,
          399789,
          613094,
          470928,
          1173663,
          905137,
          468524,
          853511,
          1056967,
          1522732,
          1122495,
          751872,
          537021,
          357541,
          630831,
          617950,
          480175,
          547683,
          396699,
          569905,
          365097,
          352394,
          942804,
          651643,
          567617,
          778847,
          641047,
          514978,
          978565,
          572689,
          415214,
          587723,
          614092,
          617169,
          866003,
          632812,
          564303,
          903121,
          519686,
          1065811,
          546413,
          502460,
          481110,
          708369,
          1522193,
          523738,
          768420,
          600017,
          459085,
          622827,
          633325,
          1390616,
          523359,
          766124,
          492616,
          333230,
          927404,
          523150,
          355293,
          743901,
          860610,
          490119,
          524540,
          396189,
          477762,
          486204,
          428703,
          489659,
          484811,
          652845,
          648794,
          646210,
          415478,
          619910,
          514874,
          787760,
          1127052,
          1131888,
          425769,
          599698
         ],
         "yaxis": "y"
        }
       ],
       "layout": {
        "annotations": [
         {
          "font": {},
          "showarrow": false,
          "text": "year=2016",
          "textangle": 90,
          "x": 0.98,
          "xanchor": "left",
          "xref": "paper",
          "y": 0.11375,
          "yanchor": "middle",
          "yref": "paper"
         },
         {
          "font": {},
          "showarrow": false,
          "text": "year=2011",
          "textangle": 90,
          "x": 0.98,
          "xanchor": "left",
          "xref": "paper",
          "y": 0.37124999999999997,
          "yanchor": "middle",
          "yref": "paper"
         },
         {
          "font": {},
          "showarrow": false,
          "text": "year=2006",
          "textangle": 90,
          "x": 0.98,
          "xanchor": "left",
          "xref": "paper",
          "y": 0.62875,
          "yanchor": "middle",
          "yref": "paper"
         },
         {
          "font": {},
          "showarrow": false,
          "text": "year=2001",
          "textangle": 90,
          "x": 0.98,
          "xanchor": "left",
          "xref": "paper",
          "y": 0.88625,
          "yanchor": "middle",
          "yref": "paper"
         }
        ],
        "autosize": true,
        "barmode": "relative",
        "coloraxis": {
         "colorbar": {
          "title": {
           "text": "average_house_value"
          }
         },
         "colorscale": [
          [
           0,
           "#0d0887"
          ],
          [
           0.1111111111111111,
           "#46039f"
          ],
          [
           0.2222222222222222,
           "#7201a8"
          ],
          [
           0.3333333333333333,
           "#9c179e"
          ],
          [
           0.4444444444444444,
           "#bd3786"
          ],
          [
           0.5555555555555556,
           "#d8576b"
          ],
          [
           0.6666666666666666,
           "#ed7953"
          ],
          [
           0.7777777777777778,
           "#fb9f3a"
          ],
          [
           0.8888888888888888,
           "#fdca26"
          ],
          [
           1,
           "#f0f921"
          ]
         ]
        },
        "legend": {
         "tracegroupgap": 0
        },
        "template": {
         "data": {
          "bar": [
           {
            "error_x": {
             "color": "#2a3f5f"
            },
            "error_y": {
             "color": "#2a3f5f"
            },
            "marker": {
             "line": {
              "color": "#E5ECF6",
              "width": 0.5
             },
             "pattern": {
              "fillmode": "overlay",
              "size": 10,
              "solidity": 0.2
             }
            },
            "type": "bar"
           }
          ],
          "barpolar": [
           {
            "marker": {
             "line": {
              "color": "#E5ECF6",
              "width": 0.5
             },
             "pattern": {
              "fillmode": "overlay",
              "size": 10,
              "solidity": 0.2
             }
            },
            "type": "barpolar"
           }
          ],
          "carpet": [
           {
            "aaxis": {
             "endlinecolor": "#2a3f5f",
             "gridcolor": "white",
             "linecolor": "white",
             "minorgridcolor": "white",
             "startlinecolor": "#2a3f5f"
            },
            "baxis": {
             "endlinecolor": "#2a3f5f",
             "gridcolor": "white",
             "linecolor": "white",
             "minorgridcolor": "white",
             "startlinecolor": "#2a3f5f"
            },
            "type": "carpet"
           }
          ],
          "choropleth": [
           {
            "colorbar": {
             "outlinewidth": 0,
             "ticks": ""
            },
            "type": "choropleth"
           }
          ],
          "contour": [
           {
            "colorbar": {
             "outlinewidth": 0,
             "ticks": ""
            },
            "colorscale": [
             [
              0,
              "#0d0887"
             ],
             [
              0.1111111111111111,
              "#46039f"
             ],
             [
              0.2222222222222222,
              "#7201a8"
             ],
             [
              0.3333333333333333,
              "#9c179e"
             ],
             [
              0.4444444444444444,
              "#bd3786"
             ],
             [
              0.5555555555555556,
              "#d8576b"
             ],
             [
              0.6666666666666666,
              "#ed7953"
             ],
             [
              0.7777777777777778,
              "#fb9f3a"
             ],
             [
              0.8888888888888888,
              "#fdca26"
             ],
             [
              1,
              "#f0f921"
             ]
            ],
            "type": "contour"
           }
          ],
          "contourcarpet": [
           {
            "colorbar": {
             "outlinewidth": 0,
             "ticks": ""
            },
            "type": "contourcarpet"
           }
          ],
          "heatmap": [
           {
            "colorbar": {
             "outlinewidth": 0,
             "ticks": ""
            },
            "colorscale": [
             [
              0,
              "#0d0887"
             ],
             [
              0.1111111111111111,
              "#46039f"
             ],
             [
              0.2222222222222222,
              "#7201a8"
             ],
             [
              0.3333333333333333,
              "#9c179e"
             ],
             [
              0.4444444444444444,
              "#bd3786"
             ],
             [
              0.5555555555555556,
              "#d8576b"
             ],
             [
              0.6666666666666666,
              "#ed7953"
             ],
             [
              0.7777777777777778,
              "#fb9f3a"
             ],
             [
              0.8888888888888888,
              "#fdca26"
             ],
             [
              1,
              "#f0f921"
             ]
            ],
            "type": "heatmap"
           }
          ],
          "heatmapgl": [
           {
            "colorbar": {
             "outlinewidth": 0,
             "ticks": ""
            },
            "colorscale": [
             [
              0,
              "#0d0887"
             ],
             [
              0.1111111111111111,
              "#46039f"
             ],
             [
              0.2222222222222222,
              "#7201a8"
             ],
             [
              0.3333333333333333,
              "#9c179e"
             ],
             [
              0.4444444444444444,
              "#bd3786"
             ],
             [
              0.5555555555555556,
              "#d8576b"
             ],
             [
              0.6666666666666666,
              "#ed7953"
             ],
             [
              0.7777777777777778,
              "#fb9f3a"
             ],
             [
              0.8888888888888888,
              "#fdca26"
             ],
             [
              1,
              "#f0f921"
             ]
            ],
            "type": "heatmapgl"
           }
          ],
          "histogram": [
           {
            "marker": {
             "pattern": {
              "fillmode": "overlay",
              "size": 10,
              "solidity": 0.2
             }
            },
            "type": "histogram"
           }
          ],
          "histogram2d": [
           {
            "colorbar": {
             "outlinewidth": 0,
             "ticks": ""
            },
            "colorscale": [
             [
              0,
              "#0d0887"
             ],
             [
              0.1111111111111111,
              "#46039f"
             ],
             [
              0.2222222222222222,
              "#7201a8"
             ],
             [
              0.3333333333333333,
              "#9c179e"
             ],
             [
              0.4444444444444444,
              "#bd3786"
             ],
             [
              0.5555555555555556,
              "#d8576b"
             ],
             [
              0.6666666666666666,
              "#ed7953"
             ],
             [
              0.7777777777777778,
              "#fb9f3a"
             ],
             [
              0.8888888888888888,
              "#fdca26"
             ],
             [
              1,
              "#f0f921"
             ]
            ],
            "type": "histogram2d"
           }
          ],
          "histogram2dcontour": [
           {
            "colorbar": {
             "outlinewidth": 0,
             "ticks": ""
            },
            "colorscale": [
             [
              0,
              "#0d0887"
             ],
             [
              0.1111111111111111,
              "#46039f"
             ],
             [
              0.2222222222222222,
              "#7201a8"
             ],
             [
              0.3333333333333333,
              "#9c179e"
             ],
             [
              0.4444444444444444,
              "#bd3786"
             ],
             [
              0.5555555555555556,
              "#d8576b"
             ],
             [
              0.6666666666666666,
              "#ed7953"
             ],
             [
              0.7777777777777778,
              "#fb9f3a"
             ],
             [
              0.8888888888888888,
              "#fdca26"
             ],
             [
              1,
              "#f0f921"
             ]
            ],
            "type": "histogram2dcontour"
           }
          ],
          "mesh3d": [
           {
            "colorbar": {
             "outlinewidth": 0,
             "ticks": ""
            },
            "type": "mesh3d"
           }
          ],
          "parcoords": [
           {
            "line": {
             "colorbar": {
              "outlinewidth": 0,
              "ticks": ""
             }
            },
            "type": "parcoords"
           }
          ],
          "pie": [
           {
            "automargin": true,
            "type": "pie"
           }
          ],
          "scatter": [
           {
            "marker": {
             "colorbar": {
              "outlinewidth": 0,
              "ticks": ""
             }
            },
            "type": "scatter"
           }
          ],
          "scatter3d": [
           {
            "line": {
             "colorbar": {
              "outlinewidth": 0,
              "ticks": ""
             }
            },
            "marker": {
             "colorbar": {
              "outlinewidth": 0,
              "ticks": ""
             }
            },
            "type": "scatter3d"
           }
          ],
          "scattercarpet": [
           {
            "marker": {
             "colorbar": {
              "outlinewidth": 0,
              "ticks": ""
             }
            },
            "type": "scattercarpet"
           }
          ],
          "scattergeo": [
           {
            "marker": {
             "colorbar": {
              "outlinewidth": 0,
              "ticks": ""
             }
            },
            "type": "scattergeo"
           }
          ],
          "scattergl": [
           {
            "marker": {
             "colorbar": {
              "outlinewidth": 0,
              "ticks": ""
             }
            },
            "type": "scattergl"
           }
          ],
          "scattermapbox": [
           {
            "marker": {
             "colorbar": {
              "outlinewidth": 0,
              "ticks": ""
             }
            },
            "type": "scattermapbox"
           }
          ],
          "scatterpolar": [
           {
            "marker": {
             "colorbar": {
              "outlinewidth": 0,
              "ticks": ""
             }
            },
            "type": "scatterpolar"
           }
          ],
          "scatterpolargl": [
           {
            "marker": {
             "colorbar": {
              "outlinewidth": 0,
              "ticks": ""
             }
            },
            "type": "scatterpolargl"
           }
          ],
          "scatterternary": [
           {
            "marker": {
             "colorbar": {
              "outlinewidth": 0,
              "ticks": ""
             }
            },
            "type": "scatterternary"
           }
          ],
          "surface": [
           {
            "colorbar": {
             "outlinewidth": 0,
             "ticks": ""
            },
            "colorscale": [
             [
              0,
              "#0d0887"
             ],
             [
              0.1111111111111111,
              "#46039f"
             ],
             [
              0.2222222222222222,
              "#7201a8"
             ],
             [
              0.3333333333333333,
              "#9c179e"
             ],
             [
              0.4444444444444444,
              "#bd3786"
             ],
             [
              0.5555555555555556,
              "#d8576b"
             ],
             [
              0.6666666666666666,
              "#ed7953"
             ],
             [
              0.7777777777777778,
              "#fb9f3a"
             ],
             [
              0.8888888888888888,
              "#fdca26"
             ],
             [
              1,
              "#f0f921"
             ]
            ],
            "type": "surface"
           }
          ],
          "table": [
           {
            "cells": {
             "fill": {
              "color": "#EBF0F8"
             },
             "line": {
              "color": "white"
             }
            },
            "header": {
             "fill": {
              "color": "#C8D4E3"
             },
             "line": {
              "color": "white"
             }
            },
            "type": "table"
           }
          ]
         },
         "layout": {
          "annotationdefaults": {
           "arrowcolor": "#2a3f5f",
           "arrowhead": 0,
           "arrowwidth": 1
          },
          "autotypenumbers": "strict",
          "coloraxis": {
           "colorbar": {
            "outlinewidth": 0,
            "ticks": ""
           }
          },
          "colorscale": {
           "diverging": [
            [
             0,
             "#8e0152"
            ],
            [
             0.1,
             "#c51b7d"
            ],
            [
             0.2,
             "#de77ae"
            ],
            [
             0.3,
             "#f1b6da"
            ],
            [
             0.4,
             "#fde0ef"
            ],
            [
             0.5,
             "#f7f7f7"
            ],
            [
             0.6,
             "#e6f5d0"
            ],
            [
             0.7,
             "#b8e186"
            ],
            [
             0.8,
             "#7fbc41"
            ],
            [
             0.9,
             "#4d9221"
            ],
            [
             1,
             "#276419"
            ]
           ],
           "sequential": [
            [
             0,
             "#0d0887"
            ],
            [
             0.1111111111111111,
             "#46039f"
            ],
            [
             0.2222222222222222,
             "#7201a8"
            ],
            [
             0.3333333333333333,
             "#9c179e"
            ],
            [
             0.4444444444444444,
             "#bd3786"
            ],
            [
             0.5555555555555556,
             "#d8576b"
            ],
            [
             0.6666666666666666,
             "#ed7953"
            ],
            [
             0.7777777777777778,
             "#fb9f3a"
            ],
            [
             0.8888888888888888,
             "#fdca26"
            ],
            [
             1,
             "#f0f921"
            ]
           ],
           "sequentialminus": [
            [
             0,
             "#0d0887"
            ],
            [
             0.1111111111111111,
             "#46039f"
            ],
            [
             0.2222222222222222,
             "#7201a8"
            ],
            [
             0.3333333333333333,
             "#9c179e"
            ],
            [
             0.4444444444444444,
             "#bd3786"
            ],
            [
             0.5555555555555556,
             "#d8576b"
            ],
            [
             0.6666666666666666,
             "#ed7953"
            ],
            [
             0.7777777777777778,
             "#fb9f3a"
            ],
            [
             0.8888888888888888,
             "#fdca26"
            ],
            [
             1,
             "#f0f921"
            ]
           ]
          },
          "colorway": [
           "#636efa",
           "#EF553B",
           "#00cc96",
           "#ab63fa",
           "#FFA15A",
           "#19d3f3",
           "#FF6692",
           "#B6E880",
           "#FF97FF",
           "#FECB52"
          ],
          "font": {
           "color": "#2a3f5f"
          },
          "geo": {
           "bgcolor": "white",
           "lakecolor": "white",
           "landcolor": "#E5ECF6",
           "showlakes": true,
           "showland": true,
           "subunitcolor": "white"
          },
          "hoverlabel": {
           "align": "left"
          },
          "hovermode": "closest",
          "mapbox": {
           "style": "light"
          },
          "paper_bgcolor": "white",
          "plot_bgcolor": "#E5ECF6",
          "polar": {
           "angularaxis": {
            "gridcolor": "white",
            "linecolor": "white",
            "ticks": ""
           },
           "bgcolor": "#E5ECF6",
           "radialaxis": {
            "gridcolor": "white",
            "linecolor": "white",
            "ticks": ""
           }
          },
          "scene": {
           "xaxis": {
            "backgroundcolor": "#E5ECF6",
            "gridcolor": "white",
            "gridwidth": 2,
            "linecolor": "white",
            "showbackground": true,
            "ticks": "",
            "zerolinecolor": "white"
           },
           "yaxis": {
            "backgroundcolor": "#E5ECF6",
            "gridcolor": "white",
            "gridwidth": 2,
            "linecolor": "white",
            "showbackground": true,
            "ticks": "",
            "zerolinecolor": "white"
           },
           "zaxis": {
            "backgroundcolor": "#E5ECF6",
            "gridcolor": "white",
            "gridwidth": 2,
            "linecolor": "white",
            "showbackground": true,
            "ticks": "",
            "zerolinecolor": "white"
           }
          },
          "shapedefaults": {
           "line": {
            "color": "#2a3f5f"
           }
          },
          "ternary": {
           "aaxis": {
            "gridcolor": "white",
            "linecolor": "white",
            "ticks": ""
           },
           "baxis": {
            "gridcolor": "white",
            "linecolor": "white",
            "ticks": ""
           },
           "bgcolor": "#E5ECF6",
           "caxis": {
            "gridcolor": "white",
            "linecolor": "white",
            "ticks": ""
           }
          },
          "title": {
           "x": 0.05
          },
          "xaxis": {
           "automargin": true,
           "gridcolor": "white",
           "linecolor": "white",
           "ticks": "",
           "title": {
            "standoff": 15
           },
           "zerolinecolor": "white",
           "zerolinewidth": 2
          },
          "yaxis": {
           "automargin": true,
           "gridcolor": "white",
           "linecolor": "white",
           "ticks": "",
           "title": {
            "standoff": 15
           },
           "zerolinecolor": "white",
           "zerolinewidth": 2
          }
         }
        },
        "title": {
         "text": "Average House Values in Toronto Per Neighbourhood"
        },
        "xaxis": {
         "anchor": "y",
         "autorange": true,
         "domain": [
          0,
          0.98
         ],
         "range": [
          -0.5,
          139.5
         ],
         "title": {
          "text": "neighbourhood"
         },
         "type": "category"
        },
        "xaxis2": {
         "anchor": "y2",
         "autorange": true,
         "domain": [
          0,
          0.98
         ],
         "matches": "x",
         "range": [
          -0.5,
          139.5
         ],
         "showticklabels": false,
         "type": "category"
        },
        "xaxis3": {
         "anchor": "y3",
         "autorange": true,
         "domain": [
          0,
          0.98
         ],
         "matches": "x",
         "range": [
          -0.5,
          139.5
         ],
         "showticklabels": false,
         "type": "category"
        },
        "xaxis4": {
         "anchor": "y4",
         "autorange": true,
         "domain": [
          0,
          0.98
         ],
         "matches": "x",
         "range": [
          -0.5,
          139.5
         ],
         "showticklabels": false,
         "type": "category"
        },
        "yaxis": {
         "anchor": "x",
         "autorange": true,
         "domain": [
          0,
          0.2275
         ],
         "range": [
          0,
          2236476.8421052634
         ],
         "title": {
          "text": "average_house_value"
         },
         "type": "linear"
        },
        "yaxis2": {
         "anchor": "x2",
         "autorange": true,
         "domain": [
          0.2575,
          0.485
         ],
         "matches": "y",
         "range": [
          0,
          2236476.8421052634
         ],
         "title": {
          "text": "average_house_value"
         },
         "type": "linear"
        },
        "yaxis3": {
         "anchor": "x3",
         "autorange": true,
         "domain": [
          0.515,
          0.7425
         ],
         "matches": "y",
         "range": [
          0,
          2236476.8421052634
         ],
         "title": {
          "text": "average_house_value"
         },
         "type": "linear"
        },
        "yaxis4": {
         "anchor": "x4",
         "autorange": true,
         "domain": [
          0.7725,
          1
         ],
         "matches": "y",
         "range": [
          0,
          2236476.8421052634
         ],
         "title": {
          "text": "average_house_value"
         },
         "type": "linear"
        }
       }
      },
      "image/png": "[encoded data removed]",
      "text/html": [
       "<div>                            <div id=\"83495522-b55c-48d5-a7b5-20826503a28e\" class=\"plotly-graph-div\" style=\"height:525px; width:100%;\"></div>            <script type=\"text/javascript\">                require([\"plotly\"], function(Plotly) {                    window.PLOTLYENV=window.PLOTLYENV || {};                                    if (document.getElementById(\"83495522-b55c-48d5-a7b5-20826503a28e\")) {                    Plotly.newPlot(                        \"83495522-b55c-48d5-a7b5-20826503a28e\",                        [{\"alignmentgroup\":\"True\",\"hovertemplate\":\"year=2001<br>neighbourhood=%{x}<br>average_house_value=%{marker.color}<extra></extra>\",\"legendgroup\":\"\",\"marker\":{\"color\":[200388.0,203047.0,259998.0,453850.0,371864.0,304749.0,257404.0,327644.0,343535.0,565304.0,225369.0,182957.0,265705.0,158483.0,310740.0,222086.0,927466.0,269386.0,213227.0,300213.0,219771.0,596077.0,249025.0,246750.0,215421.0,335119.0,253618.0,255142.0,283706.0,256205.0,241824.0,159187.0,264116.0,231741.0,278023.0,290457.0,483734.0,163419.0,163039.0,345676.0,241685.0,187993.0,126255.0,517466.0,726664.0,199043.0,235168.0,224425.0,224780.0,323536.0,354207.0,260555.0,240009.0,272896.0,213919.0,194295.0,423537.0,174793.0,274436.0,263247.0,196112.0,174518.0,267631.0,205572.0,512334.0,395115.0,204523.0,372579.0,461393.0,664712.0,489998.0,328211.0,234424.0,156076.0,275374.0,269751.0,209609.0,239078.0,173169.0,248778.0,159374.0,153829.0,411558.0,284459.0,247779.0,339987.0,279833.0,224801.0,427169.0,249993.0,181251.0,256556.0,268067.0,269410.0,378033.0,276239.0,246333.0,394235.0,226856.0,465254.0,238524.0,219337.0,210017.0,309221.0,664476.0,228625.0,335435.0,261923.0,200402.0,271880.0,276462.0,607040.0,228460.0,334433.0,215039.0,145464.0,404836.0,228368.0,155094.0,324732.0,375678.0,213950.0,228975.0,172947.0,208555.0,212241.0,187140.0,213749.0,211633.0,284984.0,283215.0,282087.0,181367.0,270607.0,224756.0,343877.0,491987.0,494098.0,185859.0,261784.0],\"coloraxis\":\"coloraxis\",\"pattern\":{\"shape\":\"\"}},\"name\":\"\",\"offsetgroup\":\"\",\"orientation\":\"v\",\"showlegend\":false,\"textposition\":\"auto\",\"x\":[\"Agincourt North\",\"Agincourt South-Malvern West\",\"Alderwood\",\"Annex\",\"Banbury-Don Mills\",\"Bathurst Manor\",\"Bay Street Corridor\",\"Bayview Village\",\"Bayview Woods-Steeles\",\"Bedford Park-Nortown\",\"Beechborough-Greenbrook\",\"Bendale\",\"Birchcliffe-Cliffside\",\"Black Creek\",\"Blake-Jones\",\"Briar Hill-Belgravia\",\"Bridle Path-Sunnybrook-York Mills\",\"Broadview North\",\"Brookhaven-Amesbury\",\"Cabbagetown-South St.James Town\",\"Caledonia-Fairbank\",\"Casa Loma\",\"Centennial Scarborough\",\"Church-Yonge Corridor\",\"Clairlea-Birchmount\",\"Clanton Park\",\"Cliffcrest\",\"Corso Italia-Davenport\",\"Danforth\",\"Danforth-East York\",\"Don Valley Village\",\"Dorset Park\",\"Dovercourt-Wallace Emerson-Juncti\",\"Downsview-Roding-CFB\",\"Dufferin Grove\",\"East End-Danforth\",\"Edenbridge-Humber Valley\",\"Eglinton East\",\"Elms-Old Rexdale\",\"Englemount-Lawrence\",\"Eringate-Centennial-West Deane\",\"Etobicoke West Mall\",\"Flemingdon Park\",\"Forest Hill North\",\"Forest Hill South\",\"Glenfield-Jane Heights\",\"Greenwood-Coxwell\",\"Guildwood\",\"Henry Farm\",\"High Park North\",\"High Park-Swansea\",\"Highland Creek\",\"Hillcrest Village\",\"Humber Heights-Westmount\",\"Humber Summit\",\"Humbermede\",\"Humewood-Cedarvale\",\"Ionview\",\"Islington-City Centre West\",\"Junction Area\",\"Keelesdale-Eglinton West\",\"Kennedy Park\",\"Kensington-Chinatown\",\"Kingsview Village-The Westway\",\"Kingsway South\",\"L'Amoreaux\",\"Lambton Baby Point\",\"Lansing-Westgate\",\"Lawrence Park North\",\"Lawrence Park South\",\"Leaside-Bennington\",\"Little Portugal\",\"Long Branch\",\"Malvern\",\"Maple Leaf\",\"Markland Wood\",\"Milliken\",\"Mimico\",\"Morningside\",\"Moss Park\",\"Mount Dennis\",\"Mount Olive-Silverstone-Jamestown\",\"Mount Pleasant East\",\"Mount Pleasant West\",\"New Toronto\",\"Newtonbrook East\",\"Newtonbrook West\",\"Niagara\",\"North Riverdale\",\"North St.James Town\",\"O'Connor-Parkview\",\"Oakridge\",\"Oakwood Village\",\"Old East York\",\"Palmerston-Little Italy\",\"Parkwoods-Donalda\",\"Pelmo Park-Humberlea\",\"Playter Estates-Danforth\",\"Pleasant View\",\"Princess-Rosethorn\",\"Regent Park\",\"Rexdale-Kipling\",\"Rockcliffe-Smythe\",\"Roncesvalles\",\"Rosedale-Moore Park\",\"Rouge\",\"Runnymede-Bloor West Village\",\"Rustic\",\"Scarborough Village\",\"South Parkdale\",\"South Riverdale\",\"St.Andrew-Windfields\",\"Steeles\",\"Stonegate-Queensway\",\"Tam O'Shanter-Sullivan\",\"Taylor-Massey\",\"The Beaches\",\"Thistletown-Beaumond Heights\",\"Thorncliffe Park\",\"Trinity-Bellwoods\",\"University\",\"Victoria Village\",\"Waterfront Communities-The Island\",\"West Hill\",\"West Humber-Clairville\",\"Westminster-Branson\",\"Weston\",\"Weston-Pellam Park\",\"Wexford/Maryvale\",\"Willowdale East\",\"Willowdale West\",\"Willowridge-Martingrove-Richview\",\"Woburn\",\"Woodbine Corridor\",\"Woodbine-Lumsden\",\"Wychwood\",\"Yonge-Eglinton\",\"Yonge-St.Clair\",\"York University Heights\",\"Yorkdale-Glen Park\"],\"xaxis\":\"x4\",\"y\":[200388.0,203047.0,259998.0,453850.0,371864.0,304749.0,257404.0,327644.0,343535.0,565304.0,225369.0,182957.0,265705.0,158483.0,310740.0,222086.0,927466.0,269386.0,213227.0,300213.0,219771.0,596077.0,249025.0,246750.0,215421.0,335119.0,253618.0,255142.0,283706.0,256205.0,241824.0,159187.0,264116.0,231741.0,278023.0,290457.0,483734.0,163419.0,163039.0,345676.0,241685.0,187993.0,126255.0,517466.0,726664.0,199043.0,235168.0,224425.0,224780.0,323536.0,354207.0,260555.0,240009.0,272896.0,213919.0,194295.0,423537.0,174793.0,274436.0,263247.0,196112.0,174518.0,267631.0,205572.0,512334.0,395115.0,204523.0,372579.0,461393.0,664712.0,489998.0,328211.0,234424.0,156076.0,275374.0,269751.0,209609.0,239078.0,173169.0,248778.0,159374.0,153829.0,411558.0,284459.0,247779.0,339987.0,279833.0,224801.0,427169.0,249993.0,181251.0,256556.0,268067.0,269410.0,378033.0,276239.0,246333.0,394235.0,226856.0,465254.0,238524.0,219337.0,210017.0,309221.0,664476.0,228625.0,335435.0,261923.0,200402.0,271880.0,276462.0,607040.0,228460.0,334433.0,215039.0,145464.0,404836.0,228368.0,155094.0,324732.0,375678.0,213950.0,228975.0,172947.0,208555.0,212241.0,187140.0,213749.0,211633.0,284984.0,283215.0,282087.0,181367.0,270607.0,224756.0,343877.0,491987.0,494098.0,185859.0,261784.0],\"yaxis\":\"y4\",\"type\":\"bar\"},{\"alignmentgroup\":\"True\",\"hovertemplate\":\"year=2006<br>neighbourhood=%{x}<br>average_house_value=%{marker.color}<extra></extra>\",\"legendgroup\":\"\",\"marker\":{\"color\":[293140.0,297031.0,380342.0,663921.0,543987.0,445807.0,376548.0,479299.0,502546.0,826963.0,329685.0,267642.0,388690.0,231839.0,454571.0,324882.0,1356757.0,394075.0,311922.0,439171.0,321496.0,871981.0,364291.0,360962.0,315133.0,490234.0,371009.0,373239.0,415024.0,374793.0,353756.0,232869.0,386366.0,339006.0,406710.0,424900.0,707638.0,239060.0,238505.0,505677.0,353553.0,275009.0,184694.0,756983.0,1063011.0,291172.0,344019.0,328303.0,328823.0,473289.0,518157.0,381156.0,351101.0,399210.0,312935.0,284227.0,619577.0,255698.0,401463.0,385094.0,286886.0,255296.0,391509.0,300725.0,749476.0,578001.0,299190.0,545034.0,674957.0,972384.0,716801.0,480129.0,342930.0,228318.0,402835.0,394610.0,306629.0,349739.0,253323.0,363929.0,233143.0,225031.0,602054.0,416125.0,362468.0,497355.0,409358.0,328854.0,624890.0,365706.0,265146.0,375307.0,392146.0,394111.0,553011.0,404100.0,360352.0,576713.0,331860.0,680604.0,348928.0,320860.0,307227.0,452349.0,972039.0,334448.0,490697.0,383158.0,293162.0,397724.0,404427.0,888017.0,334206.0,489230.0,314574.0,212794.0,592220.0,334072.0,226882.0,475039.0,549567.0,312980.0,334960.0,252998.0,305088.0,310480.0,273761.0,312685.0,309590.0,416893.0,414306.0,412655.0,265315.0,395861.0,328788.0,503046.0,719711.0,722799.0,271887.0,382954.0],\"coloraxis\":\"coloraxis\",\"pattern\":{\"shape\":\"\"}},\"name\":\"\",\"offsetgroup\":\"\",\"orientation\":\"v\",\"showlegend\":false,\"textposition\":\"auto\",\"x\":[\"Agincourt North\",\"Agincourt South-Malvern West\",\"Alderwood\",\"Annex\",\"Banbury-Don Mills\",\"Bathurst Manor\",\"Bay Street Corridor\",\"Bayview Village\",\"Bayview Woods-Steeles\",\"Bedford Park-Nortown\",\"Beechborough-Greenbrook\",\"Bendale\",\"Birchcliffe-Cliffside\",\"Black Creek\",\"Blake-Jones\",\"Briar Hill-Belgravia\",\"Bridle Path-Sunnybrook-York Mills\",\"Broadview North\",\"Brookhaven-Amesbury\",\"Cabbagetown-South St.James Town\",\"Caledonia-Fairbank\",\"Casa Loma\",\"Centennial Scarborough\",\"Church-Yonge Corridor\",\"Clairlea-Birchmount\",\"Clanton Park\",\"Cliffcrest\",\"Corso Italia-Davenport\",\"Danforth\",\"Danforth-East York\",\"Don Valley Village\",\"Dorset Park\",\"Dovercourt-Wallace Emerson-Juncti\",\"Downsview-Roding-CFB\",\"Dufferin Grove\",\"East End-Danforth\",\"Edenbridge-Humber Valley\",\"Eglinton East\",\"Elms-Old Rexdale\",\"Englemount-Lawrence\",\"Eringate-Centennial-West Deane\",\"Etobicoke West Mall\",\"Flemingdon Park\",\"Forest Hill North\",\"Forest Hill South\",\"Glenfield-Jane Heights\",\"Greenwood-Coxwell\",\"Guildwood\",\"Henry Farm\",\"High Park North\",\"High Park-Swansea\",\"Highland Creek\",\"Hillcrest Village\",\"Humber Heights-Westmount\",\"Humber Summit\",\"Humbermede\",\"Humewood-Cedarvale\",\"Ionview\",\"Islington-City Centre West\",\"Junction Area\",\"Keelesdale-Eglinton West\",\"Kennedy Park\",\"Kensington-Chinatown\",\"Kingsview Village-The Westway\",\"Kingsway South\",\"L'Amoreaux\",\"Lambton Baby Point\",\"Lansing-Westgate\",\"Lawrence Park North\",\"Lawrence Park South\",\"Leaside-Bennington\",\"Little Portugal\",\"Long Branch\",\"Malvern\",\"Maple Leaf\",\"Markland Wood\",\"Milliken\",\"Mimico\",\"Morningside\",\"Moss Park\",\"Mount Dennis\",\"Mount Olive-Silverstone-Jamestown\",\"Mount Pleasant East\",\"Mount Pleasant West\",\"New Toronto\",\"Newtonbrook East\",\"Newtonbrook West\",\"Niagara\",\"North Riverdale\",\"North St.James Town\",\"O'Connor-Parkview\",\"Oakridge\",\"Oakwood Village\",\"Old East York\",\"Palmerston-Little Italy\",\"Parkwoods-Donalda\",\"Pelmo Park-Humberlea\",\"Playter Estates-Danforth\",\"Pleasant View\",\"Princess-Rosethorn\",\"Regent Park\",\"Rexdale-Kipling\",\"Rockcliffe-Smythe\",\"Roncesvalles\",\"Rosedale-Moore Park\",\"Rouge\",\"Runnymede-Bloor West Village\",\"Rustic\",\"Scarborough Village\",\"South Parkdale\",\"South Riverdale\",\"St.Andrew-Windfields\",\"Steeles\",\"Stonegate-Queensway\",\"Tam O'Shanter-Sullivan\",\"Taylor-Massey\",\"The Beaches\",\"Thistletown-Beaumond Heights\",\"Thorncliffe Park\",\"Trinity-Bellwoods\",\"University\",\"Victoria Village\",\"Waterfront Communities-The Island\",\"West Hill\",\"West Humber-Clairville\",\"Westminster-Branson\",\"Weston\",\"Weston-Pellam Park\",\"Wexford/Maryvale\",\"Willowdale East\",\"Willowdale West\",\"Willowridge-Martingrove-Richview\",\"Woburn\",\"Woodbine Corridor\",\"Woodbine-Lumsden\",\"Wychwood\",\"Yonge-Eglinton\",\"Yonge-St.Clair\",\"York University Heights\",\"Yorkdale-Glen Park\"],\"xaxis\":\"x3\",\"y\":[293140.0,297031.0,380342.0,663921.0,543987.0,445807.0,376548.0,479299.0,502546.0,826963.0,329685.0,267642.0,388690.0,231839.0,454571.0,324882.0,1356757.0,394075.0,311922.0,439171.0,321496.0,871981.0,364291.0,360962.0,315133.0,490234.0,371009.0,373239.0,415024.0,374793.0,353756.0,232869.0,386366.0,339006.0,406710.0,424900.0,707638.0,239060.0,238505.0,505677.0,353553.0,275009.0,184694.0,756983.0,1063011.0,291172.0,344019.0,328303.0,328823.0,473289.0,518157.0,381156.0,351101.0,399210.0,312935.0,284227.0,619577.0,255698.0,401463.0,385094.0,286886.0,255296.0,391509.0,300725.0,749476.0,578001.0,299190.0,545034.0,674957.0,972384.0,716801.0,480129.0,342930.0,228318.0,402835.0,394610.0,306629.0,349739.0,253323.0,363929.0,233143.0,225031.0,602054.0,416125.0,362468.0,497355.0,409358.0,328854.0,624890.0,365706.0,265146.0,375307.0,392146.0,394111.0,553011.0,404100.0,360352.0,576713.0,331860.0,680604.0,348928.0,320860.0,307227.0,452349.0,972039.0,334448.0,490697.0,383158.0,293162.0,397724.0,404427.0,888017.0,334206.0,489230.0,314574.0,212794.0,592220.0,334072.0,226882.0,475039.0,549567.0,312980.0,334960.0,252998.0,305088.0,310480.0,273761.0,312685.0,309590.0,416893.0,414306.0,412655.0,265315.0,395861.0,328788.0,503046.0,719711.0,722799.0,271887.0,382954.0],\"yaxis\":\"y3\",\"type\":\"bar\"},{\"alignmentgroup\":\"True\",\"hovertemplate\":\"year=2011<br>neighbourhood=%{x}<br>average_house_value=%{marker.color}<extra></extra>\",\"legendgroup\":\"\",\"marker\":{\"color\":[366667.0,371534.0,475742.0,830450.0,680433.0,557627.0,470996.0,599520.0,628597.0,1034387.0,412378.0,334773.0,486184.0,289990.0,568589.0,406371.0,1697067.0,492919.0,390160.0,549326.0,402135.0,1090696.0,455664.0,451500.0,394176.0,613197.0,464068.0,466857.0,519123.0,468801.0,442487.0,291278.0,483276.0,424038.0,508723.0,531476.0,885132.0,299023.0,298328.0,632514.0,442233.0,343988.0,231020.0,946854.0,1329642.0,364206.0,430308.0,410650.0,411300.0,592002.0,648124.0,476760.0,439166.0,499342.0,391427.0,355519.0,774983.0,319834.0,502160.0,481686.0,358844.0,319331.0,489709.0,376154.0,937464.0,722978.0,374234.0,681742.0,844253.0,1216283.0,896593.0,600558.0,428946.0,285586.0,503876.0,493588.0,383540.0,437462.0,316863.0,455212.0,291621.0,281475.0,753065.0,520500.0,453384.0,622104.0,512036.0,411339.0,781629.0,457435.0,331652.0,469444.0,490506.0,492964.0,691720.0,505459.0,450737.0,721368.0,415099.0,851317.0,436448.0,401340.0,384287.0,565810.0,1215852.0,418336.0,613776.0,479264.0,366694.0,497483.0,505868.0,1110755.0,418033.0,611942.0,393477.0,266168.0,740764.0,417866.0,283790.0,594191.0,687412.0,391483.0,418977.0,316456.0,381612.0,388356.0,342427.0,391115.0,387243.0,521460.0,518224.0,516160.0,331863.0,495153.0,411256.0,629223.0,900233.0,904096.0,340083.0,479009.0],\"coloraxis\":\"coloraxis\",\"pattern\":{\"shape\":\"\"}},\"name\":\"\",\"offsetgroup\":\"\",\"orientation\":\"v\",\"showlegend\":false,\"textposition\":\"auto\",\"x\":[\"Agincourt North\",\"Agincourt South-Malvern West\",\"Alderwood\",\"Annex\",\"Banbury-Don Mills\",\"Bathurst Manor\",\"Bay Street Corridor\",\"Bayview Village\",\"Bayview Woods-Steeles\",\"Bedford Park-Nortown\",\"Beechborough-Greenbrook\",\"Bendale\",\"Birchcliffe-Cliffside\",\"Black Creek\",\"Blake-Jones\",\"Briar Hill-Belgravia\",\"Bridle Path-Sunnybrook-York Mills\",\"Broadview North\",\"Brookhaven-Amesbury\",\"Cabbagetown-South St.James Town\",\"Caledonia-Fairbank\",\"Casa Loma\",\"Centennial Scarborough\",\"Church-Yonge Corridor\",\"Clairlea-Birchmount\",\"Clanton Park\",\"Cliffcrest\",\"Corso Italia-Davenport\",\"Danforth\",\"Danforth-East York\",\"Don Valley Village\",\"Dorset Park\",\"Dovercourt-Wallace Emerson-Juncti\",\"Downsview-Roding-CFB\",\"Dufferin Grove\",\"East End-Danforth\",\"Edenbridge-Humber Valley\",\"Eglinton East\",\"Elms-Old Rexdale\",\"Englemount-Lawrence\",\"Eringate-Centennial-West Deane\",\"Etobicoke West Mall\",\"Flemingdon Park\",\"Forest Hill North\",\"Forest Hill South\",\"Glenfield-Jane Heights\",\"Greenwood-Coxwell\",\"Guildwood\",\"Henry Farm\",\"High Park North\",\"High Park-Swansea\",\"Highland Creek\",\"Hillcrest Village\",\"Humber Heights-Westmount\",\"Humber Summit\",\"Humbermede\",\"Humewood-Cedarvale\",\"Ionview\",\"Islington-City Centre West\",\"Junction Area\",\"Keelesdale-Eglinton West\",\"Kennedy Park\",\"Kensington-Chinatown\",\"Kingsview Village-The Westway\",\"Kingsway South\",\"L'Amoreaux\",\"Lambton Baby Point\",\"Lansing-Westgate\",\"Lawrence Park North\",\"Lawrence Park South\",\"Leaside-Bennington\",\"Little Portugal\",\"Long Branch\",\"Malvern\",\"Maple Leaf\",\"Markland Wood\",\"Milliken\",\"Mimico\",\"Morningside\",\"Moss Park\",\"Mount Dennis\",\"Mount Olive-Silverstone-Jamestown\",\"Mount Pleasant East\",\"Mount Pleasant West\",\"New Toronto\",\"Newtonbrook East\",\"Newtonbrook West\",\"Niagara\",\"North Riverdale\",\"North St.James Town\",\"O'Connor-Parkview\",\"Oakridge\",\"Oakwood Village\",\"Old East York\",\"Palmerston-Little Italy\",\"Parkwoods-Donalda\",\"Pelmo Park-Humberlea\",\"Playter Estates-Danforth\",\"Pleasant View\",\"Princess-Rosethorn\",\"Regent Park\",\"Rexdale-Kipling\",\"Rockcliffe-Smythe\",\"Roncesvalles\",\"Rosedale-Moore Park\",\"Rouge\",\"Runnymede-Bloor West Village\",\"Rustic\",\"Scarborough Village\",\"South Parkdale\",\"South Riverdale\",\"St.Andrew-Windfields\",\"Steeles\",\"Stonegate-Queensway\",\"Tam O'Shanter-Sullivan\",\"Taylor-Massey\",\"The Beaches\",\"Thistletown-Beaumond Heights\",\"Thorncliffe Park\",\"Trinity-Bellwoods\",\"University\",\"Victoria Village\",\"Waterfront Communities-The Island\",\"West Hill\",\"West Humber-Clairville\",\"Westminster-Branson\",\"Weston\",\"Weston-Pellam Park\",\"Wexford/Maryvale\",\"Willowdale East\",\"Willowdale West\",\"Willowridge-Martingrove-Richview\",\"Woburn\",\"Woodbine Corridor\",\"Woodbine-Lumsden\",\"Wychwood\",\"Yonge-Eglinton\",\"Yonge-St.Clair\",\"York University Heights\",\"Yorkdale-Glen Park\"],\"xaxis\":\"x2\",\"y\":[366667.0,371534.0,475742.0,830450.0,680433.0,557627.0,470996.0,599520.0,628597.0,1034387.0,412378.0,334773.0,486184.0,289990.0,568589.0,406371.0,1697067.0,492919.0,390160.0,549326.0,402135.0,1090696.0,455664.0,451500.0,394176.0,613197.0,464068.0,466857.0,519123.0,468801.0,442487.0,291278.0,483276.0,424038.0,508723.0,531476.0,885132.0,299023.0,298328.0,632514.0,442233.0,343988.0,231020.0,946854.0,1329642.0,364206.0,430308.0,410650.0,411300.0,592002.0,648124.0,476760.0,439166.0,499342.0,391427.0,355519.0,774983.0,319834.0,502160.0,481686.0,358844.0,319331.0,489709.0,376154.0,937464.0,722978.0,374234.0,681742.0,844253.0,1216283.0,896593.0,600558.0,428946.0,285586.0,503876.0,493588.0,383540.0,437462.0,316863.0,455212.0,291621.0,281475.0,753065.0,520500.0,453384.0,622104.0,512036.0,411339.0,781629.0,457435.0,331652.0,469444.0,490506.0,492964.0,691720.0,505459.0,450737.0,721368.0,415099.0,851317.0,436448.0,401340.0,384287.0,565810.0,1215852.0,418336.0,613776.0,479264.0,366694.0,497483.0,505868.0,1110755.0,418033.0,611942.0,393477.0,266168.0,740764.0,417866.0,283790.0,594191.0,687412.0,391483.0,418977.0,316456.0,381612.0,388356.0,342427.0,391115.0,387243.0,521460.0,518224.0,516160.0,331863.0,495153.0,411256.0,629223.0,900233.0,904096.0,340083.0,479009.0],\"yaxis\":\"y2\",\"type\":\"bar\"},{\"alignmentgroup\":\"True\",\"hovertemplate\":\"year=2016<br>neighbourhood=%{x}<br>average_house_value=%{marker.color}<extra></extra>\",\"legendgroup\":\"\",\"marker\":{\"color\":[459051.0,465144.0,595608.0,1039687.0,851872.0,698124.0,589666.0,750572.0,786976.0,1295007.0,516279.0,419121.0,608681.0,363055.0,711848.0,508759.0,2124653.0,617113.0,488463.0,687732.0,503455.0,1365503.0,570471.0,565258.0,493491.0,767695.0,580993.0,584484.0,649919.0,586918.0,553974.0,364667.0,605040.0,530877.0,636899.0,665384.0,1108146.0,374364.0,373493.0,791880.0,553656.0,430658.0,289227.0,1185419.0,1664653.0,455970.0,538727.0,514116.0,514929.0,741161.0,811423.0,596883.0,549816.0,625154.0,490049.0,445094.0,970245.0,400418.0,628682.0,603050.0,449257.0,399789.0,613094.0,470928.0,1173663.0,905137.0,468524.0,853511.0,1056967.0,1522732.0,1122495.0,751872.0,537021.0,357541.0,630831.0,617950.0,480175.0,547683.0,396699.0,569905.0,365097.0,352394.0,942804.0,651643.0,567617.0,778847.0,641047.0,514978.0,978565.0,572689.0,415214.0,587723.0,614092.0,617169.0,866003.0,632812.0,564303.0,903121.0,519686.0,1065811.0,546413.0,502460.0,481110.0,708369.0,1522193.0,523738.0,768420.0,600017.0,459085.0,622827.0,633325.0,1390616.0,523359.0,766124.0,492616.0,333230.0,927404.0,523150.0,355293.0,743901.0,860610.0,490119.0,524540.0,396189.0,477762.0,486204.0,428703.0,489659.0,484811.0,652845.0,648794.0,646210.0,415478.0,619910.0,514874.0,787760.0,1127052.0,1131888.0,425769.0,599698.0],\"coloraxis\":\"coloraxis\",\"pattern\":{\"shape\":\"\"}},\"name\":\"\",\"offsetgroup\":\"\",\"orientation\":\"v\",\"showlegend\":false,\"textposition\":\"auto\",\"x\":[\"Agincourt North\",\"Agincourt South-Malvern West\",\"Alderwood\",\"Annex\",\"Banbury-Don Mills\",\"Bathurst Manor\",\"Bay Street Corridor\",\"Bayview Village\",\"Bayview Woods-Steeles\",\"Bedford Park-Nortown\",\"Beechborough-Greenbrook\",\"Bendale\",\"Birchcliffe-Cliffside\",\"Black Creek\",\"Blake-Jones\",\"Briar Hill-Belgravia\",\"Bridle Path-Sunnybrook-York Mills\",\"Broadview North\",\"Brookhaven-Amesbury\",\"Cabbagetown-South St.James Town\",\"Caledonia-Fairbank\",\"Casa Loma\",\"Centennial Scarborough\",\"Church-Yonge Corridor\",\"Clairlea-Birchmount\",\"Clanton Park\",\"Cliffcrest\",\"Corso Italia-Davenport\",\"Danforth\",\"Danforth-East York\",\"Don Valley Village\",\"Dorset Park\",\"Dovercourt-Wallace Emerson-Juncti\",\"Downsview-Roding-CFB\",\"Dufferin Grove\",\"East End-Danforth\",\"Edenbridge-Humber Valley\",\"Eglinton East\",\"Elms-Old Rexdale\",\"Englemount-Lawrence\",\"Eringate-Centennial-West Deane\",\"Etobicoke West Mall\",\"Flemingdon Park\",\"Forest Hill North\",\"Forest Hill South\",\"Glenfield-Jane Heights\",\"Greenwood-Coxwell\",\"Guildwood\",\"Henry Farm\",\"High Park North\",\"High Park-Swansea\",\"Highland Creek\",\"Hillcrest Village\",\"Humber Heights-Westmount\",\"Humber Summit\",\"Humbermede\",\"Humewood-Cedarvale\",\"Ionview\",\"Islington-City Centre West\",\"Junction Area\",\"Keelesdale-Eglinton West\",\"Kennedy Park\",\"Kensington-Chinatown\",\"Kingsview Village-The Westway\",\"Kingsway South\",\"L'Amoreaux\",\"Lambton Baby Point\",\"Lansing-Westgate\",\"Lawrence Park North\",\"Lawrence Park South\",\"Leaside-Bennington\",\"Little Portugal\",\"Long Branch\",\"Malvern\",\"Maple Leaf\",\"Markland Wood\",\"Milliken\",\"Mimico\",\"Morningside\",\"Moss Park\",\"Mount Dennis\",\"Mount Olive-Silverstone-Jamestown\",\"Mount Pleasant East\",\"Mount Pleasant West\",\"New Toronto\",\"Newtonbrook East\",\"Newtonbrook West\",\"Niagara\",\"North Riverdale\",\"North St.James Town\",\"O'Connor-Parkview\",\"Oakridge\",\"Oakwood Village\",\"Old East York\",\"Palmerston-Little Italy\",\"Parkwoods-Donalda\",\"Pelmo Park-Humberlea\",\"Playter Estates-Danforth\",\"Pleasant View\",\"Princess-Rosethorn\",\"Regent Park\",\"Rexdale-Kipling\",\"Rockcliffe-Smythe\",\"Roncesvalles\",\"Rosedale-Moore Park\",\"Rouge\",\"Runnymede-Bloor West Village\",\"Rustic\",\"Scarborough Village\",\"South Parkdale\",\"South Riverdale\",\"St.Andrew-Windfields\",\"Steeles\",\"Stonegate-Queensway\",\"Tam O'Shanter-Sullivan\",\"Taylor-Massey\",\"The Beaches\",\"Thistletown-Beaumond Heights\",\"Thorncliffe Park\",\"Trinity-Bellwoods\",\"University\",\"Victoria Village\",\"Waterfront Communities-The Island\",\"West Hill\",\"West Humber-Clairville\",\"Westminster-Branson\",\"Weston\",\"Weston-Pellam Park\",\"Wexford/Maryvale\",\"Willowdale East\",\"Willowdale West\",\"Willowridge-Martingrove-Richview\",\"Woburn\",\"Woodbine Corridor\",\"Woodbine-Lumsden\",\"Wychwood\",\"Yonge-Eglinton\",\"Yonge-St.Clair\",\"York University Heights\",\"Yorkdale-Glen Park\"],\"xaxis\":\"x\",\"y\":[459051.0,465144.0,595608.0,1039687.0,851872.0,698124.0,589666.0,750572.0,786976.0,1295007.0,516279.0,419121.0,608681.0,363055.0,711848.0,508759.0,2124653.0,617113.0,488463.0,687732.0,503455.0,1365503.0,570471.0,565258.0,493491.0,767695.0,580993.0,584484.0,649919.0,586918.0,553974.0,364667.0,605040.0,530877.0,636899.0,665384.0,1108146.0,374364.0,373493.0,791880.0,553656.0,430658.0,289227.0,1185419.0,1664653.0,455970.0,538727.0,514116.0,514929.0,741161.0,811423.0,596883.0,549816.0,625154.0,490049.0,445094.0,970245.0,400418.0,628682.0,603050.0,449257.0,399789.0,613094.0,470928.0,1173663.0,905137.0,468524.0,853511.0,1056967.0,1522732.0,1122495.0,751872.0,537021.0,357541.0,630831.0,617950.0,480175.0,547683.0,396699.0,569905.0,365097.0,352394.0,942804.0,651643.0,567617.0,778847.0,641047.0,514978.0,978565.0,572689.0,415214.0,587723.0,614092.0,617169.0,866003.0,632812.0,564303.0,903121.0,519686.0,1065811.0,546413.0,502460.0,481110.0,708369.0,1522193.0,523738.0,768420.0,600017.0,459085.0,622827.0,633325.0,1390616.0,523359.0,766124.0,492616.0,333230.0,927404.0,523150.0,355293.0,743901.0,860610.0,490119.0,524540.0,396189.0,477762.0,486204.0,428703.0,489659.0,484811.0,652845.0,648794.0,646210.0,415478.0,619910.0,514874.0,787760.0,1127052.0,1131888.0,425769.0,599698.0],\"yaxis\":\"y\",\"type\":\"bar\"}],                        {\"template\":{\"data\":{\"bar\":[{\"error_x\":{\"color\":\"#2a3f5f\"},\"error_y\":{\"color\":\"#2a3f5f\"},\"marker\":{\"line\":{\"color\":\"#E5ECF6\",\"width\":0.5},\"pattern\":{\"fillmode\":\"overlay\",\"size\":10,\"solidity\":0.2}},\"type\":\"bar\"}],\"barpolar\":[{\"marker\":{\"line\":{\"color\":\"#E5ECF6\",\"width\":0.5},\"pattern\":{\"fillmode\":\"overlay\",\"size\":10,\"solidity\":0.2}},\"type\":\"barpolar\"}],\"carpet\":[{\"aaxis\":{\"endlinecolor\":\"#2a3f5f\",\"gridcolor\":\"white\",\"linecolor\":\"white\",\"minorgridcolor\":\"white\",\"startlinecolor\":\"#2a3f5f\"},\"baxis\":{\"endlinecolor\":\"#2a3f5f\",\"gridcolor\":\"white\",\"linecolor\":\"white\",\"minorgridcolor\":\"white\",\"startlinecolor\":\"#2a3f5f\"},\"type\":\"carpet\"}],\"choropleth\":[{\"colorbar\":{\"outlinewidth\":0,\"ticks\":\"\"},\"type\":\"choropleth\"}],\"contour\":[{\"colorbar\":{\"outlinewidth\":0,\"ticks\":\"\"},\"colorscale\":[[0.0,\"#0d0887\"],[0.1111111111111111,\"#46039f\"],[0.2222222222222222,\"#7201a8\"],[0.3333333333333333,\"#9c179e\"],[0.4444444444444444,\"#bd3786\"],[0.5555555555555556,\"#d8576b\"],[0.6666666666666666,\"#ed7953\"],[0.7777777777777778,\"#fb9f3a\"],[0.8888888888888888,\"#fdca26\"],[1.0,\"#f0f921\"]],\"type\":\"contour\"}],\"contourcarpet\":[{\"colorbar\":{\"outlinewidth\":0,\"ticks\":\"\"},\"type\":\"contourcarpet\"}],\"heatmap\":[{\"colorbar\":{\"outlinewidth\":0,\"ticks\":\"\"},\"colorscale\":[[0.0,\"#0d0887\"],[0.1111111111111111,\"#46039f\"],[0.2222222222222222,\"#7201a8\"],[0.3333333333333333,\"#9c179e\"],[0.4444444444444444,\"#bd3786\"],[0.5555555555555556,\"#d8576b\"],[0.6666666666666666,\"#ed7953\"],[0.7777777777777778,\"#fb9f3a\"],[0.8888888888888888,\"#fdca26\"],[1.0,\"#f0f921\"]],\"type\":\"heatmap\"}],\"heatmapgl\":[{\"colorbar\":{\"outlinewidth\":0,\"ticks\":\"\"},\"colorscale\":[[0.0,\"#0d0887\"],[0.1111111111111111,\"#46039f\"],[0.2222222222222222,\"#7201a8\"],[0.3333333333333333,\"#9c179e\"],[0.4444444444444444,\"#bd3786\"],[0.5555555555555556,\"#d8576b\"],[0.6666666666666666,\"#ed7953\"],[0.7777777777777778,\"#fb9f3a\"],[0.8888888888888888,\"#fdca26\"],[1.0,\"#f0f921\"]],\"type\":\"heatmapgl\"}],\"histogram\":[{\"marker\":{\"pattern\":{\"fillmode\":\"overlay\",\"size\":10,\"solidity\":0.2}},\"type\":\"histogram\"}],\"histogram2d\":[{\"colorbar\":{\"outlinewidth\":0,\"ticks\":\"\"},\"colorscale\":[[0.0,\"#0d0887\"],[0.1111111111111111,\"#46039f\"],[0.2222222222222222,\"#7201a8\"],[0.3333333333333333,\"#9c179e\"],[0.4444444444444444,\"#bd3786\"],[0.5555555555555556,\"#d8576b\"],[0.6666666666666666,\"#ed7953\"],[0.7777777777777778,\"#fb9f3a\"],[0.8888888888888888,\"#fdca26\"],[1.0,\"#f0f921\"]],\"type\":\"histogram2d\"}],\"histogram2dcontour\":[{\"colorbar\":{\"outlinewidth\":0,\"ticks\":\"\"},\"colorscale\":[[0.0,\"#0d0887\"],[0.1111111111111111,\"#46039f\"],[0.2222222222222222,\"#7201a8\"],[0.3333333333333333,\"#9c179e\"],[0.4444444444444444,\"#bd3786\"],[0.5555555555555556,\"#d8576b\"],[0.6666666666666666,\"#ed7953\"],[0.7777777777777778,\"#fb9f3a\"],[0.8888888888888888,\"#fdca26\"],[1.0,\"#f0f921\"]],\"type\":\"histogram2dcontour\"}],\"mesh3d\":[{\"colorbar\":{\"outlinewidth\":0,\"ticks\":\"\"},\"type\":\"mesh3d\"}],\"parcoords\":[{\"line\":{\"colorbar\":{\"outlinewidth\":0,\"ticks\":\"\"}},\"type\":\"parcoords\"}],\"pie\":[{\"automargin\":true,\"type\":\"pie\"}],\"scatter\":[{\"marker\":{\"colorbar\":{\"outlinewidth\":0,\"ticks\":\"\"}},\"type\":\"scatter\"}],\"scatter3d\":[{\"line\":{\"colorbar\":{\"outlinewidth\":0,\"ticks\":\"\"}},\"marker\":{\"colorbar\":{\"outlinewidth\":0,\"ticks\":\"\"}},\"type\":\"scatter3d\"}],\"scattercarpet\":[{\"marker\":{\"colorbar\":{\"outlinewidth\":0,\"ticks\":\"\"}},\"type\":\"scattercarpet\"}],\"scattergeo\":[{\"marker\":{\"colorbar\":{\"outlinewidth\":0,\"ticks\":\"\"}},\"type\":\"scattergeo\"}],\"scattergl\":[{\"marker\":{\"colorbar\":{\"outlinewidth\":0,\"ticks\":\"\"}},\"type\":\"scattergl\"}],\"scattermapbox\":[{\"marker\":{\"colorbar\":{\"outlinewidth\":0,\"ticks\":\"\"}},\"type\":\"scattermapbox\"}],\"scatterpolar\":[{\"marker\":{\"colorbar\":{\"outlinewidth\":0,\"ticks\":\"\"}},\"type\":\"scatterpolar\"}],\"scatterpolargl\":[{\"marker\":{\"colorbar\":{\"outlinewidth\":0,\"ticks\":\"\"}},\"type\":\"scatterpolargl\"}],\"scatterternary\":[{\"marker\":{\"colorbar\":{\"outlinewidth\":0,\"ticks\":\"\"}},\"type\":\"scatterternary\"}],\"surface\":[{\"colorbar\":{\"outlinewidth\":0,\"ticks\":\"\"},\"colorscale\":[[0.0,\"#0d0887\"],[0.1111111111111111,\"#46039f\"],[0.2222222222222222,\"#7201a8\"],[0.3333333333333333,\"#9c179e\"],[0.4444444444444444,\"#bd3786\"],[0.5555555555555556,\"#d8576b\"],[0.6666666666666666,\"#ed7953\"],[0.7777777777777778,\"#fb9f3a\"],[0.8888888888888888,\"#fdca26\"],[1.0,\"#f0f921\"]],\"type\":\"surface\"}],\"table\":[{\"cells\":{\"fill\":{\"color\":\"#EBF0F8\"},\"line\":{\"color\":\"white\"}},\"header\":{\"fill\":{\"color\":\"#C8D4E3\"},\"line\":{\"color\":\"white\"}},\"type\":\"table\"}]},\"layout\":{\"annotationdefaults\":{\"arrowcolor\":\"#2a3f5f\",\"arrowhead\":0,\"arrowwidth\":1},\"autotypenumbers\":\"strict\",\"coloraxis\":{\"colorbar\":{\"outlinewidth\":0,\"ticks\":\"\"}},\"colorscale\":{\"diverging\":[[0,\"#8e0152\"],[0.1,\"#c51b7d\"],[0.2,\"#de77ae\"],[0.3,\"#f1b6da\"],[0.4,\"#fde0ef\"],[0.5,\"#f7f7f7\"],[0.6,\"#e6f5d0\"],[0.7,\"#b8e186\"],[0.8,\"#7fbc41\"],[0.9,\"#4d9221\"],[1,\"#276419\"]],\"sequential\":[[0.0,\"#0d0887\"],[0.1111111111111111,\"#46039f\"],[0.2222222222222222,\"#7201a8\"],[0.3333333333333333,\"#9c179e\"],[0.4444444444444444,\"#bd3786\"],[0.5555555555555556,\"#d8576b\"],[0.6666666666666666,\"#ed7953\"],[0.7777777777777778,\"#fb9f3a\"],[0.8888888888888888,\"#fdca26\"],[1.0,\"#f0f921\"]],\"sequentialminus\":[[0.0,\"#0d0887\"],[0.1111111111111111,\"#46039f\"],[0.2222222222222222,\"#7201a8\"],[0.3333333333333333,\"#9c179e\"],[0.4444444444444444,\"#bd3786\"],[0.5555555555555556,\"#d8576b\"],[0.6666666666666666,\"#ed7953\"],[0.7777777777777778,\"#fb9f3a\"],[0.8888888888888888,\"#fdca26\"],[1.0,\"#f0f921\"]]},\"colorway\":[\"#636efa\",\"#EF553B\",\"#00cc96\",\"#ab63fa\",\"#FFA15A\",\"#19d3f3\",\"#FF6692\",\"#B6E880\",\"#FF97FF\",\"#FECB52\"],\"font\":{\"color\":\"#2a3f5f\"},\"geo\":{\"bgcolor\":\"white\",\"lakecolor\":\"white\",\"landcolor\":\"#E5ECF6\",\"showlakes\":true,\"showland\":true,\"subunitcolor\":\"white\"},\"hoverlabel\":{\"align\":\"left\"},\"hovermode\":\"closest\",\"mapbox\":{\"style\":\"light\"},\"paper_bgcolor\":\"white\",\"plot_bgcolor\":\"#E5ECF6\",\"polar\":{\"angularaxis\":{\"gridcolor\":\"white\",\"linecolor\":\"white\",\"ticks\":\"\"},\"bgcolor\":\"#E5ECF6\",\"radialaxis\":{\"gridcolor\":\"white\",\"linecolor\":\"white\",\"ticks\":\"\"}},\"scene\":{\"xaxis\":{\"backgroundcolor\":\"#E5ECF6\",\"gridcolor\":\"white\",\"gridwidth\":2,\"linecolor\":\"white\",\"showbackground\":true,\"ticks\":\"\",\"zerolinecolor\":\"white\"},\"yaxis\":{\"backgroundcolor\":\"#E5ECF6\",\"gridcolor\":\"white\",\"gridwidth\":2,\"linecolor\":\"white\",\"showbackground\":true,\"ticks\":\"\",\"zerolinecolor\":\"white\"},\"zaxis\":{\"backgroundcolor\":\"#E5ECF6\",\"gridcolor\":\"white\",\"gridwidth\":2,\"linecolor\":\"white\",\"showbackground\":true,\"ticks\":\"\",\"zerolinecolor\":\"white\"}},\"shapedefaults\":{\"line\":{\"color\":\"#2a3f5f\"}},\"ternary\":{\"aaxis\":{\"gridcolor\":\"white\",\"linecolor\":\"white\",\"ticks\":\"\"},\"baxis\":{\"gridcolor\":\"white\",\"linecolor\":\"white\",\"ticks\":\"\"},\"bgcolor\":\"#E5ECF6\",\"caxis\":{\"gridcolor\":\"white\",\"linecolor\":\"white\",\"ticks\":\"\"}},\"title\":{\"x\":0.05},\"xaxis\":{\"automargin\":true,\"gridcolor\":\"white\",\"linecolor\":\"white\",\"ticks\":\"\",\"title\":{\"standoff\":15},\"zerolinecolor\":\"white\",\"zerolinewidth\":2},\"yaxis\":{\"automargin\":true,\"gridcolor\":\"white\",\"linecolor\":\"white\",\"ticks\":\"\",\"title\":{\"standoff\":15},\"zerolinecolor\":\"white\",\"zerolinewidth\":2}}},\"xaxis\":{\"anchor\":\"y\",\"domain\":[0.0,0.98],\"title\":{\"text\":\"neighbourhood\"}},\"yaxis\":{\"anchor\":\"x\",\"domain\":[0.0,0.2275],\"title\":{\"text\":\"average_house_value\"}},\"xaxis2\":{\"anchor\":\"y2\",\"domain\":[0.0,0.98],\"matches\":\"x\",\"showticklabels\":false},\"yaxis2\":{\"anchor\":\"x2\",\"domain\":[0.2575,0.485],\"matches\":\"y\",\"title\":{\"text\":\"average_house_value\"}},\"xaxis3\":{\"anchor\":\"y3\",\"domain\":[0.0,0.98],\"matches\":\"x\",\"showticklabels\":false},\"yaxis3\":{\"anchor\":\"x3\",\"domain\":[0.515,0.7425],\"matches\":\"y\",\"title\":{\"text\":\"average_house_value\"}},\"xaxis4\":{\"anchor\":\"y4\",\"domain\":[0.0,0.98],\"matches\":\"x\",\"showticklabels\":false},\"yaxis4\":{\"anchor\":\"x4\",\"domain\":[0.7725,1.0],\"matches\":\"y\",\"title\":{\"text\":\"average_house_value\"}},\"annotations\":[{\"font\":{},\"showarrow\":false,\"text\":\"year=2016\",\"textangle\":90,\"x\":0.98,\"xanchor\":\"left\",\"xref\":\"paper\",\"y\":0.11375,\"yanchor\":\"middle\",\"yref\":\"paper\"},{\"font\":{},\"showarrow\":false,\"text\":\"year=2011\",\"textangle\":90,\"x\":0.98,\"xanchor\":\"left\",\"xref\":\"paper\",\"y\":0.37124999999999997,\"yanchor\":\"middle\",\"yref\":\"paper\"},{\"font\":{},\"showarrow\":false,\"text\":\"year=2006\",\"textangle\":90,\"x\":0.98,\"xanchor\":\"left\",\"xref\":\"paper\",\"y\":0.62875,\"yanchor\":\"middle\",\"yref\":\"paper\"},{\"font\":{},\"showarrow\":false,\"text\":\"year=2001\",\"textangle\":90,\"x\":0.98,\"xanchor\":\"left\",\"xref\":\"paper\",\"y\":0.88625,\"yanchor\":\"middle\",\"yref\":\"paper\"}],\"coloraxis\":{\"colorbar\":{\"title\":{\"text\":\"average_house_value\"}},\"colorscale\":[[0.0,\"#0d0887\"],[0.1111111111111111,\"#46039f\"],[0.2222222222222222,\"#7201a8\"],[0.3333333333333333,\"#9c179e\"],[0.4444444444444444,\"#bd3786\"],[0.5555555555555556,\"#d8576b\"],[0.6666666666666666,\"#ed7953\"],[0.7777777777777778,\"#fb9f3a\"],[0.8888888888888888,\"#fdca26\"],[1.0,\"#f0f921\"]]},\"legend\":{\"tracegroupgap\":0},\"title\":{\"text\":\"Average House Values in Toronto Per Neighbourhood\"},\"barmode\":\"relative\"},                        {\"responsive\": true}                    ).then(function(){\n",
       "                            \n",
       "var gd = document.getElementById('83495522-b55c-48d5-a7b5-20826503a28e');\n",
       "var x = new MutationObserver(function (mutations, observer) {{\n",
       "        var display = window.getComputedStyle(gd).display;\n",
       "        if (!display || display === 'none') {{\n",
       "            console.log([gd, 'removed!']);\n",
       "            Plotly.purge(gd);\n",
       "            observer.disconnect();\n",
       "        }}\n",
       "}});\n",
       "\n",
       "// Listen for the removal of the full notebook cells\n",
       "var notebookContainer = gd.closest('#notebook-container');\n",
       "if (notebookContainer) {{\n",
       "    x.observe(notebookContainer, {childList: true});\n",
       "}}\n",
       "\n",
       "// Listen for the clearing of the current output cell\n",
       "var outputEl = gd.closest('.output');\n",
       "if (outputEl) {{\n",
       "    x.observe(outputEl, {childList: true});\n",
       "}}\n",
       "\n",
       "                        })                };                });            </script>        </div>"
      ]
     },
     "metadata": {},
     "output_type": "display_data"
    }
   ],
   "source": [
    "av_neighbourhood_val\n",
    "bar_facet = px.bar(\n",
    "    av_neighbourhood_val, \n",
    "    x = 'neighbourhood', \n",
    "    y = 'average_house_value', \n",
    "    color = 'average_house_value', \n",
    "    facet_row = 'year',\n",
    "    title = 'Average House Values in Toronto Per Neighbourhood')\n",
    "bar_facet.show()"
   ]
  },
  {
   "cell_type": "markdown",
   "metadata": {},
   "source": [
    "### Create a sunburst chart to conduct a costs analysis of most expensive neighbourhoods in Toronto per year"
   ]
  },
  {
   "cell_type": "code",
   "execution_count": 1092,
   "metadata": {},
   "outputs": [
    {
     "data": {
      "text/html": [
       "<div>\n",
       "<style scoped>\n",
       "    .dataframe tbody tr th:only-of-type {\n",
       "        vertical-align: middle;\n",
       "    }\n",
       "\n",
       "    .dataframe tbody tr th {\n",
       "        vertical-align: top;\n",
       "    }\n",
       "\n",
       "    .dataframe thead th {\n",
       "        text-align: right;\n",
       "    }\n",
       "</style>\n",
       "<table border=\"1\" class=\"dataframe\">\n",
       "  <thead>\n",
       "    <tr style=\"text-align: right;\">\n",
       "      <th></th>\n",
       "      <th>index</th>\n",
       "      <th>year</th>\n",
       "      <th>neighbourhood</th>\n",
       "      <th>single_detached_house</th>\n",
       "      <th>apartment_five_storeys_plus</th>\n",
       "      <th>movable_dwelling</th>\n",
       "      <th>semi_detached_house</th>\n",
       "      <th>row_house</th>\n",
       "      <th>duplex</th>\n",
       "      <th>apartment_five_storeys_less</th>\n",
       "      <th>other_house</th>\n",
       "      <th>average_house_value</th>\n",
       "      <th>shelter_costs_owned</th>\n",
       "      <th>shelter_costs_rented</th>\n",
       "    </tr>\n",
       "  </thead>\n",
       "  <tbody>\n",
       "    <tr>\n",
       "      <th>0</th>\n",
       "      <td>16</td>\n",
       "      <td>2001</td>\n",
       "      <td>Bridle Path-Sunnybrook-York Mills</td>\n",
       "      <td>2275.0</td>\n",
       "      <td>110.0</td>\n",
       "      <td>0.0</td>\n",
       "      <td>25.0</td>\n",
       "      <td>15.0</td>\n",
       "      <td>10.0</td>\n",
       "      <td>20.0</td>\n",
       "      <td>0.0</td>\n",
       "      <td>927466.0</td>\n",
       "      <td>1983.0</td>\n",
       "      <td>1790.0</td>\n",
       "    </tr>\n",
       "    <tr>\n",
       "      <th>1</th>\n",
       "      <td>44</td>\n",
       "      <td>2001</td>\n",
       "      <td>Forest Hill South</td>\n",
       "      <td>1815.0</td>\n",
       "      <td>2440.0</td>\n",
       "      <td>5.0</td>\n",
       "      <td>65.0</td>\n",
       "      <td>45.0</td>\n",
       "      <td>85.0</td>\n",
       "      <td>1010.0</td>\n",
       "      <td>15.0</td>\n",
       "      <td>726664.0</td>\n",
       "      <td>1001.0</td>\n",
       "      <td>1469.0</td>\n",
       "    </tr>\n",
       "    <tr>\n",
       "      <th>2</th>\n",
       "      <td>69</td>\n",
       "      <td>2001</td>\n",
       "      <td>Lawrence Park South</td>\n",
       "      <td>3590.0</td>\n",
       "      <td>570.0</td>\n",
       "      <td>0.0</td>\n",
       "      <td>170.0</td>\n",
       "      <td>70.0</td>\n",
       "      <td>190.0</td>\n",
       "      <td>845.0</td>\n",
       "      <td>40.0</td>\n",
       "      <td>664712.0</td>\n",
       "      <td>1021.0</td>\n",
       "      <td>1630.0</td>\n",
       "    </tr>\n",
       "    <tr>\n",
       "      <th>3</th>\n",
       "      <td>104</td>\n",
       "      <td>2001</td>\n",
       "      <td>Rosedale-Moore Park</td>\n",
       "      <td>2610.0</td>\n",
       "      <td>3880.0</td>\n",
       "      <td>0.0</td>\n",
       "      <td>520.0</td>\n",
       "      <td>225.0</td>\n",
       "      <td>290.0</td>\n",
       "      <td>1735.0</td>\n",
       "      <td>0.0</td>\n",
       "      <td>664476.0</td>\n",
       "      <td>1219.0</td>\n",
       "      <td>1540.0</td>\n",
       "    </tr>\n",
       "    <tr>\n",
       "      <th>4</th>\n",
       "      <td>111</td>\n",
       "      <td>2001</td>\n",
       "      <td>St.Andrew-Windfields</td>\n",
       "      <td>3275.0</td>\n",
       "      <td>1455.0</td>\n",
       "      <td>0.0</td>\n",
       "      <td>220.0</td>\n",
       "      <td>555.0</td>\n",
       "      <td>45.0</td>\n",
       "      <td>525.0</td>\n",
       "      <td>5.0</td>\n",
       "      <td>607040.0</td>\n",
       "      <td>1055.0</td>\n",
       "      <td>1551.0</td>\n",
       "    </tr>\n",
       "  </tbody>\n",
       "</table>\n",
       "</div>"
      ],
      "text/plain": [
       "   index  year                      neighbourhood  single_detached_house  \\\n",
       "0     16  2001  Bridle Path-Sunnybrook-York Mills                 2275.0   \n",
       "1     44  2001                  Forest Hill South                 1815.0   \n",
       "2     69  2001                Lawrence Park South                 3590.0   \n",
       "3    104  2001                Rosedale-Moore Park                 2610.0   \n",
       "4    111  2001               St.Andrew-Windfields                 3275.0   \n",
       "\n",
       "   apartment_five_storeys_plus  movable_dwelling  semi_detached_house  \\\n",
       "0                        110.0               0.0                 25.0   \n",
       "1                       2440.0               5.0                 65.0   \n",
       "2                        570.0               0.0                170.0   \n",
       "3                       3880.0               0.0                520.0   \n",
       "4                       1455.0               0.0                220.0   \n",
       "\n",
       "   row_house  duplex  apartment_five_storeys_less  other_house  \\\n",
       "0       15.0    10.0                         20.0          0.0   \n",
       "1       45.0    85.0                       1010.0         15.0   \n",
       "2       70.0   190.0                        845.0         40.0   \n",
       "3      225.0   290.0                       1735.0          0.0   \n",
       "4      555.0    45.0                        525.0          5.0   \n",
       "\n",
       "   average_house_value  shelter_costs_owned  shelter_costs_rented  \n",
       "0             927466.0               1983.0                1790.0  \n",
       "1             726664.0               1001.0                1469.0  \n",
       "2             664712.0               1021.0                1630.0  \n",
       "3             664476.0               1219.0                1540.0  \n",
       "4             607040.0               1055.0                1551.0  "
      ]
     },
     "execution_count": 1092,
     "metadata": {},
     "output_type": "execute_result"
    }
   ],
   "source": [
    "# Fetch the data from all expensive neighbourhoods per year.\n",
    "years = to_data.groupby(['year','neighbourhood']).mean().reset_index()\n",
    "year2001 = years.loc[years['year'] == 2001].nlargest(n=10, columns = ['average_house_value'])\n",
    "year2006 =  years.loc[years['year'] == 2006].nlargest(n=10, columns = ['average_house_value'])\n",
    "year2011 =  years.loc[years['year'] == 2011].nlargest(n=10, columns = ['average_house_value'])\n",
    "year2016 =  years.loc[years['year'] == 2016].nlargest(n=10, columns = ['average_house_value'])\n",
    "\n",
    "#concat df to create df of top 10 most expensive neighbourhoods across multiple years\n",
    "sunburst = pd.concat([year2001,year2006,year2011,year2016], axis = 0, join = 'inner').reset_index()\n",
    "\n",
    "sunburst.head()"
   ]
  },
  {
   "cell_type": "code",
   "execution_count": 1095,
   "metadata": {},
   "outputs": [
    {
     "data": {
      "application/vnd.plotly.v1+json": {
       "config": {
        "plotlyServerURL": "https://plot.ly"
       },
       "data": [
        {
         "branchvalues": "total",
         "customdata": [
          [
           933
          ],
          [
           1808
          ],
          [
           1988
          ],
          [
           2418
          ],
          [
           1983
          ],
          [
           2170
          ],
          [
           2387
          ],
          [
           2903
          ],
          [
           1241
          ],
          [
           1819
          ],
          [
           2001
          ],
          [
           2434
          ],
          [
           940
          ],
          [
           1731
          ],
          [
           1904
          ],
          [
           2316
          ],
          [
           1001
          ],
          [
           1781
          ],
          [
           1959
          ],
          [
           2383
          ],
          [
           1362
          ],
          [
           1625
          ],
          [
           1787
          ],
          [
           2173
          ],
          [
           1021
          ],
          [
           1977
          ],
          [
           2174
          ],
          [
           2644
          ],
          [
           1219
          ],
          [
           1868
          ],
          [
           2054
          ],
          [
           2498
          ],
          [
           1055
          ],
          [
           1881
          ],
          [
           2069
          ],
          [
           2516
          ],
          [
           1091
          ],
          [
           1638
          ],
          [
           1802
          ],
          [
           2192
          ],
          [
           1224.7502831983431
          ],
          [
           1856.058787788345
          ],
          [
           2041.3886794989783
          ],
          [
           2482.826591451349
          ]
         ],
         "domain": {
          "x": [
           0,
           1
          ],
          "y": [
           0,
           1
          ]
         },
         "hovertemplate": "labels=%{label}<br>average_house_value=%{value}<br>parent=%{parent}<br>id=%{id}<br>shelter_costs_owned=%{color}<extra></extra>",
         "ids": [
          "2001/Bedford Park-Nortown",
          "2006/Bedford Park-Nortown",
          "2011/Bedford Park-Nortown",
          "2016/Bedford Park-Nortown",
          "2001/Bridle Path-Sunnybrook-York Mills",
          "2006/Bridle Path-Sunnybrook-York Mills",
          "2011/Bridle Path-Sunnybrook-York Mills",
          "2016/Bridle Path-Sunnybrook-York Mills",
          "2001/Casa Loma",
          "2006/Casa Loma",
          "2011/Casa Loma",
          "2016/Casa Loma",
          "2001/Forest Hill North",
          "2006/Forest Hill North",
          "2011/Forest Hill North",
          "2016/Forest Hill North",
          "2001/Forest Hill South",
          "2006/Forest Hill South",
          "2011/Forest Hill South",
          "2016/Forest Hill South",
          "2001/Kingsway South",
          "2006/Kingsway South",
          "2011/Kingsway South",
          "2016/Kingsway South",
          "2001/Lawrence Park South",
          "2006/Lawrence Park South",
          "2011/Lawrence Park South",
          "2016/Lawrence Park South",
          "2001/Rosedale-Moore Park",
          "2006/Rosedale-Moore Park",
          "2011/Rosedale-Moore Park",
          "2016/Rosedale-Moore Park",
          "2001/St.Andrew-Windfields",
          "2006/St.Andrew-Windfields",
          "2011/St.Andrew-Windfields",
          "2016/St.Andrew-Windfields",
          "2001/Yonge-St.Clair",
          "2006/Yonge-St.Clair",
          "2011/Yonge-St.Clair",
          "2016/Yonge-St.Clair",
          "2001",
          "2006",
          "2011",
          "2016"
         ],
         "labels": [
          "Bedford Park-Nortown",
          "Bedford Park-Nortown",
          "Bedford Park-Nortown",
          "Bedford Park-Nortown",
          "Bridle Path-Sunnybrook-York Mills",
          "Bridle Path-Sunnybrook-York Mills",
          "Bridle Path-Sunnybrook-York Mills",
          "Bridle Path-Sunnybrook-York Mills",
          "Casa Loma",
          "Casa Loma",
          "Casa Loma",
          "Casa Loma",
          "Forest Hill North",
          "Forest Hill North",
          "Forest Hill North",
          "Forest Hill North",
          "Forest Hill South",
          "Forest Hill South",
          "Forest Hill South",
          "Forest Hill South",
          "Kingsway South",
          "Kingsway South",
          "Kingsway South",
          "Kingsway South",
          "Lawrence Park South",
          "Lawrence Park South",
          "Lawrence Park South",
          "Lawrence Park South",
          "Rosedale-Moore Park",
          "Rosedale-Moore Park",
          "Rosedale-Moore Park",
          "Rosedale-Moore Park",
          "St.Andrew-Windfields",
          "St.Andrew-Windfields",
          "St.Andrew-Windfields",
          "St.Andrew-Windfields",
          "Yonge-St.Clair",
          "Yonge-St.Clair",
          "Yonge-St.Clair",
          "Yonge-St.Clair",
          "2001",
          "2006",
          "2011",
          "2016"
         ],
         "marker": {
          "coloraxis": "coloraxis",
          "colors": [
           933,
           1808,
           1988,
           2418,
           1983,
           2170,
           2387,
           2903,
           1241,
           1819,
           2001,
           2434,
           940,
           1731,
           1904,
           2316,
           1001,
           1781,
           1959,
           2383,
           1362,
           1625,
           1787,
           2173,
           1021,
           1977,
           2174,
           2644,
           1219,
           1868,
           2054,
           2498,
           1055,
           1881,
           2069,
           2516,
           1091,
           1638,
           1802,
           2192,
           1224.7502831983431,
           1856.058787788345,
           2041.3886794989783,
           2482.826591451349
          ]
         },
         "name": "",
         "parents": [
          "2001",
          "2006",
          "2011",
          "2016",
          "2001",
          "2006",
          "2011",
          "2016",
          "2001",
          "2006",
          "2011",
          "2016",
          "2001",
          "2006",
          "2011",
          "2016",
          "2001",
          "2006",
          "2011",
          "2016",
          "2001",
          "2006",
          "2011",
          "2016",
          "2001",
          "2006",
          "2011",
          "2016",
          "2001",
          "2006",
          "2011",
          "2016",
          "2001",
          "2006",
          "2011",
          "2016",
          "2001",
          "2006",
          "2011",
          "2016",
          "",
          "",
          "",
          ""
         ],
         "type": "sunburst",
         "values": [
          565304,
          826963,
          1034387,
          1295007,
          927466,
          1356757,
          1697067,
          2124653,
          596077,
          871981,
          1090696,
          1365503,
          517466,
          756983,
          946854,
          1185419,
          726664,
          1063011,
          1329642,
          1664653,
          512334,
          749476,
          937464,
          1173663,
          664712,
          972384,
          1216283,
          1522732,
          664476,
          972039,
          1215852,
          1522193,
          607040,
          888017,
          1110755,
          1390616,
          494098,
          722799,
          904096,
          1131888,
          6275637,
          9180410,
          11483096,
          14376327
         ]
        }
       ],
       "layout": {
        "coloraxis": {
         "colorbar": {
          "title": {
           "text": "shelter_costs_owned"
          }
         },
         "colorscale": [
          [
           0,
           "#000004"
          ],
          [
           0.1111111111111111,
           "#1b0c41"
          ],
          [
           0.2222222222222222,
           "#4a0c6b"
          ],
          [
           0.3333333333333333,
           "#781c6d"
          ],
          [
           0.4444444444444444,
           "#a52c60"
          ],
          [
           0.5555555555555556,
           "#cf4446"
          ],
          [
           0.6666666666666666,
           "#ed6925"
          ],
          [
           0.7777777777777778,
           "#fb9b06"
          ],
          [
           0.8888888888888888,
           "#f7d13d"
          ],
          [
           1,
           "#fcffa4"
          ]
         ]
        },
        "height": 500,
        "legend": {
         "tracegroupgap": 0
        },
        "template": {
         "data": {
          "bar": [
           {
            "error_x": {
             "color": "#2a3f5f"
            },
            "error_y": {
             "color": "#2a3f5f"
            },
            "marker": {
             "line": {
              "color": "#E5ECF6",
              "width": 0.5
             },
             "pattern": {
              "fillmode": "overlay",
              "size": 10,
              "solidity": 0.2
             }
            },
            "type": "bar"
           }
          ],
          "barpolar": [
           {
            "marker": {
             "line": {
              "color": "#E5ECF6",
              "width": 0.5
             },
             "pattern": {
              "fillmode": "overlay",
              "size": 10,
              "solidity": 0.2
             }
            },
            "type": "barpolar"
           }
          ],
          "carpet": [
           {
            "aaxis": {
             "endlinecolor": "#2a3f5f",
             "gridcolor": "white",
             "linecolor": "white",
             "minorgridcolor": "white",
             "startlinecolor": "#2a3f5f"
            },
            "baxis": {
             "endlinecolor": "#2a3f5f",
             "gridcolor": "white",
             "linecolor": "white",
             "minorgridcolor": "white",
             "startlinecolor": "#2a3f5f"
            },
            "type": "carpet"
           }
          ],
          "choropleth": [
           {
            "colorbar": {
             "outlinewidth": 0,
             "ticks": ""
            },
            "type": "choropleth"
           }
          ],
          "contour": [
           {
            "colorbar": {
             "outlinewidth": 0,
             "ticks": ""
            },
            "colorscale": [
             [
              0,
              "#0d0887"
             ],
             [
              0.1111111111111111,
              "#46039f"
             ],
             [
              0.2222222222222222,
              "#7201a8"
             ],
             [
              0.3333333333333333,
              "#9c179e"
             ],
             [
              0.4444444444444444,
              "#bd3786"
             ],
             [
              0.5555555555555556,
              "#d8576b"
             ],
             [
              0.6666666666666666,
              "#ed7953"
             ],
             [
              0.7777777777777778,
              "#fb9f3a"
             ],
             [
              0.8888888888888888,
              "#fdca26"
             ],
             [
              1,
              "#f0f921"
             ]
            ],
            "type": "contour"
           }
          ],
          "contourcarpet": [
           {
            "colorbar": {
             "outlinewidth": 0,
             "ticks": ""
            },
            "type": "contourcarpet"
           }
          ],
          "heatmap": [
           {
            "colorbar": {
             "outlinewidth": 0,
             "ticks": ""
            },
            "colorscale": [
             [
              0,
              "#0d0887"
             ],
             [
              0.1111111111111111,
              "#46039f"
             ],
             [
              0.2222222222222222,
              "#7201a8"
             ],
             [
              0.3333333333333333,
              "#9c179e"
             ],
             [
              0.4444444444444444,
              "#bd3786"
             ],
             [
              0.5555555555555556,
              "#d8576b"
             ],
             [
              0.6666666666666666,
              "#ed7953"
             ],
             [
              0.7777777777777778,
              "#fb9f3a"
             ],
             [
              0.8888888888888888,
              "#fdca26"
             ],
             [
              1,
              "#f0f921"
             ]
            ],
            "type": "heatmap"
           }
          ],
          "heatmapgl": [
           {
            "colorbar": {
             "outlinewidth": 0,
             "ticks": ""
            },
            "colorscale": [
             [
              0,
              "#0d0887"
             ],
             [
              0.1111111111111111,
              "#46039f"
             ],
             [
              0.2222222222222222,
              "#7201a8"
             ],
             [
              0.3333333333333333,
              "#9c179e"
             ],
             [
              0.4444444444444444,
              "#bd3786"
             ],
             [
              0.5555555555555556,
              "#d8576b"
             ],
             [
              0.6666666666666666,
              "#ed7953"
             ],
             [
              0.7777777777777778,
              "#fb9f3a"
             ],
             [
              0.8888888888888888,
              "#fdca26"
             ],
             [
              1,
              "#f0f921"
             ]
            ],
            "type": "heatmapgl"
           }
          ],
          "histogram": [
           {
            "marker": {
             "pattern": {
              "fillmode": "overlay",
              "size": 10,
              "solidity": 0.2
             }
            },
            "type": "histogram"
           }
          ],
          "histogram2d": [
           {
            "colorbar": {
             "outlinewidth": 0,
             "ticks": ""
            },
            "colorscale": [
             [
              0,
              "#0d0887"
             ],
             [
              0.1111111111111111,
              "#46039f"
             ],
             [
              0.2222222222222222,
              "#7201a8"
             ],
             [
              0.3333333333333333,
              "#9c179e"
             ],
             [
              0.4444444444444444,
              "#bd3786"
             ],
             [
              0.5555555555555556,
              "#d8576b"
             ],
             [
              0.6666666666666666,
              "#ed7953"
             ],
             [
              0.7777777777777778,
              "#fb9f3a"
             ],
             [
              0.8888888888888888,
              "#fdca26"
             ],
             [
              1,
              "#f0f921"
             ]
            ],
            "type": "histogram2d"
           }
          ],
          "histogram2dcontour": [
           {
            "colorbar": {
             "outlinewidth": 0,
             "ticks": ""
            },
            "colorscale": [
             [
              0,
              "#0d0887"
             ],
             [
              0.1111111111111111,
              "#46039f"
             ],
             [
              0.2222222222222222,
              "#7201a8"
             ],
             [
              0.3333333333333333,
              "#9c179e"
             ],
             [
              0.4444444444444444,
              "#bd3786"
             ],
             [
              0.5555555555555556,
              "#d8576b"
             ],
             [
              0.6666666666666666,
              "#ed7953"
             ],
             [
              0.7777777777777778,
              "#fb9f3a"
             ],
             [
              0.8888888888888888,
              "#fdca26"
             ],
             [
              1,
              "#f0f921"
             ]
            ],
            "type": "histogram2dcontour"
           }
          ],
          "mesh3d": [
           {
            "colorbar": {
             "outlinewidth": 0,
             "ticks": ""
            },
            "type": "mesh3d"
           }
          ],
          "parcoords": [
           {
            "line": {
             "colorbar": {
              "outlinewidth": 0,
              "ticks": ""
             }
            },
            "type": "parcoords"
           }
          ],
          "pie": [
           {
            "automargin": true,
            "type": "pie"
           }
          ],
          "scatter": [
           {
            "marker": {
             "colorbar": {
              "outlinewidth": 0,
              "ticks": ""
             }
            },
            "type": "scatter"
           }
          ],
          "scatter3d": [
           {
            "line": {
             "colorbar": {
              "outlinewidth": 0,
              "ticks": ""
             }
            },
            "marker": {
             "colorbar": {
              "outlinewidth": 0,
              "ticks": ""
             }
            },
            "type": "scatter3d"
           }
          ],
          "scattercarpet": [
           {
            "marker": {
             "colorbar": {
              "outlinewidth": 0,
              "ticks": ""
             }
            },
            "type": "scattercarpet"
           }
          ],
          "scattergeo": [
           {
            "marker": {
             "colorbar": {
              "outlinewidth": 0,
              "ticks": ""
             }
            },
            "type": "scattergeo"
           }
          ],
          "scattergl": [
           {
            "marker": {
             "colorbar": {
              "outlinewidth": 0,
              "ticks": ""
             }
            },
            "type": "scattergl"
           }
          ],
          "scattermapbox": [
           {
            "marker": {
             "colorbar": {
              "outlinewidth": 0,
              "ticks": ""
             }
            },
            "type": "scattermapbox"
           }
          ],
          "scatterpolar": [
           {
            "marker": {
             "colorbar": {
              "outlinewidth": 0,
              "ticks": ""
             }
            },
            "type": "scatterpolar"
           }
          ],
          "scatterpolargl": [
           {
            "marker": {
             "colorbar": {
              "outlinewidth": 0,
              "ticks": ""
             }
            },
            "type": "scatterpolargl"
           }
          ],
          "scatterternary": [
           {
            "marker": {
             "colorbar": {
              "outlinewidth": 0,
              "ticks": ""
             }
            },
            "type": "scatterternary"
           }
          ],
          "surface": [
           {
            "colorbar": {
             "outlinewidth": 0,
             "ticks": ""
            },
            "colorscale": [
             [
              0,
              "#0d0887"
             ],
             [
              0.1111111111111111,
              "#46039f"
             ],
             [
              0.2222222222222222,
              "#7201a8"
             ],
             [
              0.3333333333333333,
              "#9c179e"
             ],
             [
              0.4444444444444444,
              "#bd3786"
             ],
             [
              0.5555555555555556,
              "#d8576b"
             ],
             [
              0.6666666666666666,
              "#ed7953"
             ],
             [
              0.7777777777777778,
              "#fb9f3a"
             ],
             [
              0.8888888888888888,
              "#fdca26"
             ],
             [
              1,
              "#f0f921"
             ]
            ],
            "type": "surface"
           }
          ],
          "table": [
           {
            "cells": {
             "fill": {
              "color": "#EBF0F8"
             },
             "line": {
              "color": "white"
             }
            },
            "header": {
             "fill": {
              "color": "#C8D4E3"
             },
             "line": {
              "color": "white"
             }
            },
            "type": "table"
           }
          ]
         },
         "layout": {
          "annotationdefaults": {
           "arrowcolor": "#2a3f5f",
           "arrowhead": 0,
           "arrowwidth": 1
          },
          "autotypenumbers": "strict",
          "coloraxis": {
           "colorbar": {
            "outlinewidth": 0,
            "ticks": ""
           }
          },
          "colorscale": {
           "diverging": [
            [
             0,
             "#8e0152"
            ],
            [
             0.1,
             "#c51b7d"
            ],
            [
             0.2,
             "#de77ae"
            ],
            [
             0.3,
             "#f1b6da"
            ],
            [
             0.4,
             "#fde0ef"
            ],
            [
             0.5,
             "#f7f7f7"
            ],
            [
             0.6,
             "#e6f5d0"
            ],
            [
             0.7,
             "#b8e186"
            ],
            [
             0.8,
             "#7fbc41"
            ],
            [
             0.9,
             "#4d9221"
            ],
            [
             1,
             "#276419"
            ]
           ],
           "sequential": [
            [
             0,
             "#0d0887"
            ],
            [
             0.1111111111111111,
             "#46039f"
            ],
            [
             0.2222222222222222,
             "#7201a8"
            ],
            [
             0.3333333333333333,
             "#9c179e"
            ],
            [
             0.4444444444444444,
             "#bd3786"
            ],
            [
             0.5555555555555556,
             "#d8576b"
            ],
            [
             0.6666666666666666,
             "#ed7953"
            ],
            [
             0.7777777777777778,
             "#fb9f3a"
            ],
            [
             0.8888888888888888,
             "#fdca26"
            ],
            [
             1,
             "#f0f921"
            ]
           ],
           "sequentialminus": [
            [
             0,
             "#0d0887"
            ],
            [
             0.1111111111111111,
             "#46039f"
            ],
            [
             0.2222222222222222,
             "#7201a8"
            ],
            [
             0.3333333333333333,
             "#9c179e"
            ],
            [
             0.4444444444444444,
             "#bd3786"
            ],
            [
             0.5555555555555556,
             "#d8576b"
            ],
            [
             0.6666666666666666,
             "#ed7953"
            ],
            [
             0.7777777777777778,
             "#fb9f3a"
            ],
            [
             0.8888888888888888,
             "#fdca26"
            ],
            [
             1,
             "#f0f921"
            ]
           ]
          },
          "colorway": [
           "#636efa",
           "#EF553B",
           "#00cc96",
           "#ab63fa",
           "#FFA15A",
           "#19d3f3",
           "#FF6692",
           "#B6E880",
           "#FF97FF",
           "#FECB52"
          ],
          "font": {
           "color": "#2a3f5f"
          },
          "geo": {
           "bgcolor": "white",
           "lakecolor": "white",
           "landcolor": "#E5ECF6",
           "showlakes": true,
           "showland": true,
           "subunitcolor": "white"
          },
          "hoverlabel": {
           "align": "left"
          },
          "hovermode": "closest",
          "mapbox": {
           "style": "light"
          },
          "paper_bgcolor": "white",
          "plot_bgcolor": "#E5ECF6",
          "polar": {
           "angularaxis": {
            "gridcolor": "white",
            "linecolor": "white",
            "ticks": ""
           },
           "bgcolor": "#E5ECF6",
           "radialaxis": {
            "gridcolor": "white",
            "linecolor": "white",
            "ticks": ""
           }
          },
          "scene": {
           "xaxis": {
            "backgroundcolor": "#E5ECF6",
            "gridcolor": "white",
            "gridwidth": 2,
            "linecolor": "white",
            "showbackground": true,
            "ticks": "",
            "zerolinecolor": "white"
           },
           "yaxis": {
            "backgroundcolor": "#E5ECF6",
            "gridcolor": "white",
            "gridwidth": 2,
            "linecolor": "white",
            "showbackground": true,
            "ticks": "",
            "zerolinecolor": "white"
           },
           "zaxis": {
            "backgroundcolor": "#E5ECF6",
            "gridcolor": "white",
            "gridwidth": 2,
            "linecolor": "white",
            "showbackground": true,
            "ticks": "",
            "zerolinecolor": "white"
           }
          },
          "shapedefaults": {
           "line": {
            "color": "#2a3f5f"
           }
          },
          "ternary": {
           "aaxis": {
            "gridcolor": "white",
            "linecolor": "white",
            "ticks": ""
           },
           "baxis": {
            "gridcolor": "white",
            "linecolor": "white",
            "ticks": ""
           },
           "bgcolor": "#E5ECF6",
           "caxis": {
            "gridcolor": "white",
            "linecolor": "white",
            "ticks": ""
           }
          },
          "title": {
           "x": 0.05
          },
          "xaxis": {
           "automargin": true,
           "gridcolor": "white",
           "linecolor": "white",
           "ticks": "",
           "title": {
            "standoff": 15
           },
           "zerolinecolor": "white",
           "zerolinewidth": 2
          },
          "yaxis": {
           "automargin": true,
           "gridcolor": "white",
           "linecolor": "white",
           "ticks": "",
           "title": {
            "standoff": 15
           },
           "zerolinecolor": "white",
           "zerolinewidth": 2
          }
         }
        },
        "title": {
         "text": "Cost Analysis of Most Expensive Neighbourhoods in Toronto"
        },
        "width": 750
       }
      },
      "image/png": "[encoded data removed]",
      "text/html": [
       "<div>                            <div id=\"e6186f50-2478-4a3b-b6a7-beeba14a6fcd\" class=\"plotly-graph-div\" style=\"height:500px; width:750px;\"></div>            <script type=\"text/javascript\">                require([\"plotly\"], function(Plotly) {                    window.PLOTLYENV=window.PLOTLYENV || {};                                    if (document.getElementById(\"e6186f50-2478-4a3b-b6a7-beeba14a6fcd\")) {                    Plotly.newPlot(                        \"e6186f50-2478-4a3b-b6a7-beeba14a6fcd\",                        [{\"branchvalues\":\"total\",\"customdata\":[[933.0],[1808.0],[1988.0],[2418.0],[1983.0],[2170.0],[2387.0],[2903.0],[1241.0],[1819.0],[2001.0],[2434.0],[940.0],[1731.0],[1904.0],[2316.0],[1001.0],[1781.0],[1959.0],[2383.0],[1362.0],[1625.0],[1787.0],[2173.0],[1021.0],[1977.0],[2174.0],[2644.0],[1219.0],[1868.0],[2054.0],[2498.0],[1055.0],[1881.0],[2069.0],[2516.0],[1091.0],[1638.0],[1802.0],[2192.0],[1224.7502831983431],[1856.058787788345],[2041.3886794989783],[2482.826591451349]],\"domain\":{\"x\":[0.0,1.0],\"y\":[0.0,1.0]},\"hovertemplate\":\"labels=%{label}<br>average_house_value=%{value}<br>parent=%{parent}<br>id=%{id}<br>shelter_costs_owned=%{color}<extra></extra>\",\"ids\":[\"2001/Bedford Park-Nortown\",\"2006/Bedford Park-Nortown\",\"2011/Bedford Park-Nortown\",\"2016/Bedford Park-Nortown\",\"2001/Bridle Path-Sunnybrook-York Mills\",\"2006/Bridle Path-Sunnybrook-York Mills\",\"2011/Bridle Path-Sunnybrook-York Mills\",\"2016/Bridle Path-Sunnybrook-York Mills\",\"2001/Casa Loma\",\"2006/Casa Loma\",\"2011/Casa Loma\",\"2016/Casa Loma\",\"2001/Forest Hill North\",\"2006/Forest Hill North\",\"2011/Forest Hill North\",\"2016/Forest Hill North\",\"2001/Forest Hill South\",\"2006/Forest Hill South\",\"2011/Forest Hill South\",\"2016/Forest Hill South\",\"2001/Kingsway South\",\"2006/Kingsway South\",\"2011/Kingsway South\",\"2016/Kingsway South\",\"2001/Lawrence Park South\",\"2006/Lawrence Park South\",\"2011/Lawrence Park South\",\"2016/Lawrence Park South\",\"2001/Rosedale-Moore Park\",\"2006/Rosedale-Moore Park\",\"2011/Rosedale-Moore Park\",\"2016/Rosedale-Moore Park\",\"2001/St.Andrew-Windfields\",\"2006/St.Andrew-Windfields\",\"2011/St.Andrew-Windfields\",\"2016/St.Andrew-Windfields\",\"2001/Yonge-St.Clair\",\"2006/Yonge-St.Clair\",\"2011/Yonge-St.Clair\",\"2016/Yonge-St.Clair\",\"2001\",\"2006\",\"2011\",\"2016\"],\"labels\":[\"Bedford Park-Nortown\",\"Bedford Park-Nortown\",\"Bedford Park-Nortown\",\"Bedford Park-Nortown\",\"Bridle Path-Sunnybrook-York Mills\",\"Bridle Path-Sunnybrook-York Mills\",\"Bridle Path-Sunnybrook-York Mills\",\"Bridle Path-Sunnybrook-York Mills\",\"Casa Loma\",\"Casa Loma\",\"Casa Loma\",\"Casa Loma\",\"Forest Hill North\",\"Forest Hill North\",\"Forest Hill North\",\"Forest Hill North\",\"Forest Hill South\",\"Forest Hill South\",\"Forest Hill South\",\"Forest Hill South\",\"Kingsway South\",\"Kingsway South\",\"Kingsway South\",\"Kingsway South\",\"Lawrence Park South\",\"Lawrence Park South\",\"Lawrence Park South\",\"Lawrence Park South\",\"Rosedale-Moore Park\",\"Rosedale-Moore Park\",\"Rosedale-Moore Park\",\"Rosedale-Moore Park\",\"St.Andrew-Windfields\",\"St.Andrew-Windfields\",\"St.Andrew-Windfields\",\"St.Andrew-Windfields\",\"Yonge-St.Clair\",\"Yonge-St.Clair\",\"Yonge-St.Clair\",\"Yonge-St.Clair\",\"2001\",\"2006\",\"2011\",\"2016\"],\"marker\":{\"coloraxis\":\"coloraxis\",\"colors\":[933.0,1808.0,1988.0,2418.0,1983.0,2170.0,2387.0,2903.0,1241.0,1819.0,2001.0,2434.0,940.0,1731.0,1904.0,2316.0,1001.0,1781.0,1959.0,2383.0,1362.0,1625.0,1787.0,2173.0,1021.0,1977.0,2174.0,2644.0,1219.0,1868.0,2054.0,2498.0,1055.0,1881.0,2069.0,2516.0,1091.0,1638.0,1802.0,2192.0,1224.7502831983431,1856.058787788345,2041.3886794989783,2482.826591451349]},\"name\":\"\",\"parents\":[\"2001\",\"2006\",\"2011\",\"2016\",\"2001\",\"2006\",\"2011\",\"2016\",\"2001\",\"2006\",\"2011\",\"2016\",\"2001\",\"2006\",\"2011\",\"2016\",\"2001\",\"2006\",\"2011\",\"2016\",\"2001\",\"2006\",\"2011\",\"2016\",\"2001\",\"2006\",\"2011\",\"2016\",\"2001\",\"2006\",\"2011\",\"2016\",\"2001\",\"2006\",\"2011\",\"2016\",\"2001\",\"2006\",\"2011\",\"2016\",\"\",\"\",\"\",\"\"],\"values\":[565304.0,826963.0,1034387.0,1295007.0,927466.0,1356757.0,1697067.0,2124653.0,596077.0,871981.0,1090696.0,1365503.0,517466.0,756983.0,946854.0,1185419.0,726664.0,1063011.0,1329642.0,1664653.0,512334.0,749476.0,937464.0,1173663.0,664712.0,972384.0,1216283.0,1522732.0,664476.0,972039.0,1215852.0,1522193.0,607040.0,888017.0,1110755.0,1390616.0,494098.0,722799.0,904096.0,1131888.0,6275637.0,9180410.0,11483096.0,14376327.0],\"type\":\"sunburst\"}],                        {\"template\":{\"data\":{\"bar\":[{\"error_x\":{\"color\":\"#2a3f5f\"},\"error_y\":{\"color\":\"#2a3f5f\"},\"marker\":{\"line\":{\"color\":\"#E5ECF6\",\"width\":0.5},\"pattern\":{\"fillmode\":\"overlay\",\"size\":10,\"solidity\":0.2}},\"type\":\"bar\"}],\"barpolar\":[{\"marker\":{\"line\":{\"color\":\"#E5ECF6\",\"width\":0.5},\"pattern\":{\"fillmode\":\"overlay\",\"size\":10,\"solidity\":0.2}},\"type\":\"barpolar\"}],\"carpet\":[{\"aaxis\":{\"endlinecolor\":\"#2a3f5f\",\"gridcolor\":\"white\",\"linecolor\":\"white\",\"minorgridcolor\":\"white\",\"startlinecolor\":\"#2a3f5f\"},\"baxis\":{\"endlinecolor\":\"#2a3f5f\",\"gridcolor\":\"white\",\"linecolor\":\"white\",\"minorgridcolor\":\"white\",\"startlinecolor\":\"#2a3f5f\"},\"type\":\"carpet\"}],\"choropleth\":[{\"colorbar\":{\"outlinewidth\":0,\"ticks\":\"\"},\"type\":\"choropleth\"}],\"contour\":[{\"colorbar\":{\"outlinewidth\":0,\"ticks\":\"\"},\"colorscale\":[[0.0,\"#0d0887\"],[0.1111111111111111,\"#46039f\"],[0.2222222222222222,\"#7201a8\"],[0.3333333333333333,\"#9c179e\"],[0.4444444444444444,\"#bd3786\"],[0.5555555555555556,\"#d8576b\"],[0.6666666666666666,\"#ed7953\"],[0.7777777777777778,\"#fb9f3a\"],[0.8888888888888888,\"#fdca26\"],[1.0,\"#f0f921\"]],\"type\":\"contour\"}],\"contourcarpet\":[{\"colorbar\":{\"outlinewidth\":0,\"ticks\":\"\"},\"type\":\"contourcarpet\"}],\"heatmap\":[{\"colorbar\":{\"outlinewidth\":0,\"ticks\":\"\"},\"colorscale\":[[0.0,\"#0d0887\"],[0.1111111111111111,\"#46039f\"],[0.2222222222222222,\"#7201a8\"],[0.3333333333333333,\"#9c179e\"],[0.4444444444444444,\"#bd3786\"],[0.5555555555555556,\"#d8576b\"],[0.6666666666666666,\"#ed7953\"],[0.7777777777777778,\"#fb9f3a\"],[0.8888888888888888,\"#fdca26\"],[1.0,\"#f0f921\"]],\"type\":\"heatmap\"}],\"heatmapgl\":[{\"colorbar\":{\"outlinewidth\":0,\"ticks\":\"\"},\"colorscale\":[[0.0,\"#0d0887\"],[0.1111111111111111,\"#46039f\"],[0.2222222222222222,\"#7201a8\"],[0.3333333333333333,\"#9c179e\"],[0.4444444444444444,\"#bd3786\"],[0.5555555555555556,\"#d8576b\"],[0.6666666666666666,\"#ed7953\"],[0.7777777777777778,\"#fb9f3a\"],[0.8888888888888888,\"#fdca26\"],[1.0,\"#f0f921\"]],\"type\":\"heatmapgl\"}],\"histogram\":[{\"marker\":{\"pattern\":{\"fillmode\":\"overlay\",\"size\":10,\"solidity\":0.2}},\"type\":\"histogram\"}],\"histogram2d\":[{\"colorbar\":{\"outlinewidth\":0,\"ticks\":\"\"},\"colorscale\":[[0.0,\"#0d0887\"],[0.1111111111111111,\"#46039f\"],[0.2222222222222222,\"#7201a8\"],[0.3333333333333333,\"#9c179e\"],[0.4444444444444444,\"#bd3786\"],[0.5555555555555556,\"#d8576b\"],[0.6666666666666666,\"#ed7953\"],[0.7777777777777778,\"#fb9f3a\"],[0.8888888888888888,\"#fdca26\"],[1.0,\"#f0f921\"]],\"type\":\"histogram2d\"}],\"histogram2dcontour\":[{\"colorbar\":{\"outlinewidth\":0,\"ticks\":\"\"},\"colorscale\":[[0.0,\"#0d0887\"],[0.1111111111111111,\"#46039f\"],[0.2222222222222222,\"#7201a8\"],[0.3333333333333333,\"#9c179e\"],[0.4444444444444444,\"#bd3786\"],[0.5555555555555556,\"#d8576b\"],[0.6666666666666666,\"#ed7953\"],[0.7777777777777778,\"#fb9f3a\"],[0.8888888888888888,\"#fdca26\"],[1.0,\"#f0f921\"]],\"type\":\"histogram2dcontour\"}],\"mesh3d\":[{\"colorbar\":{\"outlinewidth\":0,\"ticks\":\"\"},\"type\":\"mesh3d\"}],\"parcoords\":[{\"line\":{\"colorbar\":{\"outlinewidth\":0,\"ticks\":\"\"}},\"type\":\"parcoords\"}],\"pie\":[{\"automargin\":true,\"type\":\"pie\"}],\"scatter\":[{\"marker\":{\"colorbar\":{\"outlinewidth\":0,\"ticks\":\"\"}},\"type\":\"scatter\"}],\"scatter3d\":[{\"line\":{\"colorbar\":{\"outlinewidth\":0,\"ticks\":\"\"}},\"marker\":{\"colorbar\":{\"outlinewidth\":0,\"ticks\":\"\"}},\"type\":\"scatter3d\"}],\"scattercarpet\":[{\"marker\":{\"colorbar\":{\"outlinewidth\":0,\"ticks\":\"\"}},\"type\":\"scattercarpet\"}],\"scattergeo\":[{\"marker\":{\"colorbar\":{\"outlinewidth\":0,\"ticks\":\"\"}},\"type\":\"scattergeo\"}],\"scattergl\":[{\"marker\":{\"colorbar\":{\"outlinewidth\":0,\"ticks\":\"\"}},\"type\":\"scattergl\"}],\"scattermapbox\":[{\"marker\":{\"colorbar\":{\"outlinewidth\":0,\"ticks\":\"\"}},\"type\":\"scattermapbox\"}],\"scatterpolar\":[{\"marker\":{\"colorbar\":{\"outlinewidth\":0,\"ticks\":\"\"}},\"type\":\"scatterpolar\"}],\"scatterpolargl\":[{\"marker\":{\"colorbar\":{\"outlinewidth\":0,\"ticks\":\"\"}},\"type\":\"scatterpolargl\"}],\"scatterternary\":[{\"marker\":{\"colorbar\":{\"outlinewidth\":0,\"ticks\":\"\"}},\"type\":\"scatterternary\"}],\"surface\":[{\"colorbar\":{\"outlinewidth\":0,\"ticks\":\"\"},\"colorscale\":[[0.0,\"#0d0887\"],[0.1111111111111111,\"#46039f\"],[0.2222222222222222,\"#7201a8\"],[0.3333333333333333,\"#9c179e\"],[0.4444444444444444,\"#bd3786\"],[0.5555555555555556,\"#d8576b\"],[0.6666666666666666,\"#ed7953\"],[0.7777777777777778,\"#fb9f3a\"],[0.8888888888888888,\"#fdca26\"],[1.0,\"#f0f921\"]],\"type\":\"surface\"}],\"table\":[{\"cells\":{\"fill\":{\"color\":\"#EBF0F8\"},\"line\":{\"color\":\"white\"}},\"header\":{\"fill\":{\"color\":\"#C8D4E3\"},\"line\":{\"color\":\"white\"}},\"type\":\"table\"}]},\"layout\":{\"annotationdefaults\":{\"arrowcolor\":\"#2a3f5f\",\"arrowhead\":0,\"arrowwidth\":1},\"autotypenumbers\":\"strict\",\"coloraxis\":{\"colorbar\":{\"outlinewidth\":0,\"ticks\":\"\"}},\"colorscale\":{\"diverging\":[[0,\"#8e0152\"],[0.1,\"#c51b7d\"],[0.2,\"#de77ae\"],[0.3,\"#f1b6da\"],[0.4,\"#fde0ef\"],[0.5,\"#f7f7f7\"],[0.6,\"#e6f5d0\"],[0.7,\"#b8e186\"],[0.8,\"#7fbc41\"],[0.9,\"#4d9221\"],[1,\"#276419\"]],\"sequential\":[[0.0,\"#0d0887\"],[0.1111111111111111,\"#46039f\"],[0.2222222222222222,\"#7201a8\"],[0.3333333333333333,\"#9c179e\"],[0.4444444444444444,\"#bd3786\"],[0.5555555555555556,\"#d8576b\"],[0.6666666666666666,\"#ed7953\"],[0.7777777777777778,\"#fb9f3a\"],[0.8888888888888888,\"#fdca26\"],[1.0,\"#f0f921\"]],\"sequentialminus\":[[0.0,\"#0d0887\"],[0.1111111111111111,\"#46039f\"],[0.2222222222222222,\"#7201a8\"],[0.3333333333333333,\"#9c179e\"],[0.4444444444444444,\"#bd3786\"],[0.5555555555555556,\"#d8576b\"],[0.6666666666666666,\"#ed7953\"],[0.7777777777777778,\"#fb9f3a\"],[0.8888888888888888,\"#fdca26\"],[1.0,\"#f0f921\"]]},\"colorway\":[\"#636efa\",\"#EF553B\",\"#00cc96\",\"#ab63fa\",\"#FFA15A\",\"#19d3f3\",\"#FF6692\",\"#B6E880\",\"#FF97FF\",\"#FECB52\"],\"font\":{\"color\":\"#2a3f5f\"},\"geo\":{\"bgcolor\":\"white\",\"lakecolor\":\"white\",\"landcolor\":\"#E5ECF6\",\"showlakes\":true,\"showland\":true,\"subunitcolor\":\"white\"},\"hoverlabel\":{\"align\":\"left\"},\"hovermode\":\"closest\",\"mapbox\":{\"style\":\"light\"},\"paper_bgcolor\":\"white\",\"plot_bgcolor\":\"#E5ECF6\",\"polar\":{\"angularaxis\":{\"gridcolor\":\"white\",\"linecolor\":\"white\",\"ticks\":\"\"},\"bgcolor\":\"#E5ECF6\",\"radialaxis\":{\"gridcolor\":\"white\",\"linecolor\":\"white\",\"ticks\":\"\"}},\"scene\":{\"xaxis\":{\"backgroundcolor\":\"#E5ECF6\",\"gridcolor\":\"white\",\"gridwidth\":2,\"linecolor\":\"white\",\"showbackground\":true,\"ticks\":\"\",\"zerolinecolor\":\"white\"},\"yaxis\":{\"backgroundcolor\":\"#E5ECF6\",\"gridcolor\":\"white\",\"gridwidth\":2,\"linecolor\":\"white\",\"showbackground\":true,\"ticks\":\"\",\"zerolinecolor\":\"white\"},\"zaxis\":{\"backgroundcolor\":\"#E5ECF6\",\"gridcolor\":\"white\",\"gridwidth\":2,\"linecolor\":\"white\",\"showbackground\":true,\"ticks\":\"\",\"zerolinecolor\":\"white\"}},\"shapedefaults\":{\"line\":{\"color\":\"#2a3f5f\"}},\"ternary\":{\"aaxis\":{\"gridcolor\":\"white\",\"linecolor\":\"white\",\"ticks\":\"\"},\"baxis\":{\"gridcolor\":\"white\",\"linecolor\":\"white\",\"ticks\":\"\"},\"bgcolor\":\"#E5ECF6\",\"caxis\":{\"gridcolor\":\"white\",\"linecolor\":\"white\",\"ticks\":\"\"}},\"title\":{\"x\":0.05},\"xaxis\":{\"automargin\":true,\"gridcolor\":\"white\",\"linecolor\":\"white\",\"ticks\":\"\",\"title\":{\"standoff\":15},\"zerolinecolor\":\"white\",\"zerolinewidth\":2},\"yaxis\":{\"automargin\":true,\"gridcolor\":\"white\",\"linecolor\":\"white\",\"ticks\":\"\",\"title\":{\"standoff\":15},\"zerolinecolor\":\"white\",\"zerolinewidth\":2}}},\"coloraxis\":{\"colorbar\":{\"title\":{\"text\":\"shelter_costs_owned\"}},\"colorscale\":[[0.0,\"#000004\"],[0.1111111111111111,\"#1b0c41\"],[0.2222222222222222,\"#4a0c6b\"],[0.3333333333333333,\"#781c6d\"],[0.4444444444444444,\"#a52c60\"],[0.5555555555555556,\"#cf4446\"],[0.6666666666666666,\"#ed6925\"],[0.7777777777777778,\"#fb9b06\"],[0.8888888888888888,\"#f7d13d\"],[1.0,\"#fcffa4\"]]},\"legend\":{\"tracegroupgap\":0},\"title\":{\"text\":\"Cost Analysis of Most Expensive Neighbourhoods in Toronto\"},\"height\":500,\"width\":750},                        {\"responsive\": true}                    ).then(function(){\n",
       "                            \n",
       "var gd = document.getElementById('e6186f50-2478-4a3b-b6a7-beeba14a6fcd');\n",
       "var x = new MutationObserver(function (mutations, observer) {{\n",
       "        var display = window.getComputedStyle(gd).display;\n",
       "        if (!display || display === 'none') {{\n",
       "            console.log([gd, 'removed!']);\n",
       "            Plotly.purge(gd);\n",
       "            observer.disconnect();\n",
       "        }}\n",
       "}});\n",
       "\n",
       "// Listen for the removal of the full notebook cells\n",
       "var notebookContainer = gd.closest('#notebook-container');\n",
       "if (notebookContainer) {{\n",
       "    x.observe(notebookContainer, {childList: true});\n",
       "}}\n",
       "\n",
       "// Listen for the clearing of the current output cell\n",
       "var outputEl = gd.closest('.output');\n",
       "if (outputEl) {{\n",
       "    x.observe(outputEl, {childList: true});\n",
       "}}\n",
       "\n",
       "                        })                };                });            </script>        </div>"
      ]
     },
     "metadata": {},
     "output_type": "display_data"
    }
   ],
   "source": [
    "#create sunburst chart\n",
    "fig = px.sunburst(sunburst,\n",
    "                path =['year','neighbourhood'],\n",
    "                values = 'average_house_value',\n",
    "                color = 'shelter_costs_owned',\n",
    "                color_continuous_scale = 'Inferno',\n",
    "                width = 750,\n",
    "                height = 500,\n",
    "                title = 'Cost Analysis of Most Expensive Neighbourhoods in Toronto')\n",
    "fig"
   ]
  }
 ],
 "metadata": {
  "file_extension": ".py",
  "kernelspec": {
   "display_name": "Python [conda env:pyvizenv] *",
   "language": "python",
   "name": "conda-env-pyvizenv-py"
  },
  "language_info": {
   "codemirror_mode": {
    "name": "ipython",
    "version": 3
   },
   "file_extension": ".py",
   "mimetype": "text/x-python",
   "name": "python",
   "nbconvert_exporter": "python",
   "pygments_lexer": "ipython3",
   "version": "3.7.11"
  },
  "mimetype": "text/x-python",
  "name": "python",
  "npconvert_exporter": "python",
  "pygments_lexer": "ipython3",
  "version": 3
 },
 "nbformat": 4,
 "nbformat_minor": 4
}
